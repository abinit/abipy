{
  "cells": [
    {
      "cell_type": "code",
      "execution_count": null,
      "metadata": {
        "collapsed": false
      },
      "outputs": [],
      "source": [
        "%matplotlib inline"
      ]
    },
    {
      "cell_type": "markdown",
      "metadata": {},
      "source": [
        "\n# Starting a Flow from external files\n\nThis example shows how to build a flow for Nscf calculations\nin which the dependency is given by an external density file.\n"
      ]
    },
    {
      "cell_type": "code",
      "execution_count": null,
      "metadata": {
        "collapsed": false
      },
      "outputs": [],
      "source": [
        "import sys\nimport os\nimport abipy.data as abidata\nimport abipy.abilab as abilab\nimport abipy.flowtk as flowtk\n\n\ndef make_scf_nscf_inputs(paral_kgb=1):\n    \"\"\"Returns two input files: GS run and NSCF on a high symmetry k-mesh.\"\"\"\n    multi = abilab.MultiDataset(structure=abidata.cif_file(\"si.cif\"),\n                                pseudos=abidata.pseudos(\"14si.pspnc\"), ndtset=2)\n\n    # Global variables\n    ecut = 6\n    global_vars = dict(\n        ecut=ecut,\n        nband=8,\n        nstep=15,\n        paral_kgb=paral_kgb,\n    )\n\n    if multi.ispaw:\n        global_vars.update(pawecutdg=2*ecut)\n\n    multi.set_vars(global_vars)\n\n    # Dataset 1 (GS run)\n    multi[0].set_kmesh(ngkpt=[8, 8, 8], shiftk=[0, 0, 0])\n    multi[0].set_vars(tolvrs=1e-6)\n\n    # Dataset 2 (NSCF run)\n    kptbounds = [\n        [0.5, 0.0, 0.0], # L point\n        [0.0, 0.0, 0.0], # Gamma point\n        [0.0, 0.5, 0.5], # X point\n    ]\n\n    multi[1].set_kpath(ndivsm=6, kptbounds=kptbounds)\n    multi[1].set_vars(tolwfr=1e-12)\n\n    # Generate two input files for the GS and the NSCF run\n    scf_input, nscf_input = multi.split_datasets()\n\n    return scf_input, nscf_input\n\n\ndef build_flow(options):\n    # Working directory (default is the name of the script with '.py' removed and \"run_\" replaced by \"flow_\")\n    if not options.workdir:\n        options.workdir = os.path.basename(sys.argv[0]).replace(\".py\", \"\").replace(\"run_\", \"flow_\")\n\n    # Get the SCF and the NSCF input.\n    scf_input, nscf_input = make_scf_nscf_inputs()\n\n    # Build the flow.\n    flow = flowtk.Flow(options.workdir, manager=options.manager)\n\n    # Create a Work, all tasks in work will start from the DEN file.\n    # Note that the file must exist when the work is created\n    # Use the standard approach based on tasks and works if\n    # there's a node who needs a file produced in the future.\n    work = flowtk.Work()\n    den_filepath = abidata.ref_file(\"si_DEN.nc\")\n    work.register_nscf_task(nscf_input, deps={den_filepath: \"DEN\"})\n    flow.register_work(work)\n\n    return flow\n\n\n# This block generates the thumbnails in the AbiPy gallery.\n# You can safely REMOVE this part if you are using this script for production runs.\nif os.getenv(\"READTHEDOCS\", False):\n    __name__ = None\n    import tempfile\n    options = flowtk.build_flow_main_parser().parse_args([\"-w\", tempfile.mkdtemp()])\n    build_flow(options).graphviz_imshow()\n\n\n@flowtk.flow_main\ndef main(options):\n    \"\"\"\n    This is our main function that will be invoked by the script.\n    flow_main is a decorator implementing the command line interface.\n    Command line args are stored in `options`.\n    \"\"\"\n    return build_flow(options)\n\n\nif __name__ == \"__main__\":\n    sys.exit(main())"
      ]
    }
  ],
  "metadata": {
    "kernelspec": {
      "display_name": "Python 3",
      "language": "python",
      "name": "python3"
    },
    "language_info": {
      "codemirror_mode": {
        "name": "ipython",
        "version": 3
      },
      "file_extension": ".py",
      "mimetype": "text/x-python",
      "name": "python",
      "nbconvert_exporter": "python",
      "pygments_lexer": "ipython3",
      "version": "3.8.0"
    }
  },
  "nbformat": 4,
  "nbformat_minor": 0
}