{
  "cells": [
    {
      "cell_type": "code",
      "execution_count": null,
      "metadata": {
        "collapsed": false
      },
      "outputs": [],
      "source": [
        "%matplotlib inline"
      ]
    },
    {
      "cell_type": "markdown",
      "metadata": {},
      "source": [
        "\n# Phonon Bands with LO-TO\n\nThis example shows how to plot the phonon band structure of AlAs\nincluding the LO-TO splitting. See tutorial/lesson_rf2.html\n"
      ]
    },
    {
      "cell_type": "code",
      "execution_count": null,
      "metadata": {
        "collapsed": false
      },
      "outputs": [],
      "source": [
        "from abipy.abilab import abiopen\nimport abipy.data as abidata\n\n# Open PHBST file produced by anaddb and extract the phonon bands object.\n# (alternatively one can use the shell and `abiopen.py OUT_PHBST.nc -nb`\n# to open the file in a jupyter notebook.\nwith abiopen(abidata.ref_file(\"ZnSe_hex_886.out_PHBST.nc\")) as ncfile:\n    phbands = ncfile.phbands\n\n# Phonon frequencies with non analytical contributions, if calculated, are saved\n# in the anaddb.nc file produced by anaddb. The results should be fetched from there\n# and added to the phonon bands.\nphbands.read_non_anal_from_file(abidata.ref_file(\"ZnSe_hex_886.anaddb.nc\"))\n\n# Notice that all the directions starting from or arriving at gamma that are used\n# in the path should explicitely calculated, even if the values are the same.\n\n# Plot the phonon frequencies. Note that the labels for the q-points\n# are found automatically by searching in an internal database.\nphbands.plot(title=\"ZnSe with LO-TO splitting\")"
      ]
    }
  ],
  "metadata": {
    "kernelspec": {
      "display_name": "Python 3",
      "language": "python",
      "name": "python3"
    },
    "language_info": {
      "codemirror_mode": {
        "name": "ipython",
        "version": 3
      },
      "file_extension": ".py",
      "mimetype": "text/x-python",
      "name": "python",
      "nbconvert_exporter": "python",
      "pygments_lexer": "ipython3",
      "version": "3.9.2"
    }
  },
  "nbformat": 4,
  "nbformat_minor": 0
}