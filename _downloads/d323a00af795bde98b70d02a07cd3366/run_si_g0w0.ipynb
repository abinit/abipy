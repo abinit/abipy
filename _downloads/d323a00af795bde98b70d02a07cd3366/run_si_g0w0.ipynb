{
  "cells": [
    {
      "cell_type": "code",
      "execution_count": null,
      "metadata": {
        "collapsed": false
      },
      "outputs": [],
      "source": [
        "%matplotlib inline"
      ]
    },
    {
      "cell_type": "markdown",
      "metadata": {},
      "source": [
        "\n# G0W0 Flow with convergence study wrt nband\n\nThis script shows how to compute the G0W0 corrections in silicon.\nMore specifically, we build a flow to analyze the convergence of the QP corrections\nwrt to the number of bands in the self-energy. More complicated convergence studies\ncan be implemented on the basis of this example.\n"
      ]
    },
    {
      "cell_type": "code",
      "execution_count": null,
      "metadata": {
        "collapsed": false
      },
      "outputs": [],
      "source": [
        "import os\nimport sys\nimport abipy.data as data\nimport abipy.abilab as abilab\nfrom abipy import flowtk\n\n\ndef make_inputs(ngkpt, paral_kgb=1):\n    # Crystalline silicon\n    # Calculation of the GW correction to the direct band gap in Gamma\n    # Dataset 1: ground state calculation\n    # Dataset 2: NSCF calculation\n    # Dataset 3: calculation of the screening\n    # Dataset 4-5-6: Self-Energy matrix elements (GW corrections) with different values of nband\n\n    multi = abilab.MultiDataset(structure=data.cif_file(\"si.cif\"),\n                                pseudos=data.pseudos(\"14si.pspnc\"), ndtset=6)\n\n    # This grid is the most economical, but does not contain the Gamma point.\n    scf_kmesh = dict(\n        ngkpt=ngkpt,\n        shiftk=[0.5, 0.5, 0.5,\n                0.5, 0.0, 0.0,\n                0.0, 0.5, 0.0,\n                0.0, 0.0, 0.5]\n    )\n\n    # This grid contains the Gamma point, which is the point at which\n    # we will compute the (direct) band gap.\n    gw_kmesh = dict(\n        ngkpt=ngkpt,\n        shiftk=[0.0, 0.0, 0.0,\n                0.0, 0.5, 0.5,\n                0.5, 0.0, 0.5,\n                0.5, 0.5, 0.0]\n    )\n\n    # Global variables. gw_kmesh is used in all datasets except DATASET 1.\n    ecut = 6\n\n    multi.set_vars(\n        ecut=ecut,\n        timopt=-1,\n        istwfk=\"*1\",\n        paral_kgb=paral_kgb,\n        gwpara=2,\n    )\n    multi.set_kmesh(**gw_kmesh)\n\n    # Dataset 1 (GS run)\n    multi[0].set_kmesh(**scf_kmesh)\n    multi[0].set_vars(\n        tolvrs=1e-6,\n        nband=4,\n    )\n\n    # Dataset 2 (NSCF run)\n    # Here we select the second dataset directly with the syntax multi[1]\n    multi[1].set_vars(\n        iscf=-2,\n        tolwfr=1e-12,\n        nband=35,\n        nbdbuf=5,\n    )\n\n    # Dataset3: Calculation of the screening.\n    multi[2].set_vars(\n        optdriver=3,\n        nband=25,\n        ecutwfn=ecut,\n        symchi=1,\n        inclvkb=0,\n        ecuteps=4.0,\n        ppmfrq=\"16.7 eV\",\n    )\n\n    # Dataset4: Calculation of the Self-Energy matrix elements (GW corrections)\n    kptgw = [\n         -2.50000000E-01, -2.50000000E-01,  0.00000000E+00,\n         -2.50000000E-01,  2.50000000E-01,  0.00000000E+00,\n          5.00000000E-01,  5.00000000E-01,  0.00000000E+00,\n         -2.50000000E-01,  5.00000000E-01,  2.50000000E-01,\n          5.00000000E-01,  0.00000000E+00,  0.00000000E+00,\n          0.00000000E+00,  0.00000000E+00,  0.00000000E+00,\n      ]\n\n    bdgw = [1, 8]\n\n    # Convergence study wrt nband in sigma.\n    for idx, nband in enumerate([10, 20, 30]):\n        multi[3+idx].set_vars(\n            optdriver=4,\n            nband=nband,\n            ecutwfn=ecut,\n            ecuteps=4.0,\n            ecutsigx=6.0,\n            symsigma=1,\n            #gw_qprange=0,\n            #nkptgw=0,\n        )\n        multi[3+idx].set_kptgw(kptgw, bdgw)\n\n    return multi.split_datasets()\n\n\ndef build_flow(options):\n    # Working directory (default is the name of the script with '.py' removed and \"run_\" replaced by \"flow_\")\n    if not options.workdir:\n        options.workdir = os.path.basename(sys.argv[0]).replace(\".py\", \"\").replace(\"run_\",\"flow_\")\n\n    # Change the value of ngkpt below to perform a GW calculation with a different k-mesh.\n    scf, nscf, scr, sig1, sig2, sig3 = make_inputs(ngkpt=[2, 2, 2])\n\n    return flowtk.g0w0_flow(options.workdir, scf, nscf, scr, [sig1, sig2, sig3], manager=options.manager)\n\n\n# This block generates the thumbnails in the AbiPy gallery.\n# You can safely REMOVE this part if you are using this script for production runs.\nif os.getenv(\"READTHEDOCS\", False):\n    __name__ = None\n    import tempfile\n    options = flowtk.build_flow_main_parser().parse_args([\"-w\", tempfile.mkdtemp()])\n    build_flow(options).graphviz_imshow()\n\n\n@flowtk.flow_main\ndef main(options):\n    return build_flow(options)\n\n\nif __name__ == \"__main__\":\n    sys.exit(main())"
      ]
    },
    {
      "cell_type": "markdown",
      "metadata": {},
      "source": [
        "Run the script with:\n\n    run_si_g0w0.py -s\n\nThe last three tasks (``w0_t3``, ``w0_t4``, ``w0_t5``) are the SigmaTask who have produced\na netcdf file with the GW results with different number of bands.\nWe can check this with the command:\n\n   abirun.py flow_si_g0w0/ listext SIGRES\n\n.. code-block:: bash\n\n      Found 3 files with extension `SIGRES` produced by the flow\n      File                                        Size [Mb]    Node_ID  Node Class\n      ----------------------------------------  -----------  ---------  ------------\n      flow_si_g0w0/w0/t3/outdata/out_SIGRES.nc         0.05     241325  SigmaTask\n      flow_si_g0w0/w0/t4/outdata/out_SIGRES.nc         0.08     241326  SigmaTask\n      flow_si_g0w0/w0/t5/outdata/out_SIGRES.nc         0.13     241327  SigmaTask\n\nLet's use the SIGRES robot to collect and analyze the results:\n\n   abirun.py flow_si_g0w0/ robot SIGRES\n\nand then, inside the ipython terminal, type:\n\n.. code-block:: ipython\n\n      In [1]: df = robot.get_dataframe()\n      In [2]: df\n      Out[2]:\n                                                nsppol     qpgap            ecutwfn  \\\n      flow_si_g0w0/w0/t3/outdata/out_SIGRES.nc       1  3.627960  5.914381651684836\n      flow_si_g0w0/w0/t4/outdata/out_SIGRES.nc       1  3.531781  5.914381651684836\n      flow_si_g0w0/w0/t5/outdata/out_SIGRES.nc       1  3.512285  5.914381651684836\n\n                                                           ecuteps  \\\n      flow_si_g0w0/w0/t3/outdata/out_SIGRES.nc  3.6964885323070074\n      flow_si_g0w0/w0/t4/outdata/out_SIGRES.nc  3.6964885323070074\n      flow_si_g0w0/w0/t5/outdata/out_SIGRES.nc  3.6964885323070074\n\n                                                         ecutsigx scr_nband  \\\n      flow_si_g0w0/w0/t3/outdata/out_SIGRES.nc  5.914381651684846        25\n      flow_si_g0w0/w0/t4/outdata/out_SIGRES.nc  5.914381651684846        25\n      flow_si_g0w0/w0/t5/outdata/out_SIGRES.nc  5.914381651684846        25\n\n                                               sigma_nband gwcalctyp scissor_ene  \\\n      flow_si_g0w0/w0/t3/outdata/out_SIGRES.nc          10         0         0.0\n      flow_si_g0w0/w0/t4/outdata/out_SIGRES.nc          20         0         0.0\n      flow_si_g0w0/w0/t5/outdata/out_SIGRES.nc          30         0         0.0\n\n                                                nkibz\n      flow_si_g0w0/w0/t3/outdata/out_SIGRES.nc      6\n      flow_si_g0w0/w0/t4/outdata/out_SIGRES.nc      6\n      flow_si_g0w0/w0/t5/outdata/out_SIGRES.nc      6\n\n      In [3]: %matplotlib\n      In [4]: df.plot(\"sigma_nband\", \"qpgap\", marker=\"o\")\n\n<img src=\"https://github.com/abinit/abipy_assets/blob/master/run_si_g0w0.png?raw=true\" alt=\"QP results in Si plotted vs the KS energy e0.\">\n\n\n"
      ]
    }
  ],
  "metadata": {
    "kernelspec": {
      "display_name": "Python 3",
      "language": "python",
      "name": "python3"
    },
    "language_info": {
      "codemirror_mode": {
        "name": "ipython",
        "version": 3
      },
      "file_extension": ".py",
      "mimetype": "text/x-python",
      "name": "python",
      "nbconvert_exporter": "python",
      "pygments_lexer": "ipython3",
      "version": "3.8.0"
    }
  },
  "nbformat": 4,
  "nbformat_minor": 0
}