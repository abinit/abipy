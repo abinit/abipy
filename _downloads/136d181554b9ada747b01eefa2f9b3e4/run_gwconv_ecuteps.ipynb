{
  "cells": [
    {
      "cell_type": "code",
      "execution_count": null,
      "metadata": {
        "collapsed": false
      },
      "outputs": [],
      "source": [
        "%matplotlib inline"
      ]
    },
    {
      "cell_type": "markdown",
      "metadata": {},
      "source": [
        "\n# G0W0 convergence study\n\nG0W0 convergence study wrt ecuteps and the number of bands in W.\n"
      ]
    },
    {
      "cell_type": "code",
      "execution_count": null,
      "metadata": {
        "collapsed": false
      },
      "outputs": [],
      "source": [
        "import sys\nimport os\nimport numpy as np\n\nimport abipy.abilab as abilab\nimport abipy.data as abidata\nimport abipy.flowtk as flowtk\n\n\ndef make_inputs(paral_kgb=1):\n    \"\"\"\n    Returns a tuple of 4 input files for SCF, NSCF, SCR, SIGMA calculations.\n    These files are then used as templates for the convergence study\n    wrt ecuteps and the number of bands in W.\n    \"\"\"\n    multi = abilab.MultiDataset(abidata.structure_from_ucell(\"SiC\"),\n                                pseudos=abidata.pseudos(\"14si.pspnc\", \"6c.pspnc\"), ndtset=4)\n\n    ecut = 12\n    global_vars = dict(\n        ecut=ecut,\n        istwfk=\"*1\",\n        paral_kgb=paral_kgb,\n        gwpara=2,\n        iomode=1,\n    )\n\n    ecuteps = 4\n    ngkpt = [4, 4, 4]\n    shiftk = [0, 0, 0]\n\n    multi.set_vars(global_vars)\n    multi.set_kmesh(ngkpt=ngkpt, shiftk=shiftk)\n\n    # SCF\n    multi[0].set_vars(\n        nband=10,\n        tolvrs=1.e-8,\n    )\n\n    # NSCF\n    multi[1].set_vars(\n        nband=25,\n        tolwfr=1.e-8,\n        iscf=-2\n    )\n\n    # SCR\n    multi[2].set_vars(\n        optdriver=3,\n        ecutwfn=ecut,\n        nband=20,\n        symchi=1,\n        inclvkb=0,\n        ecuteps=ecuteps,\n    )\n\n    # SIGMA\n    multi[3].set_vars(\n        optdriver=4,\n        nband=20,\n        ecutwfn=ecut,\n        ecutsigx=ecut,\n        #ecutsigx=(4*ecut), ! This is problematic\n        symsigma=1,\n        ecuteps=ecuteps,\n        )\n\n    multi[3].set_kptgw(kptgw=[[0,0,0], [0.5, 0, 0]], bdgw=[1, 8])\n\n    return multi.split_datasets()\n\n\ndef build_flow(options):\n    # Working directory (default is the name of the script with '.py' removed and \"run_\" replaced by \"flow_\")\n    if not options.workdir:\n        options.workdir = os.path.basename(sys.argv[0]).replace(\".py\", \"\").replace(\"run_\", \"flow_\")\n\n    # Get our templates\n    scf_inp, nscf_inp, scr_inp, sig_inp = make_inputs()\n\n    ecuteps_list = np.arange(2, 8, 2)\n    max_ecuteps = max(ecuteps_list)\n\n    flow = flowtk.Flow(workdir=options.workdir, manager=options.manager)\n\n    # Band structure work to produce the WFK file\n    bands = flowtk.BandStructureWork(scf_inp, nscf_inp)\n    flow.register_work(bands)\n\n    # Build a work made of two SCR runs with different value of nband\n    # Use max_ecuteps for the dielectric matrix (sigma tasks will\n    # read a submatrix when we test the convergence wrt to ecuteps.\n    scr_work = flowtk.Work()\n\n    for inp in scr_inp.generate(nband=[10, 15]):\n        inp.set_vars(ecuteps=max_ecuteps)\n        scr_work.register_scr_task(inp, deps={bands.nscf_task: \"WFK\"})\n\n    flow.register_work(scr_work)\n\n    # Do a convergence study wrt ecuteps, each work is connected to a\n    # different SCR file computed with a different value of nband.\n\n    # Build a list of sigma inputs with different ecuteps\n    sigma_inputs = list(sig_inp.generate(ecuteps=ecuteps_list))\n\n    for scr_task in scr_work:\n        sigma_conv = flowtk.SigmaConvWork(wfk_node=bands.nscf_task, scr_node=scr_task,\n                                          sigma_inputs=sigma_inputs)\n        flow.register_work(sigma_conv)\n\n    return flow\n\n\n# This block generates the thumbnails in the AbiPy gallery.\n# You can safely REMOVE this part if you are using this script for production runs.\nif os.getenv(\"READTHEDOCS\", False):\n    __name__ = None\n    import tempfile\n    options = flowtk.build_flow_main_parser().parse_args([\"-w\", tempfile.mkdtemp()])\n    build_flow(options).graphviz_imshow()\n\n\n@flowtk.flow_main\ndef main(options):\n    \"\"\"\n    This is our main function that will be invoked by the script.\n    flow_main is a decorator implementing the command line interface.\n    Command line args are stored in `options`.\n    \"\"\"\n    return build_flow(options)\n\n\nif __name__ == \"__main__\":\n    sys.exit(main())"
      ]
    }
  ],
  "metadata": {
    "kernelspec": {
      "display_name": "Python 3",
      "language": "python",
      "name": "python3"
    },
    "language_info": {
      "codemirror_mode": {
        "name": "ipython",
        "version": 3
      },
      "file_extension": ".py",
      "mimetype": "text/x-python",
      "name": "python",
      "nbconvert_exporter": "python",
      "pygments_lexer": "ipython3",
      "version": "3.8.0"
    }
  },
  "nbformat": 4,
  "nbformat_minor": 0
}