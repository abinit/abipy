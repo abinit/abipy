{
  "cells": [
    {
      "cell_type": "code",
      "execution_count": null,
      "metadata": {
        "collapsed": false
      },
      "outputs": [],
      "source": [
        "%matplotlib inline"
      ]
    },
    {
      "cell_type": "markdown",
      "metadata": {},
      "source": [
        "\n# Effective masses with DFPT\n\nFlow to compute effective masses with DFPT.\nTwo options are available:\n\n    - EffMassDFPTWork --> Run DFPT calculation directly assuming the location\n                          of the band edges is already known.\n    - EffMassAutoDFPTWork --> Run NSCF calculation to find band edges, then use DFPT.\n"
      ]
    },
    {
      "cell_type": "code",
      "execution_count": null,
      "metadata": {
        "collapsed": false
      },
      "outputs": [],
      "source": [
        "import sys\nimport os\nimport abipy.data as abidata\nimport abipy.abilab as abilab\nimport abipy.flowtk as flowtk\n\n\ndef make_scf_input(usepaw=0, nspinor=1):\n    \"\"\"Returns input for GS-SCF calculation.\"\"\"\n    if nspinor == 1:\n        pseudos = abidata.pseudos(\"14si.pspnc\") if usepaw == 0 else abidata.pseudos(\"Si.GGA_PBE-JTH-paw.xml\")\n    else:\n        pseudos = abidata.pseudos(\"Si_r.psp8\") if usepaw == 0 else abidata.pseudos(\"Si.GGA_PBE-JTH-paw.xml\")\n\n    # See https://docs.abinit.org/tests/v7/Input/t82.in\n    structure = dict(\n         ntypat=1,\n         natom=2,\n         typat=[1, 1],\n         znucl=14,\n         #acell=3 * [10.26310667319252],\n         acell=3 * [10.2073557], # 5.4015 Ang\n         rprim=[[0.0,  0.5,  0.5],\n                [0.5,  0.0,  0.5],\n                [0.5,  0.5,  0.0]],\n         xred=[[0.0 , 0.0 , 0.0],\n               [0.25, 0.25, 0.25]],\n    )\n\n    scf_input = abilab.AbinitInput(structure=structure, pseudos=pseudos)\n\n    # Global variables\n    nband = 8 if nspinor == 1 else 16\n    scf_input.set_vars(\n        ecut=8,\n        nband=nband,\n        nspinor=nspinor,\n        nstep=100,\n        tolvrs=1e-8,\n    )\n\n    if scf_input.ispaw:\n        scf_input.set_vars(pawecutdg=2 * scf_input[\"ecut\"])\n\n    # Set k-mesh\n    scf_input.set_kmesh(ngkpt=[8, 8, 8], shiftk=[0, 0, 0])\n\n    return scf_input\n\n\ndef build_flow(options):\n    # Set working directory (default is the name of the script with '.py' removed and \"run_\" replaced by \"flow_\")\n    if not options.workdir:\n        options.workdir = os.path.basename(sys.argv[0]).replace(\".py\", \"\").replace(\"run_\", \"flow_\")\n\n    # Get the SCF input (without SOC)\n    scf_input = make_scf_input(nspinor=1, usepaw=1)\n\n    # Build the flow.\n    from abipy.flowtk.effmass_works import EffMassDFPTWork, EffMassAutoDFPTWork\n    flow = flowtk.Flow(workdir=options.workdir, manager=options.manager)\n\n    # Compute effective masses for each k in k0_list.\n    # effmass_bands_f90 defines the band range for each k in k0_list\n    # Here we are interested in the effective masses at the Gamma point for the valence bands\n    effmass_bands_f90 = [1, 4] if scf_input[\"nspinor\"] == 1 else [1, 8]\n    work = EffMassDFPTWork.from_scf_input(scf_input, k0_list=(0, 0, 0),\n                                          effmass_bands_f90=effmass_bands_f90)\n    flow.register_work(work)\n\n    # or use this Work to detect band edges automatically but increase ndivsm and decrease tolwfr!\n    # you may want to use a negative value of ndivsm (e.g. -20) to use the pymatgen density_line\n    # convention. This is useful to avoid problems with high-symmetry\n    # k-paths containing very small segments.\n    # In this case, indeed,  ndivsm > 0 (Abinit variable) can easily generate thousands of k-points.\n    work = EffMassAutoDFPTWork.from_scf_input(scf_input, ndivsm=-5, tolwfr=1e-12)\n    flow.register_work(work)\n\n    return flow\n\n\n# This block generates the thumbnails in the Abipy gallery.\n# You can safely REMOVE this part if you are using this script for production runs.\nif os.getenv(\"READTHEDOCS\", False):\n    __name__ = None\n    import tempfile\n    options = flowtk.build_flow_main_parser().parse_args([\"-w\", tempfile.mkdtemp()])\n    build_flow(options).graphviz_imshow()\n\n\n@flowtk.flow_main\ndef main(options):\n    \"\"\"\n    This is our main function that will be invoked by the script.\n    flow_main is a decorator implementing the command line interface.\n    Command line args are stored in `options`.\n    \"\"\"\n    return build_flow(options)\n\n\nif __name__ == \"__main__\":\n    sys.exit(main())"
      ]
    },
    {
      "cell_type": "markdown",
      "metadata": {},
      "source": [
        "Run the script with:\n\n    run_effmass_dfpt -s\n\n\n"
      ]
    }
  ],
  "metadata": {
    "kernelspec": {
      "display_name": "Python 3",
      "language": "python",
      "name": "python3"
    },
    "language_info": {
      "codemirror_mode": {
        "name": "ipython",
        "version": 3
      },
      "file_extension": ".py",
      "mimetype": "text/x-python",
      "name": "python",
      "nbconvert_exporter": "python",
      "pygments_lexer": "ipython3",
      "version": "3.8.0"
    }
  },
  "nbformat": 4,
  "nbformat_minor": 0
}