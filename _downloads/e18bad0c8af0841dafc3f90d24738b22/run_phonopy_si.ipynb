{
  "cells": [
    {
      "cell_type": "code",
      "execution_count": null,
      "metadata": {
        "collapsed": false
      },
      "outputs": [],
      "source": [
        "%matplotlib inline"
      ]
    },
    {
      "cell_type": "markdown",
      "metadata": {},
      "source": [
        "\n# Phonopy with AbiPy Flow\n\nThis example shows how to compute phonon frequencies with phonopy\n(supercells and finite-difference method).\n\nThis approach could be useful to obtain vibrational properties with XC functionals\nfor which DFPT is not yet implemented.\n\n.. warning:\n\n    This example requires the `phonopy package <http://atztogo.github.io/phonopy/examples.html>`_\n"
      ]
    },
    {
      "cell_type": "code",
      "execution_count": null,
      "metadata": {
        "collapsed": false
      },
      "outputs": [],
      "source": [
        "import sys\nimport os\nimport abipy.abilab as abilab\nimport abipy.data as abidata\nimport abipy.flowtk as flowtk\n\nfrom abipy.flowtk.abiphonopy import PhonopyWork\n\n\ndef build_flow(options):\n    \"\"\"\n    Create a `Flow` for phonon calculations with phonopy:\n    \"\"\"\n    # Working directory (default is the name of the script with '.py' removed and \"run_\" replaced by \"flow_\")\n    if not options.workdir:\n        options.workdir = os.path.basename(sys.argv[0]).replace(\".py\", \"\").replace(\"run_\", \"flow_\")\n\n    # Initialize structure and pseudos\n    structure = abilab.Structure.from_file(abidata.cif_file(\"si.cif\"))\n    pseudos = abidata.pseudos(\"14si.pspnc\")\n\n    # Build input for GS calculation.\n    gsinp = abilab.AbinitInput(structure, pseudos)\n    gsinp.set_vars(ecut=4, nband=4, toldff=1.e-6)\n\n    # This gives ngkpt = 4x4x4 with 4 shifts for the initial unit cell.\n    # The k-point sampling will be rescaled when we build the supercell in PhonopyWork.\n    gsinp.set_autokmesh(nksmall=4)\n    #gsinp.set_vars(ngkpt=[4, 4, 4])\n\n    flow = flowtk.Flow(workdir=options.workdir)\n\n    # Use a 2x2x2 supercell to compute phonons with phonopy\n    work = PhonopyWork.from_gs_input(gsinp, scdims=[2, 2, 2])\n    flow.register_work(work)\n\n    return flow\n\n\n# This block generates the thumbnails in the AbiPy gallery.\n# You can safely REMOVE this part if you are using this script for production runs.\nif os.getenv(\"READTHEDOCS\", False):\n    __name__ = None\n    import tempfile\n    options = flowtk.build_flow_main_parser().parse_args([\"-w\", tempfile.mkdtemp()])\n    build_flow(options).graphviz_imshow()\n\n\n@flowtk.flow_main\ndef main(options):\n    \"\"\"\n    This is our main function that will be invoked by the script.\n    flow_main is a decorator implementing the command line interface.\n    Command line args are stored in `options`.\n    \"\"\"\n    return build_flow(options)\n\n\nif __name__ == \"__main__\":\n    sys.exit(main())"
      ]
    },
    {
      "cell_type": "markdown",
      "metadata": {},
      "source": [
        "Run the script with:\n\n    run_phonopy_si.py -s\n\nthe output results are produced in ``flow_phonopy_si/w0/outdata/``\nFollow the instructions in the README file:\n\n.. code-block:: md\n\n   To plot bands, use:\n           phonopy -p band.conf\n\n   To plot phonon dos, use:\n           phonopy -p dos.conf\n\n   To plot bands and dos, use:\n           phonopy -p band-dos.conf\n\n   See also:\n           http://atztogo.github.io/phonopy/examples.html\n           http://atztogo.github.io/phonopy/setting-tags.html#setting-tags\n\nThe command:\n\n  phonopy -p band-dos.conf\n\nwill produce:\n\n<img src=\"https://github.com/abinit/abipy_assets/blob/master/run_phonopy_si.png?raw=true\" alt=\"Phonon Band structure computed with phonopy.\">\n\n\n"
      ]
    }
  ],
  "metadata": {
    "kernelspec": {
      "display_name": "Python 3",
      "language": "python",
      "name": "python3"
    },
    "language_info": {
      "codemirror_mode": {
        "name": "ipython",
        "version": 3
      },
      "file_extension": ".py",
      "mimetype": "text/x-python",
      "name": "python",
      "nbconvert_exporter": "python",
      "pygments_lexer": "ipython3",
      "version": "3.8.0"
    }
  },
  "nbformat": 4,
  "nbformat_minor": 0
}