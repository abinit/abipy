{
  "cells": [
    {
      "cell_type": "code",
      "execution_count": null,
      "metadata": {
        "collapsed": false
      },
      "outputs": [],
      "source": [
        "%matplotlib inline"
      ]
    },
    {
      "cell_type": "markdown",
      "metadata": {},
      "source": [
        "\n# Multiple phonon bands with DDB robot\n\nThis example shows how to plot several phonon band structures on a grid.\n\n.. important::\n\n    Note that a **manager.yml** file and an abinit installation are required\n    to run this script as AbiPy needs to invoke anaddb to compute phonons from the DDB file.\n"
      ]
    },
    {
      "cell_type": "markdown",
      "metadata": {},
      "source": [
        "We start by defining a list of DDB files:\nobtained with the same structure but different k-mesh and tmear:\n\n"
      ]
    },
    {
      "cell_type": "code",
      "execution_count": null,
      "metadata": {
        "collapsed": false
      },
      "outputs": [],
      "source": [
        "from abipy import abilab\nimport abipy.data as abidata\nimport os\n\npaths = [\n    #\"mgb2_444k_0.01tsmear_DDB\",\n    #\"mgb2_444k_0.02tsmear_DDB\",\n    #\"mgb2_444k_0.04tsmear_DDB\",\n    \"mgb2_888k_0.01tsmear_DDB\",\n    #\"mgb2_888k_0.02tsmear_DDB\",\n    \"mgb2_888k_0.04tsmear_DDB\",\n    \"mgb2_121212k_0.01tsmear_DDB\",\n    #\"mgb2_121212k_0.02tsmear_DDB\",\n    \"mgb2_121212k_0.04tsmear_DDB\",\n]\n\npaths = [os.path.join(abidata.dirpath, \"refs\", \"mgb2_phonons_nkpt_tsmear\", f) for f in paths]"
      ]
    },
    {
      "cell_type": "markdown",
      "metadata": {},
      "source": [
        "Now we initialize the DdbRobot from this list of paths:\n\n"
      ]
    },
    {
      "cell_type": "code",
      "execution_count": null,
      "metadata": {
        "collapsed": false
      },
      "outputs": [],
      "source": [
        "robot = abilab.DdbRobot.from_files(paths)\nprint(robot.keys())"
      ]
    },
    {
      "cell_type": "markdown",
      "metadata": {},
      "source": [
        "Now we change the keys associated to the different files\nby defining a function that computes the new label from the\ninfo reported in the ddb object.\nThese lables are then used to generate the legend in the matplotlib plot.\n\n"
      ]
    },
    {
      "cell_type": "code",
      "execution_count": null,
      "metadata": {
        "collapsed": false
      },
      "outputs": [],
      "source": [
        "robot.remap_labels(lambda ddb: \"nkpt: %s, tsmear: %.2f\" % (ddb.header[\"nkpt\"], ddb.header[\"tsmear\"]))\nprint(robot.keys())"
      ]
    },
    {
      "cell_type": "markdown",
      "metadata": {},
      "source": [
        "Invoke anaddb to build a PhononBands plotter.\nWe use a small q-mesh for the ph-DOS to speedup the computation:\n\n"
      ]
    },
    {
      "cell_type": "code",
      "execution_count": null,
      "metadata": {
        "collapsed": false
      },
      "outputs": [],
      "source": [
        "r = robot.anaget_phonon_plotters(nqsmall=2)"
      ]
    },
    {
      "cell_type": "markdown",
      "metadata": {},
      "source": [
        "To group the results by tsmear use:\n\n"
      ]
    },
    {
      "cell_type": "code",
      "execution_count": null,
      "metadata": {
        "collapsed": false
      },
      "outputs": [],
      "source": [
        "r.phbands_plotter.gridplot_with_hue(\"tsmear\")"
      ]
    },
    {
      "cell_type": "markdown",
      "metadata": {},
      "source": [
        "If Phonon DOSes are wanted, use:\n\n"
      ]
    },
    {
      "cell_type": "code",
      "execution_count": null,
      "metadata": {
        "collapsed": false
      },
      "outputs": [],
      "source": [
        "r.phbands_plotter.gridplot_with_hue(\"tsmear\", with_dos=True)\n\n#r.phbands_plotter.gridplot()\n\nrobot.close()"
      ]
    }
  ],
  "metadata": {
    "kernelspec": {
      "display_name": "Python 3",
      "language": "python",
      "name": "python3"
    },
    "language_info": {
      "codemirror_mode": {
        "name": "ipython",
        "version": 3
      },
      "file_extension": ".py",
      "mimetype": "text/x-python",
      "name": "python",
      "nbconvert_exporter": "python",
      "pygments_lexer": "ipython3",
      "version": "3.8.0"
    }
  },
  "nbformat": 4,
  "nbformat_minor": 0
}