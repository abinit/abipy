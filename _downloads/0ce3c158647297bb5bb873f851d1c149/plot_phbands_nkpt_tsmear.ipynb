{
  "cells": [
    {
      "cell_type": "code",
      "execution_count": null,
      "metadata": {
        "collapsed": false
      },
      "outputs": [],
      "source": [
        "%matplotlib inline"
      ]
    },
    {
      "cell_type": "markdown",
      "metadata": {},
      "source": [
        "\n# Multiple phonon bands\n\nThis example shows how to plot several phonon band structures on a grid.\n\nWe use two files produced by anaddb:\n\n    trf2_5.out_PHBST.nc: phonon frequencies on a q-path in the BZ (used to plot the band dispersion)\n    trf2_5.out_PHDOS.nc: phonon DOS compute with anaddb.\n"
      ]
    },
    {
      "cell_type": "code",
      "execution_count": null,
      "metadata": {
        "collapsed": false
      },
      "outputs": [],
      "source": [
        "from abipy import abilab\nimport abipy.data as abidata\n\nimport os\npaths = [\n    #\"mgb2_444k_0.01tsmear_DDB\",\n    #\"mgb2_444k_0.02tsmear_DDB\",\n    #\"mgb2_444k_0.04tsmear_DDB\",\n    \"mgb2_888k_0.01tsmear_DDB\",\n    #\"mgb2_888k_0.02tsmear_DDB\",\n    \"mgb2_888k_0.04tsmear_DDB\",\n    \"mgb2_121212k_0.01tsmear_DDB\",\n    #\"mgb2_121212k_0.02tsmear_DDB\",\n    \"mgb2_121212k_0.04tsmear_DDB\",\n]\n\npaths = [os.path.join(abidata.dirpath, \"refs\", \"mgb2_phonons_nkpt_tsmear\", f) for f in paths]\n\nrobot = abilab.DdbRobot()\nfor i, path in enumerate(paths):\n    robot.add_file(path, path)\n\nrobot.remap_labels(lambda ddb: \"nkpt: %s, tsmear: %.2f\" % (ddb.header[\"nkpt\"], ddb.header[\"tsmear\"]))\n\nr = robot.anaget_phonon_plotters(nqsmall=2)\n\nr.phbands_plotter.gridplot_with_hue(\"tsmear\")\n\nr.phbands_plotter.gridplot_with_hue(\"tsmear\", with_dos=True)\n\n#r.phbands_plotter.gridplot_with_hue(\"nkpt\")\n\nrobot.close()"
      ]
    }
  ],
  "metadata": {
    "kernelspec": {
      "display_name": "Python 3",
      "language": "python",
      "name": "python3"
    },
    "language_info": {
      "codemirror_mode": {
        "name": "ipython",
        "version": 3
      },
      "file_extension": ".py",
      "mimetype": "text/x-python",
      "name": "python",
      "nbconvert_exporter": "python",
      "pygments_lexer": "ipython3",
      "version": "3.9.2"
    }
  },
  "nbformat": 4,
  "nbformat_minor": 0
}