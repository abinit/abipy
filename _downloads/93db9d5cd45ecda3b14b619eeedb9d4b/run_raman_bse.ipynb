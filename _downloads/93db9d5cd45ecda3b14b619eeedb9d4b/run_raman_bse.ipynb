{
  "cells": [
    {
      "cell_type": "code",
      "execution_count": null,
      "metadata": {
        "collapsed": false
      },
      "outputs": [],
      "source": [
        "%matplotlib inline"
      ]
    },
    {
      "cell_type": "markdown",
      "metadata": {},
      "source": [
        "\n# Raman Flow with BSE and frozen phonon\n\nThis script shows how to perform a Raman calculation with\nexcitonic effects included with the BSE formalism.\n"
      ]
    },
    {
      "cell_type": "code",
      "execution_count": null,
      "metadata": {
        "collapsed": false
      },
      "outputs": [],
      "source": [
        "import sys\nimport os\nimport numpy as np\nimport abipy.abilab as abilab\nimport abipy.data as abidata\nfrom abipy import flowtk\n\n\ndef build_flow(options):\n    # Working directory (default is the name of the script with '.py' removed and \"run_\" replaced by \"flow_\")\n    if not options.workdir:\n        options.workdir = os.path.basename(sys.argv[0]).replace(\".py\", \"\").replace(\"run_\",\"flow_\")\n\n    flow = flowtk.Flow(options.workdir, manager=options.manager)\n\n    pseudos = abidata.pseudos(\"14si.pspnc\")\n\n    # Get the unperturbed structure.\n    base_structure = abidata.structure_from_ucell(\"Si\")\n\n    etas = [-.001, 0, +.001]\n    ph_displ = np.reshape(np.zeros(3*len(base_structure)), (-1,3))\n    ph_displ[0,:] = [+1, 0, 0]\n    ph_displ[1,:] = [-1, 0, 0]\n\n    # Build new structures by displacing atoms according to the phonon displacement\n    # ph_displ (in cartesian coordinates). The Displacement is normalized so that\n    # the maximum atomic diplacement is 1 Angstrom and then multiplied by eta.\n    modifier = abilab.StructureModifier(base_structure)\n\n    displaced_structures = modifier.displace(ph_displ, etas, frac_coords=False)\n\n    # Generate the different shifts to average\n    ndiv = 2\n    shift1D = np.arange(1,2*ndiv+1,2)/(2*ndiv)\n    all_shifts = [[x,y,z] for x in shift1D for y in shift1D for z in shift1D]\n    all_shifts = [[0, 0, 0]]\n\n    for structure, eta in zip(displaced_structures, etas):\n        for shift in all_shifts:\n            flow.register_work(raman_work(structure, pseudos, shift))\n\n    return flow\n\n\ndef raman_work(structure, pseudos, shiftk, paral_kgb=1):\n    # Generate 3 different input files for computing optical properties with BSE.\n\n    # Global variables\n    global_vars = dict(\n        ecut=8,\n        istwfk=\"*1\",\n        chksymbreak=0,\n        #nstep=4,\n        nstep=10,\n        paral_kgb=paral_kgb,\n    )\n\n    # GS run\n    scf_inp = abilab.AbinitInput(structure, pseudos=pseudos)\n    scf_inp.set_vars(global_vars)\n    scf_inp.set_kmesh(ngkpt=[2, 2, 2], shiftk=shiftk)\n    scf_inp[\"tolvrs\"] = 1e-6\n\n    # NSCF run\n    nscf_inp = abilab.AbinitInput(structure, pseudos=pseudos)\n    nscf_inp.set_vars(global_vars)\n    nscf_inp.set_kmesh(ngkpt=[2, 2, 2], shiftk=shiftk)\n\n    nscf_inp.set_vars(\n        tolwfr=1e-8,\n        nband=12,\n        nbdbuf=4,\n        iscf=-2,\n    )\n\n    # BSE run with Model dielectric function and Haydock (only resonant + W + v)\n    # Note that SCR file is not needed here\n    bse_inp = abilab.AbinitInput(structure, pseudos=pseudos)\n    bse_inp.set_vars(global_vars)\n    bse_inp.set_kmesh(ngkpt=[2, 2, 2], shiftk=shiftk)\n\n    bse_inp.set_vars(\n        optdriver=99,\n        ecutwfn=global_vars[\"ecut\"],\n        ecuteps=3,\n        inclvkb=2,\n        bs_algorithm=2,       # Haydock\n        bs_haydock_niter=4,   # No. of iterations for Haydock\n        bs_exchange_term=1,\n        bs_coulomb_term=21,   # Use model W and full W_GG.\n        mdf_epsinf=12.0,\n        bs_calctype=1,        # Use KS energies and orbitals to construct L0\n        mbpt_sciss=\"0.8 eV\",\n        bs_coupling=0,\n        bs_loband=2,\n        nband=6,\n        #bs_freq_mesh=\"0 10 0.1 eV\",\n        bs_hayd_term=0,      # No terminator\n    )\n\n    # Build the work representing a BSE run with model dielectric function.\n    return flowtk.BseMdfWork(scf_inp, nscf_inp, bse_inp)\n\n\n# This block generates the thumbnails in the AbiPy gallery.\n# You can safely REMOVE this part if you are using this script for production runs.\nif os.getenv(\"READTHEDOCS\", False):\n    __name__ = None\n    import tempfile\n    options = flowtk.build_flow_main_parser().parse_args([\"-w\", tempfile.mkdtemp()])\n    build_flow(options).graphviz_imshow()\n\n\n@flowtk.flow_main\ndef main(options):\n    \"\"\"\n    This is our main function that will be invoked by the script.\n    flow_main is a decorator implementing the command line interface.\n    Command line args are stored in `options`.\n    \"\"\"\n    return build_flow(options)\n\n\nif __name__ == \"__main__\":\n    sys.exit(main())"
      ]
    },
    {
      "cell_type": "markdown",
      "metadata": {},
      "source": [
        "Run the script with:\n\n    run_raman_bse.py -s\n\nthen use:\n\n   abirun.py flow_raman_bse robot MDF\n\nto analyze all the macroscopic dielectric functions produced by the Flow with the robot.\nInside the ipython terminal type:\n\n.. code-block:: ipython\n\n  [1] %matplotlib\n  [2] robot.plot()\n\nto compare the real and imaginary part of the macroscopic dielectric function for the different displacements.\n\n<img src=\"https://github.com/abinit/abipy_assets/blob/master/run_raman_bse.png?raw=true\" alt=\"Band structure of Si in the IBZ and along a k-path\">\n\n\n"
      ]
    }
  ],
  "metadata": {
    "kernelspec": {
      "display_name": "Python 3",
      "language": "python",
      "name": "python3"
    },
    "language_info": {
      "codemirror_mode": {
        "name": "ipython",
        "version": 3
      },
      "file_extension": ".py",
      "mimetype": "text/x-python",
      "name": "python",
      "nbconvert_exporter": "python",
      "pygments_lexer": "ipython3",
      "version": "3.8.0"
    }
  },
  "nbformat": 4,
  "nbformat_minor": 0
}