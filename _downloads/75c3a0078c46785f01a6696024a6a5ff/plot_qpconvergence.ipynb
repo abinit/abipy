{
  "cells": [
    {
      "cell_type": "code",
      "execution_count": null,
      "metadata": {
        "collapsed": false
      },
      "outputs": [],
      "source": [
        "%matplotlib inline"
      ]
    },
    {
      "cell_type": "markdown",
      "metadata": {},
      "source": [
        "\n# GW Convergence\n\nThis example shows how to use the SigresRobot to visualize the convergence of the\nQP results stored in the SIGRES.nc files produced by the GW code (sigma run).\n"
      ]
    },
    {
      "cell_type": "code",
      "execution_count": null,
      "metadata": {
        "collapsed": false
      },
      "outputs": [],
      "source": [
        "from abipy.abilab import SigresRobot\nimport abipy.data as abidata\n\n# List of SIGRES files computed with different values of nband.\nfilenames = [\n    \"si_g0w0ppm_nband10_SIGRES.nc\",\n    \"si_g0w0ppm_nband20_SIGRES.nc\",\n    \"si_g0w0ppm_nband30_SIGRES.nc\",\n]\n\nfilepaths = [abidata.ref_file(fname) for fname in filenames]\n\n# Build robot from list of file paths\nrobot = SigresRobot.from_files(filepaths)\n#robot.remap_labels(lambda sigres: sigres.params[\"sigma_nband\"])\n\n# Plot the convergence of the QP gaps.\nrobot.plot_qpgaps_convergence(sortby=\"sigma_nband\", title=\"QP gaps vs sigma_nband\")\n\n# Plot the convergence of the QP energies.\nrobot.plot_qpdata_conv_skb(spin=0, kpoint=[0, 0, 0], band=3, sortby=\"sigma_nband\")\n\n# sphinx_gallery_thumbnail_number = 3\nrobot.plot_qpfield_vs_e0(\"qpeme0\", sortby=\"sigma_nband\", title=\"QP energies vs sigma_nband\")"
      ]
    }
  ],
  "metadata": {
    "kernelspec": {
      "display_name": "Python 3",
      "language": "python",
      "name": "python3"
    },
    "language_info": {
      "codemirror_mode": {
        "name": "ipython",
        "version": 3
      },
      "file_extension": ".py",
      "mimetype": "text/x-python",
      "name": "python",
      "nbconvert_exporter": "python",
      "pygments_lexer": "ipython3",
      "version": "3.9.2"
    }
  },
  "nbformat": 4,
  "nbformat_minor": 0
}