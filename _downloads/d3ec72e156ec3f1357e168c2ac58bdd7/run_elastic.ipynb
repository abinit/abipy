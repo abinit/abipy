{
  "cells": [
    {
      "cell_type": "code",
      "execution_count": null,
      "metadata": {
        "collapsed": false
      },
      "outputs": [],
      "source": [
        "%matplotlib inline"
      ]
    },
    {
      "cell_type": "markdown",
      "metadata": {},
      "source": [
        "\n# Flow for elastic constants and piezoelectric tensor with DFPT\n\nThis example shows how to use AbiPy to calculate physical properties\nrelated to strain for an insulator.\n\n    - the rigid-atom elastic tensor\n    - the rigid-atom piezoelectric tensor (insulators only)\n    - the internal strain tensor\n    - the atomic relaxation corrections to the elastic and piezoelectric tensor\n\nHere we follow the discussion presented in\nin the `the official tutorial <https://docs.abinit.org/tutorial/elastic/>`_\n\nThe DDB file with all the perturbations will be produced automatically at the end of the run\nand saved in ``flow_elastic/w0/outdata/out_DDB``.\n"
      ]
    },
    {
      "cell_type": "code",
      "execution_count": null,
      "metadata": {
        "collapsed": false
      },
      "outputs": [],
      "source": [
        "import sys\nimport os\nimport numpy as np\nimport abipy.abilab as abilab\nimport abipy.data as abidata\n\nfrom abipy import flowtk\n\n\ndef make_scf_input(paral_kgb=0):\n    \"\"\"\n    This function constructs the input file for the GS calculation of\n    AlAs in hypothetical wurzite (hexagonal) structure.\n    In principle, the stucture should be relaxed before starting the calculation\n    \"\"\"\n\n    # Initialize structure. Use enough significant digits\n    # so that Abinit will recognize the correct spacegroup\n    # (Hexagonal and rhombohedral lattices are a bit problematic).\n    structure = abilab.Structure.from_abivars(\n        acell=[7.5389648144E+00, 7.5389648144E+00, 1.2277795374E+01],\n        natom=4,\n        ntypat=2,\n        rprim=[np.sqrt(0.75), 0.5, 0.0,\n               -np.sqrt(0.75), 0.5, 0.0,\n               0.0, 0.0, 1.0],\n        typat=[1, 1, 2, 2],\n        xred=[1/3, 2/3, 0,\n              2/3, 1/3, 1/2,\n              1/3, 2/3, 3.7608588373E-01,\n              2/3, 1/3, 8.7608588373E-01],\n        znucl=[13, 33],\n    )\n\n    pseudos = abidata.pseudos(\"13al.pspnc\", \"33as.pspnc\")\n    gs_inp = abilab.AbinitInput(structure, pseudos=pseudos)\n\n    # Set other important variables (consistent with tutorial)\n    # Aall the other DFPT runs will inherit these parameters.\n    gs_inp.set_vars(\n        nband=8,\n        ecut=6.0,\n        ecutsm=0.5,        # Important when performing structural optimization\n                           # with variable cell. All DFPT calculations should use\n                           # the same value to be consistent.\n        ngkpt=[4, 4, 4],\n        nshiftk=1,\n        shiftk=[0.0, 0.0, 0.5],   # This choice preserves the hexagonal symmetry of the grid.\n        diemac=9.0,\n        nstep=40,\n        paral_kgb=paral_kgb,\n        tolvrs=1.0e-18,\n    )\n\n    return gs_inp\n\n\ndef build_flow(options):\n    \"\"\"\n    Create a `Flow` for phonon calculations. The flow has one work with:\n\n        - 1 GS Task\n        - 3 DDK Task\n        - 4 Phonon Tasks (Gamma point)\n        - 6 Elastic tasks (3 uniaxial + 3 shear strain)\n\n    The Phonon tasks and the elastic task will read the DDK produced at the beginning\n    \"\"\"\n    # Working directory (default is the name of the script with '.py' removed and \"run_\" replaced by \"flow_\")\n    if not options.workdir:\n        options.workdir = os.path.basename(sys.argv[0]).replace(\".py\", \"\").replace(\"run_\", \"flow_\")\n\n    flow = flowtk.Flow(workdir=options.workdir)\n\n    # Build input for GS calculation and register the first work.\n    scf_input = make_scf_input()\n\n    elast_work = flowtk.ElasticWork.from_scf_input(scf_input, with_relaxed_ion=True, with_piezo=True)\n\n    flow.register_work(elast_work)\n\n    return flow\n\n\n# This block generates the thumbnails in the AbiPy gallery.\n# You can safely REMOVE this part if you are using this script for production runs.\nif os.getenv(\"READTHEDOCS\", False):\n    __name__ = None\n    import tempfile\n    options = flowtk.build_flow_main_parser().parse_args([\"-w\", tempfile.mkdtemp()])\n    build_flow(options).graphviz_imshow()\n\n\n@flowtk.flow_main\ndef main(options):\n    \"\"\"\n    This is our main function that will be invoked by the script.\n    flow_main is a decorator implementing the command line interface.\n    Command line args are stored in `options`.\n    \"\"\"\n    return build_flow(options)\n\n\nif __name__ == \"__main__\":\n    sys.exit(main())"
      ]
    },
    {
      "cell_type": "markdown",
      "metadata": {},
      "source": [
        "Run the script with:\n\n     run_elastic.py -s\n\n then use:\n\n    abirun.py flow_elastic deps\n\n to get the list of dependencies in the flow.\n Note, in particular, how the ``ElasticTasks`` depend on 3 DdkTasks and the initial ScfTask\n\n .. code-block:: bash\n\n\t<ElasticTask, node_id=340607, workdir=flow_elastic/w0/t13, qpt: (0, 0, 0), rfstrs: 2, rfdir: [0, 0, 1], irdddk: 1>\n\t  +--<ScfTask, node_id=340593, workdir=flow_elastic/w0/t0>\n\t  +--<DdkTask, node_id=340594, workdir=flow_elastic/w0/t1, qpt: (0, 0, 0), rfelfd: 2 rfdir: (1, 0, 0), irdddk: 0>\n\t  |  +--<ScfTask, node_id=340593, workdir=flow_elastic/w0/t0>\n\t  +--<DdkTask, node_id=340595, workdir=flow_elastic/w0/t2, qpt: (0, 0, 0), rfelfd: 2 rfdir: (0, 1, 0), irdddk: 0>\n\t  |  +--<ScfTask, node_id=340593, workdir=flow_elastic/w0/t0>\n\t  +--<DdkTask, node_id=340596, workdir=flow_elastic/w0/t3, qpt: (0, 0, 0), rfelfd: 2 rfdir: (0, 0, 1), irdddk: 0>\n\t     +--<ScfTask, node_id=340593, workdir=flow_elastic/w0/t0>\n\n Use:\n\n    abiopen.py flow_elastic/w0/outdata/out_DDB -p\n\n to print information about the DDB file. You should see that the DDB file contains:\n\n .. code-block:: bash\n\n\t Has (at least one) atomic pertubation: True\n\t Has (at least one) electric-field perturbation: True\n\t Has (at least one) Born effective charge: True\n\t Has (all) strain terms: True\n\t Has (all) internal strain terms: True\n\t Has (all) piezoelectric terms: True\n\n Now open the final DDB file with:\n\n    abiopen.py flow_elastic/w0/outdata/out_DDB\n\n and invoke anaddb to compute the elastic and piezoelectric properties\n\n .. code-block:: ipython\n\n     In [1]: edata = abifile.anaget_elastic()\n     In [2]: print(edata)\n\n"
      ]
    }
  ],
  "metadata": {
    "kernelspec": {
      "display_name": "Python 3",
      "language": "python",
      "name": "python3"
    },
    "language_info": {
      "codemirror_mode": {
        "name": "ipython",
        "version": 3
      },
      "file_extension": ".py",
      "mimetype": "text/x-python",
      "name": "python",
      "nbconvert_exporter": "python",
      "pygments_lexer": "ipython3",
      "version": "3.8.0"
    }
  },
  "nbformat": 4,
  "nbformat_minor": 0
}