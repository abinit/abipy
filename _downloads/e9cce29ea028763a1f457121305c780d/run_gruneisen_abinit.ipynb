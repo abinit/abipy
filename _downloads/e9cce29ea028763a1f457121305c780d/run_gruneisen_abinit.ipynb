{
  "cells": [
    {
      "cell_type": "code",
      "execution_count": null,
      "metadata": {
        "collapsed": false
      },
      "outputs": [],
      "source": [
        "%matplotlib inline"
      ]
    },
    {
      "cell_type": "markdown",
      "metadata": {},
      "source": [
        "\n# Gruneisen parameters with DFPT phonons and finite difference\n\nThis script compute the Gr\u00fcneisen parameters (derivative of frequencies wrt Volume)\nusing finite differences and the phonons obtained with the DFPT part of Abinit.\nThe Anaddb input file needed to compute Gr\u00fcneisen parameters will be generated\nin the outdata directory of the flow.\n\nIt is necessary to run three DFPT phonon calculations.\nOne is calculated at the equilibrium volume and the remaining two are calculated\nat the slightly larger volume and smaller volume than the equilibrium volume.\nThe unitcells at these volumes have to be fully relaxed under the constraint of each volume.\n"
      ]
    },
    {
      "cell_type": "code",
      "execution_count": null,
      "metadata": {
        "collapsed": false
      },
      "outputs": [],
      "source": [
        "import sys\nimport os\nimport abipy.abilab as abilab\nimport abipy.data as abidata\nfrom abipy import flowtk\n\n\ndef build_flow(options):\n    \"\"\"\n    Create a `Flow` for Gr\u00fcneisen calculations:\n    Three relaxations at fixed volume followed by phonon calculation on a q-mesh.\n    \"\"\"\n    # Working directory (default is the name of the script with '.py' removed and \"run_\" replaced by \"flow_\")\n    if not options.workdir:\n        options.workdir = os.path.basename(sys.argv[0]).replace(\".py\", \"\").replace(\"run_\", \"flow_\")\n\n    flow = flowtk.Flow(workdir=options.workdir)\n\n    # This function constructs the input files for the phonon calculation:\n    # GS input + the input files for the phonon calculation.\n    pseudos = abidata.pseudos(\"14si.pspnc\")\n    structure = abidata.structure_from_ucell(\"Si\")\n\n    gs_inp = abilab.AbinitInput(structure, pseudos=pseudos)\n\n    # Global variables used both for the GS and the DFPT run.\n    gs_inp.set_vars(\n        nband=4,\n        ecut=2.0,\n        ngkpt=[4, 4, 4],\n        nshiftk=4,\n        shiftk=[0.0, 0.0, 0.5,   # This gives the usual fcc Monkhorst-Pack grid\n                0.0, 0.5, 0.0,\n                0.5, 0.0, 0.0,\n                0.5, 0.5, 0.5],\n        diemac=12.0,\n        #iomode=3,\n        tolvrs=1.0e-18,\n    )\n\n    # NB: k-mesh in gs_inp and ngqpt q-mesh must be commensurate.\n    from abipy.flowtk.gruneisen import GruneisenWork\n    voldelta = gs_inp.structure.volume * 0.02\n    work = GruneisenWork.from_gs_input(gs_inp, voldelta, ngqpt=[2, 2, 2], with_becs=False)\n    flow.register_work(work)\n\n    return flow\n\n\n# This block generates the thumbnails in the AbiPy gallery.\n# You can safely REMOVE this part if you are using this script for production runs.\nif os.getenv(\"READTHEDOCS\", False):\n    __name__ = None\n    import tempfile\n    options = flowtk.build_flow_main_parser().parse_args([\"-w\", tempfile.mkdtemp()])\n    build_flow(options).plot_networkx(tight_layout=True)\n\n\n@flowtk.flow_main\ndef main(options):\n    \"\"\"\n    This is our main function that will be invoked by the script.\n    flow_main is a decorator implementing the command line interface.\n    Command line args are stored in `options`.\n    \"\"\"\n    return build_flow(options)\n\n\nif __name__ == \"__main__\":\n    sys.exit(main())"
      ]
    }
  ],
  "metadata": {
    "kernelspec": {
      "display_name": "Python 3",
      "language": "python",
      "name": "python3"
    },
    "language_info": {
      "codemirror_mode": {
        "name": "ipython",
        "version": 3
      },
      "file_extension": ".py",
      "mimetype": "text/x-python",
      "name": "python",
      "nbconvert_exporter": "python",
      "pygments_lexer": "ipython3",
      "version": "3.8.0"
    }
  },
  "nbformat": 4,
  "nbformat_minor": 0
}