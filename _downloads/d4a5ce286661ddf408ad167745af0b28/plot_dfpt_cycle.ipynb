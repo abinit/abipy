{
  "cells": [
    {
      "cell_type": "code",
      "execution_count": null,
      "metadata": {
        "collapsed": false
      },
      "outputs": [],
      "source": [
        "%matplotlib inline"
      ]
    },
    {
      "cell_type": "markdown",
      "metadata": {},
      "source": [
        "\n# DFPT SCF cycle\n\nThis example shows how to plot the results of the DFPT\nself-consistent cycle reported in the main output file.\n"
      ]
    },
    {
      "cell_type": "code",
      "execution_count": null,
      "metadata": {
        "collapsed": false
      },
      "outputs": [],
      "source": [
        "from abipy.abilab import abiopen\nimport abipy.data as abidata\n\n# Open the output file with DFPT calculations (Note the .abo extension).\n# Alternatively, one can use `abiopen.py run.abo -nb` to generate a jupyter notebook.\nabo = abiopen(abidata.ref_file(\"refs/gs_dfpt.abo\"))\n\n# Plot all SCF-GS sections found in the output file.\nwhile True:\n    dfpt_cycle = abo.next_d2de_scf_cycle()\n    if dfpt_cycle is None: break\n    dfpt_cycle.plot()\n\n\n# If timopt -1, we can extract the timing and plot the data.\n#timer = abo.get_timer()\n#timer.plot_pie()\n\nabo.close()"
      ]
    }
  ],
  "metadata": {
    "kernelspec": {
      "display_name": "Python 3",
      "language": "python",
      "name": "python3"
    },
    "language_info": {
      "codemirror_mode": {
        "name": "ipython",
        "version": 3
      },
      "file_extension": ".py",
      "mimetype": "text/x-python",
      "name": "python",
      "nbconvert_exporter": "python",
      "pygments_lexer": "ipython3",
      "version": "3.8.0"
    }
  },
  "nbformat": 4,
  "nbformat_minor": 0
}