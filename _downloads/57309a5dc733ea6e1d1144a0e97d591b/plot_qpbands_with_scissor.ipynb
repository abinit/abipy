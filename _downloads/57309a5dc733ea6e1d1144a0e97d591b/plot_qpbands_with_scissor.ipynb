{
  "cells": [
    {
      "cell_type": "code",
      "execution_count": null,
      "metadata": {
        "collapsed": false
      },
      "outputs": [],
      "source": [
        "%matplotlib inline"
      ]
    },
    {
      "cell_type": "markdown",
      "metadata": {},
      "source": [
        "\n# GW with scissors operator\n\nThis example shows how to generate an energy-dependent scissors operator\nby fitting the GW corrections as function of the KS eigenvalues.\nWe then use the scissors operator to correct the KS band structure\ncomputed on a high symmetry k-path. Finally, the LDA and the QPState band\nstructure are plotted with matplotlib.\n"
      ]
    },
    {
      "cell_type": "code",
      "execution_count": null,
      "metadata": {
        "collapsed": false
      },
      "outputs": [],
      "source": [
        "import abipy.data as abidata\nfrom abipy.abilab import abiopen, ElectronBandsPlotter\n\n# Get the QP results from the SIGRES.nc database.\nsigma_file = abiopen(abidata.ref_file(\"si_g0w0ppm_nband30_SIGRES.nc\"))\n\n# Let's have a look at the QP correction as function of the KS energy.\n# Don't shift KS eigenvalues to have zero energy at the Fermi energy.\n# because we need the absolute values for the fit.\n# The qpeme0(e0) curve consists of two branches:\n#   the one in the [-6, 5.7] eV interval associated to valence states\n#   and the one in the [6.1, 15] eV interval associated to conduction bands.\n# We will fit these results with 2 functions defined in these two domains.\nsigma_file.plot_qps_vs_e0(e0=None)\nsigma_file.plot_qps_vs_e0()\n\nqplist_spin = sigma_file.qplist_spin\n\n# Define the two domains and construct the scissors operator\ndomains = [[-10, 6.1], [6.1, 18]]\nscissors = qplist_spin[0].build_scissors(domains, bounds=None)\n\n# Read the KS band energies computed on the k-path\nks_bands = abiopen(abidata.ref_file(\"si_nscf_GSR.nc\")).ebands\n\n# Read the KS band energies computed on the Monkhorst-Pack (MP) mesh\n# and compute the DOS with the Gaussian method\nks_mpbands = abiopen(abidata.ref_file(\"si_scf_GSR.nc\")).ebands\nks_edos = ks_mpbands.get_edos()\n\n# Apply the scissors operator first on the KS band structure\n# along the k-path then on the energies computed with the MP mesh.\nqp_bands = ks_bands.apply_scissors(scissors)\n\nqp_mpbands = ks_mpbands.apply_scissors(scissors)\n\n# Compute the DOS with the modified QPState energies.\nqp_edos = qp_mpbands.get_edos()\n\n# Plot the LDA and the QPState band structure with matplotlib.\nplotter = ElectronBandsPlotter()\n\nplotter.add_ebands(\"LDA\", ks_bands, edos=ks_edos)\nplotter.add_ebands(\"LDA+scissors(e)\", qp_bands, edos=qp_edos)\n\n# By default, the two band energies are shifted wrt to *their* fermi level.\n# Use e=0 if you don't want to shift the eigenvalus\n# so that it's possible to visualize the QP corrections.\nplotter.combiplot(title=\"Silicon band structure\")\n\nplotter.gridplot(title=\"Silicon band structure\")\nsigma_file.close()"
      ]
    }
  ],
  "metadata": {
    "kernelspec": {
      "display_name": "Python 3",
      "language": "python",
      "name": "python3"
    },
    "language_info": {
      "codemirror_mode": {
        "name": "ipython",
        "version": 3
      },
      "file_extension": ".py",
      "mimetype": "text/x-python",
      "name": "python",
      "nbconvert_exporter": "python",
      "pygments_lexer": "ipython3",
      "version": "3.9.2"
    }
  },
  "nbformat": 4,
  "nbformat_minor": 0
}