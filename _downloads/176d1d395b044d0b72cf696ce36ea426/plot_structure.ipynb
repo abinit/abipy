{
  "cells": [
    {
      "cell_type": "code",
      "execution_count": null,
      "metadata": {
        "collapsed": false
      },
      "outputs": [],
      "source": [
        "%matplotlib inline"
      ]
    },
    {
      "cell_type": "markdown",
      "metadata": {},
      "source": [
        "\n# Unit cell\n\nThis example shows how to display the unit cell with matplotlib.\n"
      ]
    },
    {
      "cell_type": "code",
      "execution_count": null,
      "metadata": {
        "collapsed": false
      },
      "outputs": [],
      "source": [
        "from abipy.abilab import abiopen\nimport abipy.data as abidata\n\n# Extract structure from netcdf file.\nwith abiopen(abidata.ref_file(\"sio2_kpath_GSR.nc\")) as gsr:\n    structure = gsr.structure\n\n# Visualize sites structure.\nstructure.plot(color_scheme=\"Jmol\")\n\n# Wrap sites into first unit cell.\n# sphinx_gallery_thumbnail_number = 2\nstructure.plot(to_unit_cell=True)"
      ]
    }
  ],
  "metadata": {
    "kernelspec": {
      "display_name": "Python 3",
      "language": "python",
      "name": "python3"
    },
    "language_info": {
      "codemirror_mode": {
        "name": "ipython",
        "version": 3
      },
      "file_extension": ".py",
      "mimetype": "text/x-python",
      "name": "python",
      "nbconvert_exporter": "python",
      "pygments_lexer": "ipython3",
      "version": "3.9.2"
    }
  },
  "nbformat": 4,
  "nbformat_minor": 0
}