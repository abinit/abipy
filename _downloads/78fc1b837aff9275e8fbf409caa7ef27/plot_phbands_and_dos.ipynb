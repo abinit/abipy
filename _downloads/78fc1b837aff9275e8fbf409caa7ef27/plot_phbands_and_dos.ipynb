{
  "cells": [
    {
      "cell_type": "code",
      "execution_count": null,
      "metadata": {
        "collapsed": false
      },
      "outputs": [],
      "source": [
        "%matplotlib inline"
      ]
    },
    {
      "cell_type": "markdown",
      "metadata": {},
      "source": [
        "\n# Phonon Band structures\n\nThis example shows how to plot the phonon band structure of AlAs.\nSee tutorial/lesson_rf2.html\n"
      ]
    },
    {
      "cell_type": "code",
      "execution_count": null,
      "metadata": {
        "collapsed": false
      },
      "outputs": [],
      "source": [
        "from abipy.abilab import abiopen\nimport abipy.data as abidata\n\n# Open the PHBST file produced by anaddb and get the phonon bands.\nwith abiopen(abidata.ref_file(\"trf2_5.out_PHBST.nc\")) as ncfile:\n    phbands = ncfile.phbands\n\n# Read the Phonon DOS from the netcd file produced by anaddb (prtdos 2)\nwith abiopen(abidata.ref_file(\"trf2_5.out_PHDOS.nc\")) as ncfile:\n    phdos = ncfile.phdos\n\n# plot phonon bands and DOS with LO-TO.\n# `plot_phonons_lo_to.py` shows how to treat the LO-TO splitting.\nphbands.plot(title=\"AlAs Phonon bands and DOS in eV\")\n\n# plot phonon bands with DOS.\nphbands.plot_with_phdos(phdos, units=\"cm-1\",\n                        title=\"AlAs Phonon bands + DOS in cm-1\")\n\n# plot phonon DOS.\nphdos.plot(units=\"cm-1\", title=\"Phonon DOS and IDOS in cm-1\")\n\n# Plot the phonon band structure with different color for each line.\nphbands.plot_colored_matched(units=\"cm-1\",\n                             title=\"AlAs with different color for each line.\")"
      ]
    }
  ],
  "metadata": {
    "kernelspec": {
      "display_name": "Python 3",
      "language": "python",
      "name": "python3"
    },
    "language_info": {
      "codemirror_mode": {
        "name": "ipython",
        "version": 3
      },
      "file_extension": ".py",
      "mimetype": "text/x-python",
      "name": "python",
      "nbconvert_exporter": "python",
      "pygments_lexer": "ipython3",
      "version": "3.9.2"
    }
  },
  "nbformat": 4,
  "nbformat_minor": 0
}