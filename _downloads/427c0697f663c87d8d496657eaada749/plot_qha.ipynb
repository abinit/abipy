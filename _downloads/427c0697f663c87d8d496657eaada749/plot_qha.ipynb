{
  "cells": [
    {
      "cell_type": "code",
      "execution_count": null,
      "metadata": {
        "collapsed": false
      },
      "outputs": [],
      "source": [
        "%matplotlib inline"
      ]
    },
    {
      "cell_type": "markdown",
      "metadata": {},
      "source": [
        "\n# Quasi-harmonic approximation\n\nThis example shows how to use the GSR.nc and PHDOS.nc files computed with different volumes\nto compute thermodynamic properties within the quasi-harmonic approximation.\n"
      ]
    },
    {
      "cell_type": "code",
      "execution_count": null,
      "metadata": {
        "collapsed": false
      },
      "outputs": [],
      "source": [
        "import os\nimport abipy.data as abidata\n\nfrom abipy.dfpt.phonons import PhononBands\nfrom abipy.dfpt.qha import QHA\n\n# We use a list of GSR.nc and PHDOS.nc files corresponding to different isotropic strains.\n# These files are shipped with AbiPy so that we don't need to run calculations from scratch.\nstrains = [-4, -2, 0, 2, 4, 6]\ndirpath = os.path.join(abidata.dirpath, \"refs\", \"si_qha\")\n\ngsr_paths = [os.path.join(dirpath, \"mp-149_{:+d}_GSR.nc\".format(s)) for s in strains]\ndos_paths = [os.path.join(dirpath, \"mp-149_{:+d}_PHDOS.nc\".format(s)) for s in strains]\n\n# Initialize QHA object from files.\n# The PHDOS.nc files can be obtained from the DDB used ddb.anaget_phbst_and_phdos_files(...)\nqha = QHA.from_files(gsr_paths, dos_paths)\n\n# To change the default EOS (vinet), use\n#qha.set_eos(\"murnaghan\")\n\nqha.plot_energies(title=\"Energies as a function of volume for different T\")\n\nqha.plot_thermal_expansion_coeff(title=\"Thermal expansion coefficient as a function of T\")\n\nqha.plot_vol_vs_t(title=\"Volume as a function of T\")\n\n# Fake temperatures to test the plotting function.\nphbs_list = [PhononBands.from_file(os.path.join(dirpath, \"mp-149_{:+d}_PHBST.nc\".format(s))) for s in\n             strains[2:4]]\n\nqha.plot_phbs(phbs_list, temperatures=[10, 20], title=\"Phonon band structures with color depending on T\")\n\n# Here we build a Phonopy QHA object.\n# Cannot run this code because it breaks sphinx-gallery\n\n#qha_phonopy = qha.get_phonopy_qha(tstop=500, num=11)\n#qha_phonopy.run()\n#qha_phonopy.plot_bulk_modulus_temperature().show()"
      ]
    }
  ],
  "metadata": {
    "kernelspec": {
      "display_name": "Python 3",
      "language": "python",
      "name": "python3"
    },
    "language_info": {
      "codemirror_mode": {
        "name": "ipython",
        "version": 3
      },
      "file_extension": ".py",
      "mimetype": "text/x-python",
      "name": "python",
      "nbconvert_exporter": "python",
      "pygments_lexer": "ipython3",
      "version": "3.9.2"
    }
  },
  "nbformat": 4,
  "nbformat_minor": 0
}