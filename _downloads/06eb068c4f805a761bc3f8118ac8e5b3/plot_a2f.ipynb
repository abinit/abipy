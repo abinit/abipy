{
  "cells": [
    {
      "cell_type": "code",
      "execution_count": null,
      "metadata": {
        "collapsed": false
      },
      "outputs": [],
      "source": [
        "%matplotlib inline"
      ]
    },
    {
      "cell_type": "markdown",
      "metadata": {},
      "source": [
        "\n# Eliashberg function\n\nThis example shows how to plot the Eliashberg function a2F(w)\nand the total e-ph coupling strenght in metals.\n"
      ]
    },
    {
      "cell_type": "code",
      "execution_count": null,
      "metadata": {
        "collapsed": false
      },
      "outputs": [],
      "source": [
        "from abipy import abilab\nimport abipy.data as abidata\n\nphdos_path = abidata.ref_file(\"al_161616q_PHDOS.nc\")\n\nncfile = abilab.abiopen(abidata.ref_file(\"al_888k_161616q_A2F.nc\"))\nprint(ncfile)\n\n#ncfile.phbands.plot()\n#ncfile.a2f_qintp.plot()\n#with_lambda = False\n#fig = ncfile.a2f_qcoarse.plot_nuterms(with_lambda=with_lambda, show=False)\n#ncfile.a2f_qintp.plot_nuterms(axmat=fig.axes, with_lambda=with_lambda)\n\n#ncfile.plot()\nncfile.plot_with_a2f(phdos=phdos_path)\n\nncfile.plot_eph_strength(what=\"gamma\")\n#ncfile.plot_eph_strength(what=\"lambda\")\n\nncfile.plot_a2f_interpol()\n\n# Grid with 3 plots (a2F, F, a2F) with F taken from PHDOS file.\n#ncfile.a2f_qintp.plot_a2(phdos_path)"
      ]
    }
  ],
  "metadata": {
    "kernelspec": {
      "display_name": "Python 3",
      "language": "python",
      "name": "python3"
    },
    "language_info": {
      "codemirror_mode": {
        "name": "ipython",
        "version": 3
      },
      "file_extension": ".py",
      "mimetype": "text/x-python",
      "name": "python",
      "nbconvert_exporter": "python",
      "pygments_lexer": "ipython3",
      "version": "3.8.0"
    }
  },
  "nbformat": 4,
  "nbformat_minor": 0
}