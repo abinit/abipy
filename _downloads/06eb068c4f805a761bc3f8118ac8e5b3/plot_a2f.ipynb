{
  "cells": [
    {
      "cell_type": "code",
      "execution_count": null,
      "metadata": {
        "collapsed": false
      },
      "outputs": [],
      "source": [
        "%matplotlib inline"
      ]
    },
    {
      "cell_type": "markdown",
      "metadata": {},
      "source": [
        "\n# Eliashberg function\n\nThis example shows how to plot the Eliashberg function a2F(w)\nand the e-ph coupling strenght in metals.\n"
      ]
    },
    {
      "cell_type": "code",
      "execution_count": null,
      "metadata": {
        "collapsed": false
      },
      "outputs": [],
      "source": [
        "from abipy import abilab\nimport abipy.data as abidata\n\nphdos_path = abidata.ref_file(\"al_161616q_PHDOS.nc\")\n\nwith abilab.abiopen(abidata.ref_file(\"al_888k_161616q_A2F.nc\")) as ncfile:\n    print(ncfile)\n    #ncfile.phbands.plot()\n    #ncfile.a2f_qintp.plot()\n    #with_lambda = False\n    #fig = ncfile.a2f_qcoarse.plot_nuterms(with_lambda=with_lambda, show=False)\n    #ncfile.a2f_qintp.plot_nuterms(axmat=fig.axes, with_lambda=with_lambda)\n\n    #ncfile.plot()\n    ncfile.plot_with_a2f(phdos=phdos_path)\n\n    ncfile.plot_eph_strength(what=\"gamma\")\n    #ncfile.plot_eph_strength(what=\"lambda\")\n\n    ncfile.plot_a2f_interpol()\n\n    # Grid with 3 plots (a2F, F, a2F) with F taken from PHDOS file.\n    #ncfile.a2f_qintp.plot_a2(phdos_path)"
      ]
    }
  ],
  "metadata": {
    "kernelspec": {
      "display_name": "Python 3",
      "language": "python",
      "name": "python3"
    },
    "language_info": {
      "codemirror_mode": {
        "name": "ipython",
        "version": 3
      },
      "file_extension": ".py",
      "mimetype": "text/x-python",
      "name": "python",
      "nbconvert_exporter": "python",
      "pygments_lexer": "ipython3",
      "version": "3.9.2"
    }
  },
  "nbformat": 4,
  "nbformat_minor": 0
}