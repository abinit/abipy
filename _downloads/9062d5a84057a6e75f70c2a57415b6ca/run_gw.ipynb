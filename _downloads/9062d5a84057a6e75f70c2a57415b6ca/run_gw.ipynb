{
  "cells": [
    {
      "cell_type": "code",
      "execution_count": null,
      "metadata": {
        "collapsed": false
      },
      "outputs": [],
      "source": [
        "%matplotlib inline"
      ]
    },
    {
      "cell_type": "markdown",
      "metadata": {},
      "source": [
        "\n# G0W0 convergence study\n\nG0W0 convergence study wrt ecuteps and the number of bands in W.\n"
      ]
    },
    {
      "cell_type": "code",
      "execution_count": null,
      "metadata": {
        "collapsed": false
      },
      "outputs": [],
      "source": [
        "import sys\nimport os\nimport numpy as np\n\nimport abipy.abilab as abilab\nimport abipy.data as abidata\nimport abipy.flowtk as flowtk\n\n\ndef build_flow(options):\n\n    # Working directory (default is the name of the script with '.py' removed and \"run_\" replaced by \"flow_\")\n    if not options.workdir:\n        options.workdir = os.path.basename(sys.argv[0]).replace(\".py\", \"\").replace(\"run_\", \"flow_\")\n\n    # Build the SCF input.\n    scf_inp = abilab.AbinitInput(structure=abidata.structure_from_ucell(\"SiC\"),\n                                 pseudos=abidata.pseudos(\"14si.pspnc\", \"6c.pspnc\"))\n\n    ngkpt = [4, 4, 4]\n    shiftk = [0, 0, 0]\n\n    print(\"Number of valence electrons in the unit cell:\", scf_inp.num_valence_electrons)\n\n    scf_inp.set_vars(\n        ecut=12,\n        nband=10,\n        ngkpt=ngkpt,\n        shiftk=shiftk,\n        tolvrs=1.e-4,\n        #paral_kgb=1,\n        #iomode=3,\n    )\n\n    #ebands_inp = scf_inp.make_ebands_input(ndivsm=15)\n\n    # Build NSCF input on a k-mesh including empty states.\n    nscf_inp = scf_inp.new_with_vars(\n        nband=25,\n        #nbdbuf=10\n        tolwfr=1.e-8,\n        iscf=-2\n    )\n\n    flow = flowtk.Flow(workdir=options.workdir, manager=options.manager)\n\n    # Band structure work to produce the WFK file with a NSCF run + empty states.\n    bands_work = flowtk.BandStructureWork(scf_inp, nscf_inp) # dos_inputs=[nscf_inp])\n    flow.register_work(bands_work)\n\n    # Compute screening by splitting all the q-points.\n    ecuteps_list = np.arange(2, 8, 2)\n    #ecuteps_list = [2]\n    max_ecuteps = max(ecuteps_list)\n\n    for ecuteps in ecuteps_list:\n        scr_inp = nscf_inp.new_with_vars(\n            optdriver=3,\n            ecuteps=ecuteps,\n            nband=20,\n        )\n\n        scr_work = flowtk.ScreeningWork.from_nscf_task(bands_work.nscf_task, scr_inp)\n\n        # Ii you alredy have a WFK file and you want to skip the SCF + NSCF part\n        # build the work using:\n\n        #scr_work = ScreeningWork.from_wfk_file(wfk_filepath, scr_inp)\n\n        scr_work.set_readme(f\"SCR computation with ecuteps={ecuteps}\")\n        flow.register_work(scr_work)\n\n    # Do a convergence study wrt ecuteps, each work is connected to a\n    # different SCR file computed with a different value of nband.\n    # Build a list of sigma inputs with different ecuteps\n\n    sigma_work = flow.new_work()\n\n    # Input file for SIGMA\n    sigma_inp = scr_inp.new_with_vars(\n        optdriver=4,\n        nband=20,\n        ecuteps=max_ecuteps,\n        ecutsigx=scf_inp[\"ecut\"],\n        #ecutsigx=(3.5 * scf_input[\"ecut\"]), ! This is problematic\n        #gw_qprange\n    )\n\n    sigma_inp.set_kptgw(kptgw=[[0, 0, 0], [0.5, 0, 0]], bdgw=[1, 8])\n\n    sigma_work.register_sigma_task(sigma_inp, deps={bands_work.nscf_task: \"WFK\", scr_work: \"SCR\"})\n\n    #for scr_task in scr_work:\n    #    sigma_conv = flowtk.SigmaConvWork(wfk_node=bands.nscf_task, scr_node=scr_task,\n    #                                      sigma_inputs=sigma_inputs)\n    #    flow.register_work(sigma_conv)\n\n    return flow\n\n\n# This block generates the thumbnails in the AbiPy gallery.\n# You can safely REMOVE this part if you are using this script for production runs.\nif os.getenv(\"READTHEDOCS\", False):\n    __name__ = None\n    import tempfile\n    options = flowtk.build_flow_main_parser().parse_args([\"-w\", tempfile.mkdtemp()])\n    build_flow(options).graphviz_imshow()\n\n\n@flowtk.flow_main\ndef main(options):\n    \"\"\"\n    This is our main function that will be invoked by the script.\n    flow_main is a decorator implementing the command line interface.\n    Command line args are stored in `options`.\n    \"\"\"\n    return build_flow(options)\n\n\nif __name__ == \"__main__\":\n    sys.exit(main())"
      ]
    }
  ],
  "metadata": {
    "kernelspec": {
      "display_name": "Python 3",
      "language": "python",
      "name": "python3"
    },
    "language_info": {
      "codemirror_mode": {
        "name": "ipython",
        "version": 3
      },
      "file_extension": ".py",
      "mimetype": "text/x-python",
      "name": "python",
      "nbconvert_exporter": "python",
      "pygments_lexer": "ipython3",
      "version": "3.8.0"
    }
  },
  "nbformat": 4,
  "nbformat_minor": 0
}