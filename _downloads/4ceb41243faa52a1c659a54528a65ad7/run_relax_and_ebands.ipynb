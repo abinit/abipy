{
  "cells": [
    {
      "cell_type": "code",
      "execution_count": null,
      "metadata": {
        "collapsed": false
      },
      "outputs": [],
      "source": [
        "%matplotlib inline"
      ]
    },
    {
      "cell_type": "markdown",
      "metadata": {},
      "source": [
        "\n# Flow for Relaxation + Bands\n\nThis script shows how to perform a structural relaxation and a band structure calculation\n\nWARNING: The API could change!\n"
      ]
    },
    {
      "cell_type": "code",
      "execution_count": null,
      "metadata": {
        "collapsed": false
      },
      "outputs": [],
      "source": [
        "import sys\nimport os\nimport abipy.data as abidata\nimport abipy.abilab as abilab\nimport abipy.flowtk as flowtk\n\n\ndef make_ion_ioncell_inputs(paral_kgb=0):\n    pseudos = abidata.pseudos(\"14si.pspnc\")\n    structure = abilab.Structure.from_file(abidata.cif_file(\"si.cif\"))\n\n    # Perturb the structure (random perturbation of 0.1 Angstrom)\n    # then compress the volume to trigger dilatmx.\n    #structure.perturb(distance=0.1)\n    #structure.scale_lattice(structure.volume * 0.6)\n\n    global_vars = dict(\n        ecut=28,\n        ngkpt=[4,4,4],\n        shiftk=[0,0,0],\n        nshiftk=1,\n        chksymbreak=0,\n        paral_kgb=paral_kgb,\n        #prtwf=0,\n    )\n\n    multi = abilab.MultiDataset(structure, pseudos=pseudos, ndtset=2)\n\n    # Global variables\n    multi.set_vars(global_vars)\n\n    # Dataset 1 (Atom Relaxation)\n    multi[0].set_vars(\n        optcell=0,\n        ionmov=2,\n        tolrff=0.02,\n        tolmxf=5.0e-5,\n        ntime=50,\n        #ntime=3,  #To test the restart\n        #dilatmx=1.1, # FIXME: abinit crashes if I don't use this\n    )\n\n    # Dataset 2 (Atom + Cell Relaxation)\n    multi[1].set_vars(\n        optcell=1,\n        ionmov=2,\n        ecutsm=0.5,\n        dilatmx=1.02,\n        tolrff=0.02,\n        tolmxf=5.0e-5,\n        strfact=100,\n        ntime=50,\n        #ntime=3,  # To test the restart\n        )\n\n    ion_inp, ioncell_inp = multi.split_datasets()\n    return ion_inp, ioncell_inp\n\n\ndef make_scf_nscf_inputs(paral_kgb=1):\n    \"\"\"Returns two input files: GS run and NSCF on a high symmetry k-mesh.\"\"\"\n    pseudos = abidata.pseudos(\"14si.pspnc\")\n    #pseudos = data.pseudos(\"Si.GGA_PBE-JTH-paw.xml\")\n\n    multi = abilab.MultiDataset(structure=abidata.cif_file(\"si.cif\"), pseudos=pseudos, ndtset=2)\n\n    # Global variables\n    ecut = 28\n    global_vars = dict(ecut=ecut,\n                       nband=8,\n                       timopt=-1,\n                       istwfk=\"*1\",\n                       nstep=15,\n                       paral_kgb=paral_kgb,\n                    )\n\n    if multi.ispaw:\n        global_vars.update(pawecutdg=2*ecut)\n\n    multi.set_vars(global_vars)\n\n    # Dataset 1 (GS run)\n    multi[0].set_kmesh(ngkpt=[8,8,8], shiftk=[0,0,0])\n    multi[0].set_vars(tolvrs=1e-6)\n\n    # Dataset 2 (NSCF run)\n    kptbounds = [\n        [0.5, 0.0, 0.0], # L point\n        [0.0, 0.0, 0.0], # Gamma point\n        [0.0, 0.5, 0.5], # X point\n    ]\n\n    multi[1].set_kpath(ndivsm=6, kptbounds=kptbounds)\n    multi[1].set_vars(tolwfr=1e-12)\n\n    # Generate two input files for the GS and the NSCF run\n    scf_input, nscf_input = multi.split_datasets()\n    return scf_input, nscf_input\n\n\ndef build_flow(options):\n    # Working directory (default is the name of the script with '.py' removed and \"run_\" replaced by \"flow_\")\n    if not options.workdir:\n        options.workdir = os.path.basename(sys.argv[0]).replace(\".py\", \"\").replace(\"run_\", \"flow_\")\n\n    # Create the flow\n    flow = flowtk.Flow(options.workdir, manager=options.manager)\n\n    paral_kgb = 1\n    #paral_kgb = 0  # This one is OK\n\n    # Create a relaxation work and add it to the flow.\n    ion_inp, ioncell_inp = make_ion_ioncell_inputs(paral_kgb=paral_kgb)\n\n    relax_work = flowtk.RelaxWork(ion_inp, ioncell_inp)\n    flow.register_work(relax_work)\n\n    scf_inp, nscf_inp = make_scf_nscf_inputs(paral_kgb=paral_kgb)\n\n    bands_work = flowtk.BandStructureWork(scf_inp, nscf_inp)\n\n    # The scf task in bands work restarts from the DEN file of the last task in relax_work\n    if paral_kgb == 0:\n        # cg works fine if we restart from the WFK\n        bands_work.scf_task.add_deps({relax_work[-1]: \"WFK\"})\n    else:\n        # --> This triggers an infamous bug in abinit\n        bands_work.scf_task.add_deps({relax_work[-1]: \"WFK\"})\n\n        # --> This is ok if we used fourier_interp to change the FFT mesh.\n        #bands_work.scf_task.add_deps({relax_work[-1]: \"DEN\"})\n\n    # All task in bands_work will fetch the relaxed structure from the last task in relax_work\n    for task in bands_work:\n        task.add_deps({relax_work[-1]: \"@structure\"})\n\n    flow.register_work(bands_work)\n    flow.allocate()\n    flow.use_smartio()\n    flow.set_garbage_collector()\n\n    return flow\n\n\n# This block generates the thumbnails in the AbiPy gallery.\n# You can safely REMOVE this part if you are using this script for production runs.\nif os.getenv(\"READTHEDOCS\", False):\n    __name__ = None\n    import tempfile\n    options = flowtk.build_flow_main_parser().parse_args([\"-w\", tempfile.mkdtemp()])\n    build_flow(options).graphviz_imshow()\n\n\n@flowtk.flow_main\ndef main(options):\n    \"\"\"\n    This is our main function that will be invoked by the script.\n    flow_main is a decorator implementing the command line interface.\n    Command line args are stored in `options`.\n    \"\"\"\n    return build_flow(options)\n\n\nif __name__ == \"__main__\":\n    sys.exit(main())"
      ]
    }
  ],
  "metadata": {
    "kernelspec": {
      "display_name": "Python 3",
      "language": "python",
      "name": "python3"
    },
    "language_info": {
      "codemirror_mode": {
        "name": "ipython",
        "version": 3
      },
      "file_extension": ".py",
      "mimetype": "text/x-python",
      "name": "python",
      "nbconvert_exporter": "python",
      "pygments_lexer": "ipython3",
      "version": "3.8.0"
    }
  },
  "nbformat": 4,
  "nbformat_minor": 0
}