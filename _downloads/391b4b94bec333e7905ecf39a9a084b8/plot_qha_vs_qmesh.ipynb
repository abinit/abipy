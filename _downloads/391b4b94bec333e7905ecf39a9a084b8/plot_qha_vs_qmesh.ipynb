{
  "cells": [
    {
      "cell_type": "code",
      "execution_count": null,
      "metadata": {
        "collapsed": false
      },
      "outputs": [],
      "source": [
        "%matplotlib inline"
      ]
    },
    {
      "cell_type": "markdown",
      "metadata": {},
      "source": [
        "\n# Quasi-harmonic approximation (convergence wrt Q-mesh)\n\nThis example shows how to use the GSR.nc and PHDOS.nc files computed with different volumes\nto analyze the convergence of QHA thermodynamic properties with respect to the number of q-points\nused to compute the phonon DOS.\n"
      ]
    },
    {
      "cell_type": "code",
      "execution_count": null,
      "metadata": {
        "collapsed": false
      },
      "outputs": [],
      "source": [
        "import os\nimport abipy.data as abidata\n\nfrom abipy.dfpt.qha import QHAQmeshAnalyzer\n\n# We use a list of GSR.nc and PHDOS.nc files corresponding to different isotropic strains.\n# These files are shipped with AbiPy so that we don't need to run calculations from scratch.\n#strains = [-4, -2, 0, 2, 4, 6]\nstrains = [-2, 0, 2, 4]\ndirpath = os.path.join(abidata.dirpath, \"refs\", \"si_qha\")\n\ngsr_paths = [os.path.join(dirpath, \"mp-149_{:+d}_GSR.nc\".format(s)) for s in strains]\nddb_paths = [os.path.join(dirpath, \"mp-149_{:+d}_DDB\".format(s)) for s in strains]\n\n# Initialize QHA object from files.\nqhana = QHAQmeshAnalyzer(gsr_paths, ddb_paths)\n\n# To change the default EOS (vinet), use\n#qhana.set_eos(\"vinet\")\n\n# Compute ph-DOS with this list of nqsmall values.\nqhana.run_qlist([2, 4])\n\n# Analyze convergence. API similar to QHA.\nqhana.plot_energies(title=\"Energies as a function of volume for different T\")\n\nqhana.plot_thermal_expansion_coeff(title=\"Thermal expansion coefficient as a function of T\")\n\nqhana.plot_vol_vs_t(title=\"Volume as a function of T\")"
      ]
    }
  ],
  "metadata": {
    "kernelspec": {
      "display_name": "Python 3",
      "language": "python",
      "name": "python3"
    },
    "language_info": {
      "codemirror_mode": {
        "name": "ipython",
        "version": 3
      },
      "file_extension": ".py",
      "mimetype": "text/x-python",
      "name": "python",
      "nbconvert_exporter": "python",
      "pygments_lexer": "ipython3",
      "version": "3.8.0"
    }
  },
  "nbformat": 4,
  "nbformat_minor": 0
}