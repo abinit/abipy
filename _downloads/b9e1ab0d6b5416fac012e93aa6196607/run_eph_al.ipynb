{
  "cells": [
    {
      "cell_type": "code",
      "execution_count": null,
      "metadata": {
        "collapsed": false
      },
      "outputs": [],
      "source": [
        "%matplotlib inline"
      ]
    },
    {
      "cell_type": "markdown",
      "metadata": {},
      "source": [
        "\n# Flow for E-PH calculations\n\nThis flow computes the phonon linewidths and the Eliashberg function in Al.\n"
      ]
    },
    {
      "cell_type": "code",
      "execution_count": null,
      "metadata": {
        "collapsed": false
      },
      "outputs": [],
      "source": [
        "import sys\nimport os\nimport abipy.data as abidata\nimport abipy.abilab as abilab\nimport abipy.flowtk as flowtk\n\n\ndef build_flow(options):\n    # Working directory (default is the name of the script with '.py' removed and \"run_\" replaced by \"flow_\")\n    if not options.workdir:\n        options.workdir = os.path.basename(sys.argv[0]).replace(\".py\", \"\").replace(\"run_\", \"flow_\")\n\n    # Preparatory run for E-PH calculations.\n    # The sequence of datasets makes the ground states and\n    # all of the independent perturbations of the single Al atom\n    # for the irreducible qpoints in a 4x4x4 grid.\n    # Note that the q-point grid must be a sub-grid of the k-point grid (here 8x8x8)\n    pseudos = abidata.pseudos(\"Al.oncvpsp\")\n\n    structure = abilab.Structure.from_abivars(\n        acell=3 * [7.5],\n        rprim=[0.0, 0.5, 0.5,\n               0.5, 0.0, 0.5,\n               0.5, 0.5, 0.0],\n        typat=1,\n        xred=[0.0, 0.0, 0.0],\n        ntypat=1,\n        znucl=13,\n    )\n\n    same_structure = abilab.Structure.fcc(a=7.5, species=[\"Al\"], units=\"bohr\")\n    assert same_structure == structure\n\n    gs_inp = abilab.AbinitInput(structure, pseudos)\n\n    gs_inp.set_vars(\n        ecut=8.0,\n        nband=5,\n        occopt=7,    # include metallic occupation function with a small smearing\n        tsmear=0.04,\n        tolvrs=1e-7,\n    )\n\n    # The kpoint grid is minimalistic to keep the calculation manageable.\n    gs_inp.set_kmesh(\n        ngkpt=[8, 8, 8],\n        shiftk=[0.0, 0.0, 0.0],\n    )\n\n    # Phonon calculation with 4x4x4\n    ddb_ngqpt = [4, 4, 4]\n    qpoints = gs_inp.abiget_ibz(ngkpt=ddb_ngqpt, shiftk=[0, 0, 0], kptopt=1).points\n\n    flow = flowtk.Flow(options.workdir, manager=options.manager)\n    work0 = flow.register_scf_task(gs_inp)\n\n    ph_work = flowtk.PhononWork.from_scf_task(work0[0], qpoints)\n    flow.register_work(ph_work)\n\n    eph_work = flow.register_work(flowtk.Work())\n    eph_deps = {work0[0]: \"WFK\", ph_work: [\"DDB\", \"DVDB\"]}\n\n    for eph_ngqpt_fine in [(4, 4, 4,), (8, 8, 8)]:\n        # Build input file for E-PH run.\n        eph_inp = gs_inp.new_with_vars(\n            optdriver=7,\n            ddb_ngqpt=ddb_ngqpt,           # q-mesh used to produce the DDB file (must be consistent with DDB data)\n            eph_intmeth=2,                 # Tetra method\n            eph_fsewin=\"0.8 eV\",           # Energy window around Ef\n            eph_mustar=0.12,               # mustar parameter\n            eph_ngqpt_fine=eph_ngqpt_fine, # Interpolate DFPT potentials if != ddb_ngqpt\n        )\n\n        # Set q-path for phonons and phonon linewidths.\n        eph_inp.set_qpath(20)\n\n        # TODO: Define wstep and smear\n        # Set q-mesh for phonons DOS and a2F(w)\n        eph_inp.set_phdos_qmesh(nqsmall=16, method=\"tetra\")\n        eph_work.register_eph_task(eph_inp, deps=eph_deps)\n\n    flow.allocate(use_smartio=True)\n\n    return flow\n\n\n# This block generates the thumbnails in the AbiPy gallery.\n# You can safely REMOVE this part if you are using this script for production runs.\nif os.getenv(\"READTHEDOCS\", False):\n    __name__ = None\n    import tempfile\n    options = flowtk.build_flow_main_parser().parse_args([\"-w\", tempfile.mkdtemp()])\n    build_flow(options).graphviz_imshow()\n\n\n@flowtk.flow_main\ndef main(options):\n    \"\"\"\n    This is our main function that will be invoked by the script.\n    flow_main is a decorator implementing the command line interface.\n    Command line args are stored in `options`.\n    \"\"\"\n    return build_flow(options)\n\n\nif __name__ == \"__main__\":\n    sys.exit(main())"
      ]
    }
  ],
  "metadata": {
    "kernelspec": {
      "display_name": "Python 3",
      "language": "python",
      "name": "python3"
    },
    "language_info": {
      "codemirror_mode": {
        "name": "ipython",
        "version": 3
      },
      "file_extension": ".py",
      "mimetype": "text/x-python",
      "name": "python",
      "nbconvert_exporter": "python",
      "pygments_lexer": "ipython3",
      "version": "3.8.0"
    }
  },
  "nbformat": 4,
  "nbformat_minor": 0
}