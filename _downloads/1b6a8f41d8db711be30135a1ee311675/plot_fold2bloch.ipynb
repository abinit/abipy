{
  "cells": [
    {
      "cell_type": "code",
      "execution_count": null,
      "metadata": {
        "collapsed": false
      },
      "outputs": [],
      "source": [
        "%matplotlib inline"
      ]
    },
    {
      "cell_type": "markdown",
      "metadata": {},
      "source": [
        "\n# Unfolding with fold2bloch\n\nThis example shows how to plot the results produced by fold2bloch.\n<http://www.abinit.org/doc/helpfiles/for-v8.0/tutorial/lesson_fold2Bloch.html>\n"
      ]
    },
    {
      "cell_type": "code",
      "execution_count": null,
      "metadata": {
        "collapsed": false
      },
      "outputs": [],
      "source": [
        "from __future__ import division, print_function\n\nfrom abipy import abilab\nimport abipy.data as abidata\n\n\nwith abilab.abiopen(abidata.ref_file(\"h6_FOLD2BLOCH.nc\")) as ncfile:\n    print(ncfile)\n    # Plot folded bands\n    ncfile.ebands.plot(title=\"Folded bands\")\n\n    # Plot unfolded bands along the path defined by kbounds.\n    kbounds = [0, 1/2, 0, 0, 0, 0, 0, 0, 1/2]\n    klabels = [\"Y\", r\"$\\Gamma$\", \"X\"]\n    # sphinx_gallery_thumbnail_number = 2\n    ncfile.plot_unfolded(kbounds, klabels, title=\"Unfolded bands\")"
      ]
    }
  ],
  "metadata": {
    "kernelspec": {
      "display_name": "Python 3",
      "language": "python",
      "name": "python3"
    },
    "language_info": {
      "codemirror_mode": {
        "name": "ipython",
        "version": 3
      },
      "file_extension": ".py",
      "mimetype": "text/x-python",
      "name": "python",
      "nbconvert_exporter": "python",
      "pygments_lexer": "ipython3",
      "version": "3.9.2"
    }
  },
  "nbformat": 4,
  "nbformat_minor": 0
}