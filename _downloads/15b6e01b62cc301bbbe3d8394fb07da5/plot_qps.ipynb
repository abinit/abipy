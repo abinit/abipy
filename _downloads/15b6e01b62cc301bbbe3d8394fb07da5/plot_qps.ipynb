{
  "cells": [
    {
      "cell_type": "code",
      "execution_count": null,
      "metadata": {
        "collapsed": false
      },
      "outputs": [],
      "source": [
        "%matplotlib inline"
      ]
    },
    {
      "cell_type": "markdown",
      "metadata": {},
      "source": [
        "\n# SIGRES file (GW)\n\nThis example shows how to visualize the QP results\nstored in the SIGRES produced by the GW code (sigma run)\n"
      ]
    },
    {
      "cell_type": "code",
      "execution_count": null,
      "metadata": {
        "collapsed": false
      },
      "outputs": [],
      "source": [
        "import abipy.data as abidata\nfrom abipy.abilab import abiopen\n\nsigres = abiopen(abidata.ref_file(\"tgw1_9o_DS4_SIGRES.nc\"))\n\n# Printout of the QPState results\n#sigres.print_qps()\n\nsigres.plot_qps_vs_e0(tight_layout=True, title=\"QP data vs KS energy\")\n\nsigres.plot_qpgaps(title=\"QP direct gaps\")\n\nsigres.plot_qpgaps(plot_qpmks=True, title=\"QP - KS direct gap\")\n\nsigres.plot_qpbands_ibz()\n\nsigres.plot_ksbands_with_qpmarkers(fact=1000)\n\nsigres.close()"
      ]
    }
  ],
  "metadata": {
    "kernelspec": {
      "display_name": "Python 3",
      "language": "python",
      "name": "python3"
    },
    "language_info": {
      "codemirror_mode": {
        "name": "ipython",
        "version": 3
      },
      "file_extension": ".py",
      "mimetype": "text/x-python",
      "name": "python",
      "nbconvert_exporter": "python",
      "pygments_lexer": "ipython3",
      "version": "3.9.2"
    }
  },
  "nbformat": 4,
  "nbformat_minor": 0
}