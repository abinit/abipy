{
  "cells": [
    {
      "cell_type": "code",
      "execution_count": null,
      "metadata": {
        "collapsed": false
      },
      "outputs": [],
      "source": [
        "%matplotlib inline"
      ]
    },
    {
      "cell_type": "markdown",
      "metadata": {},
      "source": [
        "\n# X-ray diffraction pattern\n\nThis example shows how to plot the X-ray diffraction pattern with pymatgen\n"
      ]
    },
    {
      "cell_type": "code",
      "execution_count": null,
      "metadata": {
        "collapsed": false
      },
      "outputs": [],
      "source": [
        "from abipy import abilab\nimport abipy.data as abidata\n\n# Extract the structure (supports multiple formats e.g netcdf, Abinit input, cif, POSCAR)\n# Also available via the `abistruct.py xrd FILE` command line interface.\nstructure = abilab.Structure.from_file(abidata.ref_file(\"si_scf_WFK.nc\"))\n\nimport sys\nif sys.version[0:3] > '2.7':\n    # pmg broke py compatibility\n    structure.plot_xrd()"
      ]
    }
  ],
  "metadata": {
    "kernelspec": {
      "display_name": "Python 3",
      "language": "python",
      "name": "python3"
    },
    "language_info": {
      "codemirror_mode": {
        "name": "ipython",
        "version": 3
      },
      "file_extension": ".py",
      "mimetype": "text/x-python",
      "name": "python",
      "nbconvert_exporter": "python",
      "pygments_lexer": "ipython3",
      "version": "3.9.2"
    }
  },
  "nbformat": 4,
  "nbformat_minor": 0
}