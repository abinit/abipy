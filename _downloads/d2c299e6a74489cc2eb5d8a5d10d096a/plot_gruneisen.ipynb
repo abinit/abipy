{
  "cells": [
    {
      "cell_type": "code",
      "execution_count": null,
      "metadata": {
        "collapsed": false
      },
      "outputs": [],
      "source": [
        "%matplotlib inline"
      ]
    },
    {
      "cell_type": "markdown",
      "metadata": {},
      "source": [
        "\n# Gruneisen parameters\n\nThis example shows how to analyze the Gruneisen parameters\ncomputed by anaddb via finite difference. See also v8/Input/t45.in\n"
      ]
    },
    {
      "cell_type": "code",
      "execution_count": null,
      "metadata": {
        "collapsed": false
      },
      "outputs": [],
      "source": [
        "from __future__ import print_function, division\n\nimport abipy.data as abidata\nfrom abipy import abilab\n\n# Open the file with abiopen\n# (alternatively one can use the shell and `abiopen.py OUT_GRUNS.nc -nb`\n# to open the file in a jupyter notebook.\nncfile = abilab.abiopen(abidata.ref_file(\"mg2si_GRUNS.nc\"))\n\n# Plot phonon DOSes computed by anaddb.\nncfile.plot_doses(title=\"DOSes available in the GRUNS file.\")\n\n# Plot phonon bands with markers\n# sphinx_gallery_thumbnail_number = 2\nncfile.plot_phbands_with_gruns(title=\"Phonon bands with markers proportional to Gruneisen parameters + DOSes\")\n\nncfile.plot_gruns_bs(title=\"Gruneisen along high-symmetry path.\")\n\nncfile.plot_phbands_with_gruns(fill_with=\"gruns_fd\", title=\"Gruneisen parameters with finite differences.\", with_doses=None)\n\nncfile.plot_gruns_scatter(units='cm-1',title=\"Scatter plot with Gruneisen parameters\")\n\n# Construct plotter object to analyze multiple phonon bands.\nplotter = ncfile.get_plotter()\nplotter.combiboxplot()\n\nncfile.close()"
      ]
    }
  ],
  "metadata": {
    "kernelspec": {
      "display_name": "Python 3",
      "language": "python",
      "name": "python3"
    },
    "language_info": {
      "codemirror_mode": {
        "name": "ipython",
        "version": 3
      },
      "file_extension": ".py",
      "mimetype": "text/x-python",
      "name": "python",
      "nbconvert_exporter": "python",
      "pygments_lexer": "ipython3",
      "version": "3.9.2"
    }
  },
  "nbformat": 4,
  "nbformat_minor": 0
}