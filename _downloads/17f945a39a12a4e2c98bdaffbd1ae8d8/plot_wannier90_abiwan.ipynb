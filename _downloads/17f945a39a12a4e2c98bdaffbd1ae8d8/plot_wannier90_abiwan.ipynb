{
  "cells": [
    {
      "cell_type": "code",
      "execution_count": null,
      "metadata": {
        "collapsed": false
      },
      "outputs": [],
      "source": [
        "%matplotlib inline"
      ]
    },
    {
      "cell_type": "markdown",
      "metadata": {},
      "source": [
        "\n# Band structure interpolation with Wannier functions\n\nThis example shows how to analyze the wannier90 results using\nthe ABIWAN.nc netcdf file produced by Abinit when calling wannier90 in library mode.\nUse `abiopen FILE.wout` for a command line interface and\nthe `--expose` option to generate matplotlib figures automatically.\n"
      ]
    },
    {
      "cell_type": "code",
      "execution_count": null,
      "metadata": {
        "collapsed": false
      },
      "outputs": [],
      "source": [
        "import os\nimport abipy.data as abidata\n\nfrom abipy.abilab import abiopen\n\n# Open the ABIWAN file\nfilepath = os.path.join(abidata.dirpath, \"refs\", \"wannier90\", \"tutoplugs_tw90_4\", \"tw90_4o_DS3_ABIWAN.nc\")\nabiwan = abiopen(filepath)\nprint(abiwan)\n\n# Plot the matrix elements of the KS Hamiltonian in real space in the Wannier Gauge.\nabiwan.hwan.plot(title=\"Matrix elements in real space\")\n\n# Interpolate bands with Wannier functions using an automatically selected k-path\n# with 5 points for the smallest segment.\nebands_wan_kpath = abiwan.interpolate_ebands(line_density=5)\nebands_wan_kpath.plot(title=\"Wannier-interpolated\")\n\n# Interpolate bands in the IBZ defined by ngkpt\nebands_wan_kmesh = abiwan.interpolate_ebands(ngkpt=[8, 8, 8])\nedos = ebands_wan_kmesh.get_edos()\nebands_wan_kpath.plot_with_edos(edos, title=\"Wannier-interpolated bands and DOS\")\n\n# To compare the interpolated bands with ab-initio results,\n# pass a file with the ab-initio bands to the get_plotter_from_ebands method\n# that will return an ElectronBandsPlotter object.\n\n#plotter = abiwan.get_plotter_from_ebands(\"out_GSR.nc\")\n#plotter.combiplot()"
      ]
    }
  ],
  "metadata": {
    "kernelspec": {
      "display_name": "Python 3",
      "language": "python",
      "name": "python3"
    },
    "language_info": {
      "codemirror_mode": {
        "name": "ipython",
        "version": 3
      },
      "file_extension": ".py",
      "mimetype": "text/x-python",
      "name": "python",
      "nbconvert_exporter": "python",
      "pygments_lexer": "ipython3",
      "version": "3.9.2"
    }
  },
  "nbformat": 4,
  "nbformat_minor": 0
}