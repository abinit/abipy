{
  "cells": [
    {
      "cell_type": "code",
      "execution_count": null,
      "metadata": {
        "collapsed": false
      },
      "outputs": [],
      "source": [
        "%matplotlib inline"
      ]
    },
    {
      "cell_type": "markdown",
      "metadata": {},
      "source": [
        "\n# Optic results\n\nThis example shows how to plot the optical properties\ncomputed by optic within the independent-particle approximation,\nno local-field effects and no excitonic effects.\n"
      ]
    },
    {
      "cell_type": "code",
      "execution_count": null,
      "metadata": {
        "collapsed": false
      },
      "outputs": [],
      "source": [
        "from abipy import abilab\nimport abipy.data as abidata\n\n# Here we use one of the OPTIC.nc files shipped with abipy.\n# Replace filename with the path to your OPTIC.nc file.\nfilename = abidata.ref_file(\"gaas_121212_OPTIC.nc\")\n\nncfile = abilab.abiopen(filename)\n\n# Optic files have a Structure and an ElectronBands object.\n#ncfile.ebands.plot()\n\n# To plot linear dielectric tensor and other optical\n# properties for all tensor components available in the file:\nncfile.plot_linopt(title=\"Linear dielectric function\")\n\n# To plot the second Harmonic tensor\nncfile.plot_shg(title=\"Second Harmonic Generation\")\n\n# Remember to close the file.\nncfile.close()\n\n# Use OpticRobot to analyze multiple file e.g. convergence studies.\nfilenames = [\n    abidata.ref_file(\"gaas_444_OPTIC.nc\"),\n    abidata.ref_file(\"gaas_888_OPTIC.nc\"),\n    abidata.ref_file(\"gaas_121212_OPTIC.nc\"),\n]\n\nrobot = abilab.OpticRobot.from_files(filenames)\n\n# sphinx_gallery_thumbnail_number = 3\nrobot.plot_linopt_convergence(title=r\"Convergence of $\\epsilon$ wrt nkpt\")\n\nrobot.plot_shg_convergence(title=r\"Convergence of $\\chi^2(-2\\omega,\\omega,\\omega)$ wrt nkpt\")\n\n# Remember to close the file or use the `with` context manager.\nrobot.close()"
      ]
    }
  ],
  "metadata": {
    "kernelspec": {
      "display_name": "Python 3",
      "language": "python",
      "name": "python3"
    },
    "language_info": {
      "codemirror_mode": {
        "name": "ipython",
        "version": 3
      },
      "file_extension": ".py",
      "mimetype": "text/x-python",
      "name": "python",
      "nbconvert_exporter": "python",
      "pygments_lexer": "ipython3",
      "version": "3.9.2"
    }
  },
  "nbformat": 4,
  "nbformat_minor": 0
}