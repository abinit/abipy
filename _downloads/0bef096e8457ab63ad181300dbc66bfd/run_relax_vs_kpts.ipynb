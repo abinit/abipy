{
  "cells": [
    {
      "cell_type": "code",
      "execution_count": null,
      "metadata": {
        "collapsed": false
      },
      "outputs": [],
      "source": [
        "%matplotlib inline"
      ]
    },
    {
      "cell_type": "markdown",
      "metadata": {},
      "source": [
        "\n# Relaxation of GaN with different K-meshes\n\nIn this example, we employ the relaxation algorithms implemented in Abinit (``ionmov`` and ``optcell``)\nto find the equilibrium configuration of GaN (atomic positions and lattice vectors).\nThe relaxation is done with different k-meshes to monitor the convergence of the results.\nYou will observe a change of the equilibrium parameters with respect to the k-point mesh.\n\nNote the we are using pseudopotentials generated with the GGA which tends to\noverestimate the lattice parameters and ecut is way too low.\nIf you replace GGA with LDA, you will observe that LDA tends to underestimate the parameters.\n"
      ]
    },
    {
      "cell_type": "code",
      "execution_count": null,
      "metadata": {
        "collapsed": false
      },
      "outputs": [],
      "source": [
        "import sys\nimport os\n\nimport abipy.abilab as abilab\nimport abipy.flowtk as flowtk\nimport abipy.data as abidata\n\n\ndef build_flow(options):\n    \"\"\"\n    Build and return a flow performing structural relaxations with different k-point samplings.\n    \"\"\"\n    # Set working directory (default is the name of the script with '.py' removed and \"run_\" replaced by \"flow_\")\n    if not options.workdir:\n        options.workdir = os.path.basename(sys.argv[0]).replace(\".py\", \"\").replace(\"run_\", \"flow_\")\n\n    # List of k-meshes.\n    ngkpt_list = [\n        [3, 3, 2],\n        [6, 6, 4],\n        [8, 8, 6],\n    ]\n\n    structure = abilab.Structure.from_file(abidata.cif_file(\"gan2.cif\"))\n    pseudos = abidata.pseudos(\"Ga.oncvpsp\", \"N.oncvpsp\")\n\n    # Build multidataset.\n    multi = abilab.MultiDataset(structure=structure, pseudos=pseudos, ndtset=len(ngkpt_list))\n\n    # Set global variables for structural relaxation. Note dilatmx and ecutsm\n    # Ecut should depend on pseudos.\n    multi.set_vars(\n        ecut=15,       # Too low\n        optcell=2,\n        ionmov=3,\n        tolrff=5.0e-2,\n        tolmxf=5.0e-5,\n        ntime=50,\n        dilatmx=1.05,  # Important!\n        ecutsm=0.5,    # Important!\n    )\n\n    # Here we set the k-meshes (Gamma-centered for simplicity)\n    for i, ngkpt in enumerate(ngkpt_list):\n        multi[i].set_kmesh(ngkpt=ngkpt, shiftk=[0, 0, 0])\n\n    # As the calculations are independent, we can use Flow.from_inputs\n    # and call split_datasets to create len(ngkpt_list) inputs.\n    # Note that it's a good idea to specify the task_class so that AbiPy knows how to restart the calculation.\n    return flowtk.Flow.from_inputs(options.workdir, inputs=multi.split_datasets(),\n                                   task_class=flowtk.RelaxTask)\n\n\n# This block generates the thumbnails in the AbiPy gallery.\n# You can safely REMOVE this part if you are using this script for production runs.\nif os.getenv(\"READTHEDOCS\", False):\n    __name__ = None\n    import tempfile\n    options = flowtk.build_flow_main_parser().parse_args([\"-w\", tempfile.mkdtemp()])\n    build_flow(options).graphviz_imshow()\n\n\n@flowtk.flow_main\ndef main(options):\n    \"\"\"\n    This is our main function that will be invoked by the script.\n    flow_main is a decorator implementing the command line interface.\n    Command line args are stored in `options`.\n    \"\"\"\n    return build_flow(options)\n\n\nif __name__ == \"__main__\":\n    sys.exit(main())"
      ]
    },
    {
      "cell_type": "markdown",
      "metadata": {},
      "source": [
        "Run the script with:\n\n    run_relax_vs_kpts.py -s\n\nthen use:\n\n    abirun.py flow_relax_vs_kpts hist -p\n\nto print (and plot) the relaxed parameters at the end of the run.\n\n.. code-block:: bash\n\n    Table with final structures, pressures in GPa and force stats in eV/Ang:\n\n          formula  natom  angle0  angle1  angle2      a      b      c  volume  \\\n    w0_t0  Ga2 N2      4    90.0    90.0   120.0  3.224  3.224  5.343  48.080\n    w0_t1  Ga2 N2      4    90.0    90.0   120.0  3.249  3.249  5.321  48.635\n    w0_t2  Ga2 N2      4    90.0    90.0   120.0  3.254  3.254  5.335  48.909\n\n          abispg_num  num_steps  final_energy  final_pressure task_class  \\\n    w0_t0       None          9      -755.344      -1.088e-04  RelaxTask\n    w0_t1       None          9      -755.632      -5.088e-03  RelaxTask\n    w0_t2       None         11      -755.645      -4.314e-03  RelaxTask\n\n                                                 ncfile              status\n    w0_t0  flow_relax_vs_kpts/w0/t0/outdata/out_HIST.nc  Completed\n    w0_t1  flow_relax_vs_kpts/w0/t1/outdata/out_HIST.nc  Completed\n    w0_t2  flow_relax_vs_kpts/w0/t2/outdata/out_HIST.nc  Completed\n\nThe experimental results are:\n\n    * Volume of the unit cell of GaN: 45.73 A^3\n    * Lattice parameters of GaN: a = 3.190 A, c = 5.189 A\n    * Vertical distance between Ga and N : about 0.377 * c [ Schulz & Thiemann, 1977]\n\n<img src=\"https://github.com/abinit/abipy_assets/blob/master/run_relax_vs_kpts.png?raw=true\" alt=\"Evolution of the volume during the relaxation algorithm.\">\n\n"
      ]
    }
  ],
  "metadata": {
    "kernelspec": {
      "display_name": "Python 3",
      "language": "python",
      "name": "python3"
    },
    "language_info": {
      "codemirror_mode": {
        "name": "ipython",
        "version": 3
      },
      "file_extension": ".py",
      "mimetype": "text/x-python",
      "name": "python",
      "nbconvert_exporter": "python",
      "pygments_lexer": "ipython3",
      "version": "3.8.0"
    }
  },
  "nbformat": 4,
  "nbformat_minor": 0
}