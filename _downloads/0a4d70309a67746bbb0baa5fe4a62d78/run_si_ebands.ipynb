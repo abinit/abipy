{
  "cells": [
    {
      "cell_type": "code",
      "execution_count": null,
      "metadata": {
        "collapsed": false
      },
      "outputs": [],
      "source": [
        "%matplotlib inline"
      ]
    },
    {
      "cell_type": "markdown",
      "metadata": {},
      "source": [
        "\n# Band structure Flow\n\nFlow to compute the band structure of silicon.\n"
      ]
    },
    {
      "cell_type": "code",
      "execution_count": null,
      "metadata": {
        "collapsed": false
      },
      "outputs": [],
      "source": [
        "import sys\nimport os\nimport abipy.data as abidata\nimport abipy.abilab as abilab\nimport abipy.flowtk as flowtk\n\n\ndef make_scf_nscf_inputs(paral_kgb=0, usepaw=0):\n    \"\"\"Returns two input files: GS run and NSCF on a high symmetry k-mesh.\"\"\"\n    pseudos = abidata.pseudos(\"14si.pspnc\") if usepaw == 0 else abidata.pseudos(\"Si.GGA_PBE-JTH-paw.xml\")\n\n    # Get structure from cif file.\n    multi = abilab.MultiDataset(structure=abidata.cif_file(\"si.cif\"), pseudos=pseudos, ndtset=2)\n\n    # Global variables\n    ecut = 6\n    multi.set_vars(\n        ecut=ecut,\n        nband=8,\n        paral_kgb=paral_kgb,\n        iomode=3,\n        timopt=-1,\n    )\n\n    if multi.ispaw:\n        multi.set_vars(pawecutdg=2 * ecut)\n\n    # Dataset 1 (GS run)\n    multi[0].set_kmesh(ngkpt=[8, 8, 8], shiftk=[0, 0, 0])\n    multi[0].set_vars(tolvrs=1e-6)\n\n    # Dataset 2 (NSCF run)\n    kptbounds = [\n        [0.5, 0.0, 0.0],  # L point\n        [0.0, 0.0, 0.0],  # Gamma point\n        [0.0, 0.5, 0.5],  # X point\n    ]\n\n    multi[1].set_kpath(ndivsm=6, kptbounds=kptbounds)\n    multi[1].set_vars(tolwfr=1e-12)\n\n    # Generate two input files for the GS and the NSCF run\n    scf_input, nscf_input = multi.split_datasets()\n    return scf_input, nscf_input\n\n\ndef build_flow(options):\n    # Set working directory (default is the name of the script with '.py' removed and \"run_\" replaced by \"flow_\")\n    if not options.workdir:\n        options.workdir = os.path.basename(sys.argv[0]).replace(\".py\", \"\").replace(\"run_\", \"flow_\")\n\n    # Get the SCF and the NSCF input.\n    scf_input, nscf_input = make_scf_nscf_inputs()\n\n    # Build the flow.\n    return flowtk.bandstructure_flow(options.workdir, scf_input, nscf_input, manager=options.manager)\n\n\n# This block generates the thumbnails in the AbiPy gallery.\n# You can safely REMOVE this part if you are using this script for production runs.\nif os.getenv(\"READTHEDOCS\", False):\n    __name__ = None\n    import tempfile\n    options = flowtk.build_flow_main_parser().parse_args([\"-w\", tempfile.mkdtemp()])\n    build_flow(options).graphviz_imshow()\n\n\n@flowtk.flow_main\ndef main(options):\n    \"\"\"\n    This is our main function that will be invoked by the script.\n    flow_main is a decorator implementing the command line interface.\n    Command line args are stored in `options`.\n    \"\"\"\n    return build_flow(options)\n\n\nif __name__ == \"__main__\":\n    sys.exit(main())"
      ]
    },
    {
      "cell_type": "markdown",
      "metadata": {},
      "source": [
        "Run the script with:\n\n    run_si_ebands.py -s\n\nthen use:\n\n   abirun.py flow_si_ebands ebands --plot\n\nto analyze (and plot) the electronic bands produced by the Flow.\n\n.. code-block:: bash\n\n   KS electronic bands:\n          nsppol  nspinor  nspden  nkpt  nband  nelect  fermie formula  natom  \\\n   w0_t0       1        1       1    29      8     8.0   5.598     Si2      2\n   w0_t1       1        1       1    14      8     8.0   5.598     Si2      2\n\n          angle0  angle1  angle2      a      b      c  volume abispg_num scheme  \\\n   w0_t0    60.0    60.0    60.0  3.867  3.867  3.867  40.888        227   none\n   w0_t1    60.0    60.0    60.0  3.867  3.867  3.867  40.888        227   none\n\n          occopt  tsmear_ev  bandwidth_spin0  fundgap_spin0  dirgap_spin0  \\\n   w0_t0       1      0.272           11.856          0.562         2.532\n   w0_t1       1      0.272           11.856          0.524         2.532\n\n         task_class                                   ncfile              status\n   w0_t0    ScfTask  flow_si_ebands/w0/t0/outdata/out_GSR.nc  Completed\n   w0_t1   NscfTask  flow_si_ebands/w0/t1/outdata/out_GSR.nc  Completed\n\n<img src=\"https://github.com/abinit/abipy_assets/blob/master/run_si_ebands.png?raw=true\" alt=\"Band structure of Si in the IBZ and along a k-path\">\n\n\n"
      ]
    }
  ],
  "metadata": {
    "kernelspec": {
      "display_name": "Python 3",
      "language": "python",
      "name": "python3"
    },
    "language_info": {
      "codemirror_mode": {
        "name": "ipython",
        "version": 3
      },
      "file_extension": ".py",
      "mimetype": "text/x-python",
      "name": "python",
      "nbconvert_exporter": "python",
      "pygments_lexer": "ipython3",
      "version": "3.8.0"
    }
  },
  "nbformat": 4,
  "nbformat_minor": 0
}