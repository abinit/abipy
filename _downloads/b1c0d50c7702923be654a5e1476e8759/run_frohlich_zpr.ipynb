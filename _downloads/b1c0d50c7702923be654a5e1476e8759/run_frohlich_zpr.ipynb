{
  "cells": [
    {
      "cell_type": "code",
      "execution_count": null,
      "metadata": {
        "collapsed": false
      },
      "outputs": [],
      "source": [
        "%matplotlib inline"
      ]
    },
    {
      "cell_type": "markdown",
      "metadata": {},
      "source": [
        "\n# Estimate the ZPR at the band edges with the generalized Frohlich model\n\nFlow to estimate the zero-point renormalization at the band edges\nusing the generalized Frohlich model. The flow uses DFPT to compute\nthe effective masses at the band edges (automatically detected by performing a NSCF run with a k-path),\nBECS, eps_inf and phonon frequencies at Gamma\n"
      ]
    },
    {
      "cell_type": "code",
      "execution_count": null,
      "metadata": {
        "collapsed": false
      },
      "outputs": [],
      "source": [
        "import sys\nimport os\nimport abipy.data as abidata\nimport abipy.abilab as abilab\nimport abipy.flowtk as flowtk\n\n\ndef make_scf_input(usepaw=0):\n    \"\"\"Returns the GS input file\"\"\"\n    # Here we use parameters similar to https://docs.abinit.org/tests/v8/Input/t57.in\n    pseudos = abidata.pseudos(\"Ca.psp8\", \"O.psp8\")\n\n    structure = dict(\n        acell=3 * [9.136],\n        xred=[\n           0.0000000000, 0.0000000000, 0.0000000000,\n           0.5000000000, 0.5000000000, 0.5000000000],\n        rprim=[\n           0  , 0.5, 0.5,\n           0.5, 0  , 0.5,\n           0.5, 0.5, 0],\n        typat=[1, 2],\n        natom=2,\n        ntypat=2,\n        znucl=[20, 8],\n    )\n\n    scf_input = abilab.AbinitInput(structure=structure, pseudos=pseudos)\n\n    scf_input.set_vars(\n        nband=12,\n        nbdbuf=2,\n        diemac=6,\n        ecut=30,               # Underconverged ecut.\n        #ecut=15,\n        nstep=100,\n        tolvrs=1e-16,\n        kptrlatt=[-2,  2,  2,  # In cartesian coordinates, this grid is simple cubic\n                   2, -2,  2,\n                   2,  2, -2],\n    )\n\n    return scf_input\n\n\ndef build_flow(options):\n    # Set working directory (default is the name of the script with '.py' removed and \"run_\" replaced by \"flow_\")\n    if not options.workdir:\n        options.workdir = os.path.basename(sys.argv[0]).replace(\".py\", \"\").replace(\"run_\", \"flow_\")\n\n    # Build the SCF input.\n    scf_input = make_scf_input()\n\n    # Build the flow.\n    from abipy.flowtk.effmass_works import FrohlichZPRFlow\n    flow = FrohlichZPRFlow.from_scf_input(options.workdir, scf_input, ndivsm=4, tolwfr=1e-16,\n                                          manager=options.manager)\n\n    return flow\n\n\n# This block generates the thumbnails in the Abipy gallery.\n# You can safely REMOVE this part if you are using this script for production runs.\nif os.getenv(\"READTHEDOCS\", False):\n    __name__ = None\n    import tempfile\n    options = flowtk.build_flow_main_parser().parse_args([\"-w\", tempfile.mkdtemp()])\n    build_flow(options).graphviz_imshow()\n\n\n@flowtk.flow_main\ndef main(options):\n    \"\"\"\n    This is our main function that will be invoked by the script.\n    flow_main is a decorator implementing the command line interface.\n    Command line args are stored in `options`.\n    \"\"\"\n    return build_flow(options)\n\n\nif __name__ == \"__main__\":\n    sys.exit(main())"
      ]
    },
    {
      "cell_type": "markdown",
      "metadata": {},
      "source": [
        "Run the script with:\n\n    run_frohlich_zpr -s\n\n\n"
      ]
    }
  ],
  "metadata": {
    "kernelspec": {
      "display_name": "Python 3",
      "language": "python",
      "name": "python3"
    },
    "language_info": {
      "codemirror_mode": {
        "name": "ipython",
        "version": 3
      },
      "file_extension": ".py",
      "mimetype": "text/x-python",
      "name": "python",
      "nbconvert_exporter": "python",
      "pygments_lexer": "ipython3",
      "version": "3.8.0"
    }
  },
  "nbformat": 4,
  "nbformat_minor": 0
}