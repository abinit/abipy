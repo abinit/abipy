{
  "cells": [
    {
      "cell_type": "code",
      "execution_count": null,
      "metadata": {
        "collapsed": false
      },
      "outputs": [],
      "source": [
        "%matplotlib inline"
      ]
    },
    {
      "cell_type": "markdown",
      "metadata": {},
      "source": [
        "\n# Bands + DOS\n\nThis example shows how to compute the DOS and plot a\nband structure with DOS using two GSR files.\n"
      ]
    },
    {
      "cell_type": "code",
      "execution_count": null,
      "metadata": {
        "collapsed": false
      },
      "outputs": [],
      "source": [
        "from abipy.abilab import abiopen\nimport abipy.data as abidata\n\n# Open the file with energies computed on a k-path in the BZ\n# and extract the band structure object.\nwith abiopen(abidata.ref_file(\"si_nscf_GSR.nc\")) as nscf_file:\n    nscf_ebands = nscf_file.ebands\n\n# Open the file with energies computed with a homogeneous sampling of the BZ\n# and extract the band structure object.\nwith abiopen(abidata.ref_file(\"si_scf_GSR.nc\")) as gs_file:\n    gs_ebands = gs_file.ebands\n\n# Compute the DOS with the Gaussian method (use default values for\n# the broadening and the step of the linear mesh.\nedos = gs_ebands.get_edos()\n\n# Plot bands and DOS.\nnscf_ebands.plot_with_edos(edos, e0=None, with_gaps=True)\n\nprint(\"nscf_ebands.efermi\", nscf_ebands.fermie)\nprint(\"gs_ebands.efermi\", gs_ebands.fermie)"
      ]
    }
  ],
  "metadata": {
    "kernelspec": {
      "display_name": "Python 3",
      "language": "python",
      "name": "python3"
    },
    "language_info": {
      "codemirror_mode": {
        "name": "ipython",
        "version": 3
      },
      "file_extension": ".py",
      "mimetype": "text/x-python",
      "name": "python",
      "nbconvert_exporter": "python",
      "pygments_lexer": "ipython3",
      "version": "3.9.2"
    }
  },
  "nbformat": 4,
  "nbformat_minor": 0
}