{
  "cells": [
    {
      "cell_type": "code",
      "execution_count": null,
      "metadata": {
        "collapsed": false
      },
      "outputs": [],
      "source": [
        "%matplotlib inline"
      ]
    },
    {
      "cell_type": "markdown",
      "metadata": {},
      "source": [
        "\n# Joint Density of States\n\nThis example shows how plot the different contributions\nto the electronic joint density of states of Silicon\n"
      ]
    },
    {
      "cell_type": "code",
      "execution_count": null,
      "metadata": {
        "collapsed": false
      },
      "outputs": [],
      "source": [
        "import abipy.data as abidata\nfrom abipy.abilab import abiopen\n\n# Extract the bands computed with the SCF cycle on a Monkhorst-Pack mesh.\nwith abiopen(abidata.ref_file(\"si_scf_WFK.nc\")) as wfk_file:\n    ebands = wfk_file.ebands\n\n# Select the valence and conduction bands to include in the JDOS\n# Here we include valence bands from 0 to 3 and the first conduction band (4).\nvrange = range(0, 4)\ncrange = range(4, 5)\n\n# Plot joint-DOS.\nebands.plot_ejdosvc(vrange, crange)\n\n# Plot decomposition of joint-DOS in terms of v --> c transitions\nebands.plot_ejdosvc(vrange, crange, cumulative=False)\n\n# Show optical (vertical) transitions of energy 2.8 eV\nwith abiopen(abidata.ref_file(\"si_nscf_GSR.nc\")) as gsr_file:\n    gsr_file.ebands.plot_transitions(2.8)"
      ]
    }
  ],
  "metadata": {
    "kernelspec": {
      "display_name": "Python 3",
      "language": "python",
      "name": "python3"
    },
    "language_info": {
      "codemirror_mode": {
        "name": "ipython",
        "version": 3
      },
      "file_extension": ".py",
      "mimetype": "text/x-python",
      "name": "python",
      "nbconvert_exporter": "python",
      "pygments_lexer": "ipython3",
      "version": "3.9.2"
    }
  },
  "nbformat": 4,
  "nbformat_minor": 0
}