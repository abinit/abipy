{
  "cells": [
    {
      "cell_type": "code",
      "execution_count": null,
      "metadata": {
        "collapsed": false
      },
      "outputs": [],
      "source": [
        "%matplotlib inline"
      ]
    },
    {
      "cell_type": "markdown",
      "metadata": {},
      "source": [
        "\n# Phonon fatbands\n\nThis example shows how to plot the phonon fatbands of AlAs.\nSee tutorial/lesson_rf2.html\n"
      ]
    },
    {
      "cell_type": "code",
      "execution_count": null,
      "metadata": {
        "collapsed": false
      },
      "outputs": [],
      "source": [
        "from abipy.abilab import abiopen\nimport abipy.data as abidata\n\n# Open the PHBST file produced by anaddb and get the phonon bands.\nwith abiopen(abidata.ref_file(\"trf2_5.out_PHBST.nc\")) as ncfile:\n    phbands = ncfile.phbands\n\n# Plot the phonon band structure.\nphbands.plot_fatbands(title=\"AlAs phonon fatbands without LO-TO splitting\")\n\n# Plot the phonon band structure + PJDOS\n# sphinx_gallery_thumbnail_number = 2\nphdos_path = abidata.ref_file(\"trf2_5.out_PHDOS.nc\")\nphbands.plot_fatbands(units=\"Thz\", phdos_file=phdos_path, title=\"AlAs phonon fatbands with PJDOS\")\n\n# Plot contributions to the phonon displacement at the Gamma point grouped by atom type.\nphbands.plot_phdispl(qpoint=(0, 0, 0), units=\"meV\", title=r\"phonon displacements at $\\Gamma$\")\n\n# Plot (orthonormal) eigenvectors instead of displacements.\nphbands.plot_phdispl(qpoint=(0, 0, 0), use_eigvec=True, units=\"meV\", title=r\"phonon eigenvectors at $\\Gamma$\")\n\n# Decompose contributions along the three Cartesian directions.\nphbands.plot_phdispl_cartdirs(qpoint=(0, 0, 0), units=\"cm-1\")"
      ]
    }
  ],
  "metadata": {
    "kernelspec": {
      "display_name": "Python 3",
      "language": "python",
      "name": "python3"
    },
    "language_info": {
      "codemirror_mode": {
        "name": "ipython",
        "version": 3
      },
      "file_extension": ".py",
      "mimetype": "text/x-python",
      "name": "python",
      "nbconvert_exporter": "python",
      "pygments_lexer": "ipython3",
      "version": "3.8.0"
    }
  },
  "nbformat": 4,
  "nbformat_minor": 0
}