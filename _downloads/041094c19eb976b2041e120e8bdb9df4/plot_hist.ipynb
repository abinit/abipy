{
  "cells": [
    {
      "cell_type": "code",
      "execution_count": null,
      "metadata": {
        "collapsed": false
      },
      "outputs": [],
      "source": [
        "%matplotlib inline"
      ]
    },
    {
      "cell_type": "markdown",
      "metadata": {},
      "source": [
        "\n# Structural relaxation\n\nThis example shows how to analyze the results of a\nstructure relaxation run using the HIST.nc file.\n"
      ]
    },
    {
      "cell_type": "code",
      "execution_count": null,
      "metadata": {
        "collapsed": false
      },
      "outputs": [],
      "source": [
        "from abipy.abilab import abiopen\nimport abipy.data as abidata\n\n# Open the HIST file.\n# (alternatively one can use the shell and `abiopen.py OUT_HIST.nc -nb`\n# to open the file in jupyter notebook.\nhist = abiopen(abidata.ref_file(\"sic_relax_HIST.nc\"))\n\n# The structure at the end of the structural relaxation.\nprint(hist.final_structure)\n\n# Plot the evolution of the lattice parameters, forces, etotal, ...\nhist.plot(tight_layout=True)\n\n# Plot the total energy at the different relaxation steps.\nhist.plot_energies(tight_layout=True)\n\nhist.close()"
      ]
    }
  ],
  "metadata": {
    "kernelspec": {
      "display_name": "Python 3",
      "language": "python",
      "name": "python3"
    },
    "language_info": {
      "codemirror_mode": {
        "name": "ipython",
        "version": 3
      },
      "file_extension": ".py",
      "mimetype": "text/x-python",
      "name": "python",
      "nbconvert_exporter": "python",
      "pygments_lexer": "ipython3",
      "version": "3.8.0"
    }
  },
  "nbformat": 4,
  "nbformat_minor": 0
}