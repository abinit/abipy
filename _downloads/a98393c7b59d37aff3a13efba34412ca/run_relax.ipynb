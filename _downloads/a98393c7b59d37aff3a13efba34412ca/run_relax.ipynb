{
  "cells": [
    {
      "cell_type": "code",
      "execution_count": null,
      "metadata": {
        "collapsed": false
      },
      "outputs": [],
      "source": [
        "%matplotlib inline"
      ]
    },
    {
      "cell_type": "markdown",
      "metadata": {},
      "source": [
        "\n# Relaxation Flow\n\nThis script shows how to perform a structural relaxation in two steps:\n\n    1) Relaxation of atomic positions with unit cell parameters fixed.\n    2) Full relaxation (atoms + cell) with the initial configuration read from step 1)\n"
      ]
    },
    {
      "cell_type": "code",
      "execution_count": null,
      "metadata": {
        "collapsed": false
      },
      "outputs": [],
      "source": [
        "import sys\nimport os\nimport abipy.data as abidata\nimport abipy.abilab as abilab\nimport abipy.flowtk as flowtk\n\n\ndef make_ion_ioncell_inputs(paral_kgb=0):\n\n    structure = abilab.Structure.from_file(abidata.cif_file(\"si.cif\"))\n\n    # Perturb the structure (random perturbation of 0.1 Angstrom)\n    # then compress the volume to trigger dilatmx.\n    structure.perturb(distance=0.1)\n    structure.scale_lattice(structure.volume * 0.6)\n\n    global_vars = dict(\n        ecut=4,\n        ngkpt=[4, 4, 4],\n        shiftk=[0, 0, 0],\n        nshiftk=1,\n        chksymbreak=0,\n        paral_kgb=paral_kgb,\n        iomode=3,\n        #prtwf=0,\n    )\n\n    multi = abilab.MultiDataset(structure, pseudos=abidata.pseudos(\"14si.pspnc\"), ndtset=2)\n\n    # Global variables\n    multi.set_vars(global_vars)\n\n    # Dataset 1 (Atom Relaxation)\n    multi[0].set_vars(\n        optcell=0,\n        ionmov=2,\n        tolrff=0.02,\n        tolmxf=5.0e-5,\n        #ntime=50,\n        ntime=3,  #To test the restart\n        #dilatmx=1.1, # FIXME: abinit crashes if I don't use this\n    )\n\n    # Dataset 2 (Atom + Cell Relaxation)\n    multi[1].set_vars(\n        optcell=1,\n        ionmov=2,\n        ecutsm=0.5,\n        dilatmx=1.02,\n        tolrff=0.02,\n        tolmxf=5.0e-5,\n        strfact=100,\n        #ntime=50,\n        ntime=3,  # To test the restart\n        )\n\n    #print(multi)\n\n    ion_inp, ioncell_inp = multi.split_datasets()\n    return ion_inp, ioncell_inp\n\n\ndef build_flow(options):\n    # Working directory (default is the name of the script with '.py' removed and \"run_\" replaced by \"flow_\")\n    if not options.workdir:\n        options.workdir = os.path.basename(sys.argv[0]).replace(\".py\", \"\").replace(\"run_\", \"flow_\")\n\n    # Create the flow\n    flow = flowtk.Flow(options.workdir, manager=options.manager)\n\n    # Create a relaxation work and add it to the flow.\n    ion_inp, ioncell_inp = make_ion_ioncell_inputs()\n\n    relax_work = flowtk.RelaxWork(ion_inp, ioncell_inp)\n    flow.register_work(relax_work)\n\n    #bands_work = flowtk.BandStructureWork(scf_input, nscf_input)\n    bands_work = flowtk.Work()\n    deps = {relax_work[-1]: \"@structure\"}\n    deps = {relax_work[-1]: [\"DEN\", \"@structure\"]}  # --> This is not possible because the file ext is changed!\n    #deps = {relax_work[-1]: [\"WFK\", \"@structure\"]} # --> This triggers an infamous bug in abinit\n\n    bands_work.register_relax_task(ioncell_inp, deps=deps)\n    flow.register_work(bands_work)\n\n    return flow\n\n\n# This block generates the thumbnails in the AbiPy gallery.\n# You can safely REMOVE this part if you are using this script for production runs.\nif os.getenv(\"READTHEDOCS\", False):\n    __name__ = None\n    import tempfile\n    options = flowtk.build_flow_main_parser().parse_args([\"-w\", tempfile.mkdtemp()])\n    build_flow(options).graphviz_imshow()\n\n\n@flowtk.flow_main\ndef main(options):\n    return build_flow(options)\n\n\nif __name__ == \"__main__\":\n    sys.exit(main())"
      ]
    }
  ],
  "metadata": {
    "kernelspec": {
      "display_name": "Python 3",
      "language": "python",
      "name": "python3"
    },
    "language_info": {
      "codemirror_mode": {
        "name": "ipython",
        "version": 3
      },
      "file_extension": ".py",
      "mimetype": "text/x-python",
      "name": "python",
      "nbconvert_exporter": "python",
      "pygments_lexer": "ipython3",
      "version": "3.8.0"
    }
  },
  "nbformat": 4,
  "nbformat_minor": 0
}