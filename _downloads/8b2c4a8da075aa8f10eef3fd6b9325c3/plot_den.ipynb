{
  "cells": [
    {
      "cell_type": "code",
      "execution_count": null,
      "metadata": {
        "collapsed": false
      },
      "outputs": [],
      "source": [
        "%matplotlib inline"
      ]
    },
    {
      "cell_type": "markdown",
      "metadata": {},
      "source": [
        "\n# Density\n\nThis example shows how to analyze the electronic density\nstored in the DEN.nc file.\n"
      ]
    },
    {
      "cell_type": "code",
      "execution_count": null,
      "metadata": {
        "collapsed": false
      },
      "outputs": [],
      "source": [
        "from abipy.abilab import abiopen\nimport abipy.data as abidata\n\n# Open the DEN.nc file\nncfile = abiopen(abidata.ref_file(\"si_DEN.nc\"))\n\n# The DEN file has a `Density`, a `Structure` and an `ElectronBands` object\nprint(ncfile.structure)\n\n# To plot the KS eigenvalues.\n#ncfile.ebands.plot()\n\ndensity = ncfile.density\nprint(density)\n\n# To visualize the total charge wih vesta\n#visu = density.visualize(\"vesta\"); visu()\n\n# To plot the density along the line connecting\n# the first and the second in the structure:\ndensity.plot_line(point1=0, point2=1)\n\n# alternatively, one can define the line in terms of two points\n# in fractional coordinates:\ndensity.plot_line(point1=[0, 0, 0], point2=[2.25, 2.25, 2.25], num=300)\n\n# To plot the density along the lines connect the firt atom in the structure\n# and all the neighbors within a sphere of radius 3 Angstrom:\ndensity.plot_line_neighbors(site_index=0, radius=3)"
      ]
    }
  ],
  "metadata": {
    "kernelspec": {
      "display_name": "Python 3",
      "language": "python",
      "name": "python3"
    },
    "language_info": {
      "codemirror_mode": {
        "name": "ipython",
        "version": 3
      },
      "file_extension": ".py",
      "mimetype": "text/x-python",
      "name": "python",
      "nbconvert_exporter": "python",
      "pygments_lexer": "ipython3",
      "version": "3.9.2"
    }
  },
  "nbformat": 4,
  "nbformat_minor": 0
}