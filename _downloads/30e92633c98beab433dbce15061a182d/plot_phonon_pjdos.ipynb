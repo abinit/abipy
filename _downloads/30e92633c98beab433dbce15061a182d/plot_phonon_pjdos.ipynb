{
  "cells": [
    {
      "cell_type": "code",
      "execution_count": null,
      "metadata": {
        "collapsed": false
      },
      "outputs": [],
      "source": [
        "%matplotlib inline"
      ]
    },
    {
      "cell_type": "markdown",
      "metadata": {},
      "source": [
        "\n# Projected phonon DOS\n\nThis example shows how to plot the projected phonon DOS of AlAs.\nSee tutorial/lesson_rf2.html\n"
      ]
    },
    {
      "cell_type": "code",
      "execution_count": null,
      "metadata": {
        "collapsed": false
      },
      "outputs": [],
      "source": [
        "from abipy.abilab import abiopen\nimport abipy.data as abidata\n\n# Read the Phonon DOS from the netcdf file produced by anaddb with prtdos 2\n# (alternatively one can use the shell and `abiopen.py OUT_PHDOS.nc -nb`\n# to open the file in a jupyter notebook.\nwith abiopen(abidata.ref_file(\"trf2_5.out_PHDOS.nc\")) as phdos_file:\n\n    # Plot PJDOS.\n    phdos_file.plot_pjdos_type(units=\"cm-1\", title=\"AlAs type-projected phonon DOS\")\n\n    # To have the projection along the cartesian directions (summed over atomic types)\n    phdos_file.plot_pjdos_cartdirs_type(units=\"Thz\", stacked=True,\n            title=\"Type-projected ph-DOS decomposed along the three Cartesian directions.\")\n\n    # To plot the PJDOS for all the inequivalent sites.\n    phdos_file.plot_pjdos_cartdirs_site(view=\"inequivalent\", stacked=True)"
      ]
    }
  ],
  "metadata": {
    "kernelspec": {
      "display_name": "Python 3",
      "language": "python",
      "name": "python3"
    },
    "language_info": {
      "codemirror_mode": {
        "name": "ipython",
        "version": 3
      },
      "file_extension": ".py",
      "mimetype": "text/x-python",
      "name": "python",
      "nbconvert_exporter": "python",
      "pygments_lexer": "ipython3",
      "version": "3.9.2"
    }
  },
  "nbformat": 4,
  "nbformat_minor": 0
}