{
  "cells": [
    {
      "cell_type": "code",
      "execution_count": null,
      "metadata": {
        "collapsed": false
      },
      "outputs": [],
      "source": [
        "%matplotlib inline"
      ]
    },
    {
      "cell_type": "markdown",
      "metadata": {},
      "source": [
        "\n# Dielectric function with LFE\n\nThis examples shows how to plot the macroscopic dielectric function\ncomputed in the GW code (optdriver 3)\n"
      ]
    },
    {
      "cell_type": "code",
      "execution_count": null,
      "metadata": {
        "collapsed": false
      },
      "outputs": [],
      "source": [
        "import abipy.data as abidata\nfrom abipy.abilab import abiopen\n\nwith abiopen(abidata.ref_file(\"sio2_SCR.nc\")) as ncfile:\n    # The SCR file contains a structure and electron bands in the IBZ.\n    # We can thus use the ebands object to plot bands + DOS.\n    print(ncfile)\n\n    edos = ncfile.ebands.get_edos()\n    ncfile.ebands.plot_with_edos(edos, title=\"KS energies used to compute the SCR file.\")\n\n    # sphinx_gallery_thumbnail_number = 2\n    ncfile.plot_emacro(title=\"Macroscopic dielectric function of $SiO_2$ with local-field effects.\")\n\n    ncfile.plot_eelf(title=\"Electron Energy Loss Function of $SiO_2$\")"
      ]
    }
  ],
  "metadata": {
    "kernelspec": {
      "display_name": "Python 3",
      "language": "python",
      "name": "python3"
    },
    "language_info": {
      "codemirror_mode": {
        "name": "ipython",
        "version": 3
      },
      "file_extension": ".py",
      "mimetype": "text/x-python",
      "name": "python",
      "nbconvert_exporter": "python",
      "pygments_lexer": "ipython3",
      "version": "3.9.2"
    }
  },
  "nbformat": 4,
  "nbformat_minor": 0
}