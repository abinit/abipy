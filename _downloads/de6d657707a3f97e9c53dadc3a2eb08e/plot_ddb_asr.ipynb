{
  "cells": [
    {
      "cell_type": "code",
      "execution_count": null,
      "metadata": {
        "collapsed": false
      },
      "outputs": [],
      "source": [
        "%matplotlib inline"
      ]
    },
    {
      "cell_type": "markdown",
      "metadata": {},
      "source": [
        "\n# Phonon Bands with/without ASR\n\nThis example shows how to plot a phonon band structure\nwith and without imposing the acoustic sum rule at the Gamma point.\n"
      ]
    },
    {
      "cell_type": "code",
      "execution_count": null,
      "metadata": {
        "collapsed": false
      },
      "outputs": [],
      "source": [
        "from abipy import abilab\nimport abipy.data as abidata\n\n# Open DDB file\nfilepath = abidata.ref_file(\"mp-1009129-9x9x10q_ebecs_DDB\")\nddb = abilab.abiopen(filepath)\n\n# This method computes the phonon bands and DOS by calling anaddb\n# with different values of asr and returns a PhononBandsPlotter object.\nplotter = ddb.anacompare_asr(asr_list=(0, 2))\nplotter.combiplot()\n\n# Set nqsmall to 0 to disable DOS computation.\nplotter = ddb.anacompare_asr(asr_list=(0, 2), nqsmall=0, ndivsm=10)\nplotter.gridplot()\n\nddb.close()"
      ]
    }
  ],
  "metadata": {
    "kernelspec": {
      "display_name": "Python 3",
      "language": "python",
      "name": "python3"
    },
    "language_info": {
      "codemirror_mode": {
        "name": "ipython",
        "version": 3
      },
      "file_extension": ".py",
      "mimetype": "text/x-python",
      "name": "python",
      "nbconvert_exporter": "python",
      "pygments_lexer": "ipython3",
      "version": "3.9.2"
    }
  },
  "nbformat": 4,
  "nbformat_minor": 0
}