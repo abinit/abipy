{
  "cells": [
    {
      "cell_type": "code",
      "execution_count": null,
      "metadata": {
        "collapsed": false
      },
      "outputs": [],
      "source": [
        "%matplotlib inline"
      ]
    },
    {
      "cell_type": "markdown",
      "metadata": {},
      "source": [
        "\n# Thermodinamic properties\n\nThis example shows how to compute and plot thermodinamic properties within\nthe harmonic approximation using the phonon DOS produced by anaddb.\n"
      ]
    },
    {
      "cell_type": "code",
      "execution_count": null,
      "metadata": {
        "collapsed": false
      },
      "outputs": [],
      "source": [
        "from __future__ import print_function\n\nfrom abipy.abilab import abiopen\nimport abipy.data as abidata\n\n# Read the Phonon DOS from the netcd file produced by anaddb (prtdos 2)\nncfile = abiopen(abidata.ref_file(\"trf2_5.out_PHDOS.nc\"))\nphdos = ncfile.phdos\n\n# Print crystalline structure and zero-point energy.\nprint(ncfile.structure)\nzpe = phdos.zero_point_energy\nprint(\"Zero point energy:\", zpe, zpe.to(\"J\"), zpe.to(\"Ha\"))\n\n# Compute free energy from 2 to 300 K (20 points)\n# By default, energies are is eV and thermodynamic quantities are given\n# on a per-unit-cell basis.\nf = phdos.get_free_energy(tstart=2, tstop=300, num=20)\n#f.plot()\n\n# Plot U, F, S, Cv as a function of T.\n# Use J/mol units, results are divided by formula_units.\nphdos.plot_harmonic_thermo(units=\"Jmol\", formula_units=1)\n\nncfile.close()"
      ]
    }
  ],
  "metadata": {
    "kernelspec": {
      "display_name": "Python 3",
      "language": "python",
      "name": "python3"
    },
    "language_info": {
      "codemirror_mode": {
        "name": "ipython",
        "version": 3
      },
      "file_extension": ".py",
      "mimetype": "text/x-python",
      "name": "python",
      "nbconvert_exporter": "python",
      "pygments_lexer": "ipython3",
      "version": "3.9.2"
    }
  },
  "nbformat": 4,
  "nbformat_minor": 0
}