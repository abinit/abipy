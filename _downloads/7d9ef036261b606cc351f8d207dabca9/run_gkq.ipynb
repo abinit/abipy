{
  "cells": [
    {
      "cell_type": "code",
      "execution_count": null,
      "metadata": {
        "collapsed": false
      },
      "outputs": [],
      "source": [
        "%matplotlib inline"
      ]
    },
    {
      "cell_type": "markdown",
      "metadata": {},
      "source": [
        "\n# Flow to compute e-ph matrix elements along a q-path\n\nThis example shows how to compute the e-ph matrix elements in AlAs along a q-path with AbiPy flows.\nThe final results are stored in the GKQ.nc file (one file for q-point) in the outdata of each task.\n"
      ]
    },
    {
      "cell_type": "code",
      "execution_count": null,
      "metadata": {
        "collapsed": false
      },
      "outputs": [],
      "source": [
        "import sys\nimport os\nimport abipy.abilab as abilab\nimport abipy.data as abidata\n\nfrom abipy import flowtk\n\n\ndef make_scf_input(ngkpt):\n    \"\"\"\n    This function constructs the input file for the GS calculation:\n    \"\"\"\n    structure = abidata.structure_from_ucell(\"AlAs\")\n    pseudos = abidata.pseudos(\"13al.981214.fhi\", \"33as.pspnc\")\n    gs_inp = abilab.AbinitInput(structure, pseudos=pseudos)\n\n    gs_inp.set_vars(\n        nband=6,\n        ecut=6.0,\n        ngkpt=ngkpt,\n        nshiftk=1,\n        shiftk=[0, 0, 0],\n        tolvrs=1.0e-10,\n    )\n\n    return gs_inp\n\n\ndef build_flow(options):\n    \"\"\"\n    Create a `Flow` for the computation of e-ph matrix elements\n    \"\"\"\n    # Working directory (default is the name of the script with '.py' removed and \"run_\" replaced by \"flow_\")\n    if not options.workdir:\n        options.workdir = os.path.basename(sys.argv[0]).replace(\".py\", \"\").replace(\"run_\", \"flow_\")\n\n    # Use 2x2x2 both for k-mesh.\n    # Build input for GS calculation\n    scf_input = make_scf_input(ngkpt=(2, 2, 2))\n\n    # corresponding to a [2, 2, 2] q-mesh.\n    ngqpt = (2, 2, 2)\n\n    # Create flow to compute all the independent atomic perturbations\n    # Use ndivsm = 0 to pass an explicit list of q-points.\n    # If ndivsm > 0, qpath_list is interpreted as a list of boundaries for the q-path\n    qpath_list = [[0.0, 0.0, 0.0], [0.01, 0, 0], [0.1, 0, 0],\n                  [0.24, 0, 0], [0.3, 0, 0], [0.45, 0, 0], [0.5, 0.0, 0.0]]\n\n    from abipy.flowtk.eph_flows import GkqPathFlow\n    flow = GkqPathFlow.from_scf_input(options.workdir, scf_input,\n                                      ngqpt, qpath_list, ndivsm=0, with_becs=True,\n                                      ddk_tolerance={\"tolwfr\": 1e-8})\n\n    return flow\n\n\n# This block generates the thumbnails in the AbiPy gallery.\n# You can safely REMOVE this part if you are using this script for production runs.\nif os.getenv(\"READTHEDOCS\", False):\n    __name__ = None\n    import tempfile\n    options = flowtk.build_flow_main_parser().parse_args([\"-w\", tempfile.mkdtemp()])\n    build_flow(options).graphviz_imshow()\n\n\n@flowtk.flow_main\ndef main(options):\n    \"\"\"\n    This is our main function that will be invoked by the script.\n    flow_main is a decorator implementing the command line interface.\n    Command line args are stored in `options`.\n    \"\"\"\n    return build_flow(options)\n\n\nif __name__ == \"__main__\":\n    sys.exit(main())"
      ]
    },
    {
      "cell_type": "markdown",
      "metadata": {},
      "source": [
        "Run the script with:\n\n    run_gkq.py -s\n\nthen use:\n\n   abirun.py flow_phonons history\n\n"
      ]
    }
  ],
  "metadata": {
    "kernelspec": {
      "display_name": "Python 3",
      "language": "python",
      "name": "python3"
    },
    "language_info": {
      "codemirror_mode": {
        "name": "ipython",
        "version": 3
      },
      "file_extension": ".py",
      "mimetype": "text/x-python",
      "name": "python",
      "nbconvert_exporter": "python",
      "pygments_lexer": "ipython3",
      "version": "3.8.0"
    }
  },
  "nbformat": 4,
  "nbformat_minor": 0
}