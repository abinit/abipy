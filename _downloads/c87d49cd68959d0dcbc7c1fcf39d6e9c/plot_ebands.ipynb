{
  "cells": [
    {
      "cell_type": "code",
      "execution_count": null,
      "metadata": {
        "collapsed": false
      },
      "outputs": [],
      "source": [
        "%matplotlib inline"
      ]
    },
    {
      "cell_type": "markdown",
      "metadata": {},
      "source": [
        "\n# Band structure plot\n\nThis example shows how to plot a band structure\nusing the eigenvalues stored in the GSR file\nproduced at the end of the GS run.\n"
      ]
    },
    {
      "cell_type": "code",
      "execution_count": null,
      "metadata": {
        "collapsed": false
      },
      "outputs": [],
      "source": [
        "from abipy.abilab import abiopen\nimport abipy.data as abidata\n\n# Here we use one of the GSR files shipped with abipy.\n# Replace filename with the path to your GSR file or your WFK file.\nfilename = abidata.ref_file(\"si_nscf_GSR.nc\")\n\n# Open the GSR file and extract the band structure.\n# (alternatively one can use the shell and `abiopen.py OUT_GSR.nc -nb`\n# to open the file in a jupyter notebook.\nwith abiopen(filename) as ncfile:\n    ebands = ncfile.ebands\n\n# Plot the band energies. Note that the labels for the k-points\n# are found automatically in an internal database.\n# Show fundamental and direct gaps.\n#ebands.plot(with_gaps=\"fd\", title=\"Silicon band structure\")\nebands.plot(with_gaps=True, title=\"Silicon band structure\")\n\n# Plot the BZ and the k-point path.\nebands.kpoints.plot()"
      ]
    }
  ],
  "metadata": {
    "kernelspec": {
      "display_name": "Python 3",
      "language": "python",
      "name": "python3"
    },
    "language_info": {
      "codemirror_mode": {
        "name": "ipython",
        "version": 3
      },
      "file_extension": ".py",
      "mimetype": "text/x-python",
      "name": "python",
      "nbconvert_exporter": "python",
      "pygments_lexer": "ipython3",
      "version": "3.9.2"
    }
  },
  "nbformat": 4,
  "nbformat_minor": 0
}