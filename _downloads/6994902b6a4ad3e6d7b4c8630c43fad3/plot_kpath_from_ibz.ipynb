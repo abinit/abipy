{
  "cells": [
    {
      "cell_type": "code",
      "execution_count": null,
      "metadata": {
        "collapsed": false
      },
      "outputs": [],
      "source": [
        "%matplotlib inline"
      ]
    },
    {
      "cell_type": "markdown",
      "metadata": {},
      "source": [
        "\n# K-path from IBZ\n\nThis example shows how to extract energies along a k-path\nfrom a calculation done with a (relatively dense) IBZ sampling.\n"
      ]
    },
    {
      "cell_type": "code",
      "execution_count": null,
      "metadata": {
        "collapsed": false
      },
      "outputs": [],
      "source": [
        "from abipy.abilab import abiopen\nimport abipy.data as abidata\n\n# Open the file with energies computed with a homogeneous sampling of the BZ\n# and extract the band structure object.\nwith abiopen(abidata.ref_file(\"si_scf_GSR.nc\")) as gs_file:\n    ebands_ibz = gs_file.ebands\n\n# This is a GS calculation done with a 8x8x8 k-mesh.\nprint(ebands_ibz.kpoints)\n\n# Build new ebands with energies along G-X-L-G path.\n# Smooth bands require dense meshes.\nr = ebands_ibz.with_points_along_path(knames=[\"G\", \"X\", \"L\", \"G\"])\n\nprint(r.ebands)\nr.ebands.plot()"
      ]
    }
  ],
  "metadata": {
    "kernelspec": {
      "display_name": "Python 3",
      "language": "python",
      "name": "python3"
    },
    "language_info": {
      "codemirror_mode": {
        "name": "ipython",
        "version": 3
      },
      "file_extension": ".py",
      "mimetype": "text/x-python",
      "name": "python",
      "nbconvert_exporter": "python",
      "pygments_lexer": "ipython3",
      "version": "3.8.0"
    }
  },
  "nbformat": 4,
  "nbformat_minor": 0
}