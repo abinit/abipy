{
  "cells": [
    {
      "cell_type": "code",
      "execution_count": null,
      "metadata": {
        "collapsed": false
      },
      "outputs": [],
      "source": [
        "%matplotlib inline"
      ]
    },
    {
      "cell_type": "markdown",
      "metadata": {},
      "source": [
        "\n# Multiple Bethe-Salpeter calculations\n\nThis example shows how to analyze multiple MDF files.\n"
      ]
    },
    {
      "cell_type": "code",
      "execution_count": null,
      "metadata": {
        "collapsed": false
      },
      "outputs": [],
      "source": [
        "import abipy.data as abidata\nfrom abipy import abilab\n\n# Read data from multiple files.\nmdf_paths = abidata.ref_files(\"si_444_MDF.nc\", \"si_666_MDF.nc\", \"si_888_MDF.nc\")\nrobot = abilab.MdfRobot.from_files(mdf_paths)\n\n# Build MultipleMdfPlotter\nplotter = robot.get_multimdf_plotter()\n\n# Plot the dielectric function with excitonic effects.\nplotter.plot(mdf_type=\"exc\", qview=\"avg\",\n             title=\"Real and Imaginary part (averaged over q-points)\", tight_layout=True)\n\n# Plot the dielectric function computed at the RPA level with KS energies.\n# Show q-point dependence.\nplotter.plot(mdf_type=\"rpa\", qview=\"all\",\n             title=\"Real and Imaginary part for individual q-points\", tight_layout=True)\n\nrobot.close()"
      ]
    }
  ],
  "metadata": {
    "kernelspec": {
      "display_name": "Python 3",
      "language": "python",
      "name": "python3"
    },
    "language_info": {
      "codemirror_mode": {
        "name": "ipython",
        "version": 3
      },
      "file_extension": ".py",
      "mimetype": "text/x-python",
      "name": "python",
      "nbconvert_exporter": "python",
      "pygments_lexer": "ipython3",
      "version": "3.9.2"
    }
  },
  "nbformat": 4,
  "nbformat_minor": 0
}