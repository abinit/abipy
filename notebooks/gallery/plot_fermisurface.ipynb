{
  "cells": [
    {
      "cell_type": "code",
      "execution_count": null,
      "metadata": {
        "collapsed": false
      },
      "outputs": [],
      "source": [
        "%matplotlib inline"
      ]
    },
    {
      "cell_type": "markdown",
      "metadata": {},
      "source": [
        "\n# MgB2 Fermi surface\n\nThis example shows how to plot the Fermi surface with matplotlib\n"
      ]
    },
    {
      "cell_type": "code",
      "execution_count": null,
      "metadata": {
        "collapsed": false
      },
      "outputs": [],
      "source": [
        "from abipy import abilab\nimport abipy.data as abidata\n\nwith abilab.abiopen(abidata.ref_file(\"mgb2_kmesh181818_FATBANDS.nc\")) as fbnc_kmesh:\n    ebands = fbnc_kmesh.ebands\n\n# Build ebands in full BZ.\neb3d = ebands.get_ebands3d()\n\n# Use matplotlib to plot isosurfaces corresponding to the Fermi level (default)\n# Warning: requires skimage package, rendering could be slow.\neb3d.plot_isosurfaces()\n\n# Alternatively, it's possible to export the data in xcrysden format\n# and then use `xcrysden --bxsf mgb2.bxsf`\n#eb3d.to_bxsf(\"mgb2.bxsf\")\n\n# If you have mayavi installed, try:\n#eb3d.mvplot_isosurfaces()"
      ]
    }
  ],
  "metadata": {
    "kernelspec": {
      "display_name": "Python 3",
      "language": "python",
      "name": "python3"
    },
    "language_info": {
      "codemirror_mode": {
        "name": "ipython",
        "version": 3
      },
      "file_extension": ".py",
      "mimetype": "text/x-python",
      "name": "python",
      "nbconvert_exporter": "python",
      "pygments_lexer": "ipython3",
      "version": "3.9.4"
    }
  },
  "nbformat": 4,
  "nbformat_minor": 0
}