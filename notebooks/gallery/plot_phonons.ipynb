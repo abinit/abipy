{
  "cells": [
    {
      "cell_type": "code",
      "execution_count": null,
      "metadata": {
        "collapsed": false
      },
      "outputs": [],
      "source": [
        "%matplotlib inline"
      ]
    },
    {
      "cell_type": "markdown",
      "metadata": {},
      "source": [
        "\n# AlAs Phonon bands\n\nThis example shows how to plot the phonon band structure of AlAs.\nSee tutorial/lesson_rf2.html\n"
      ]
    },
    {
      "cell_type": "code",
      "execution_count": null,
      "metadata": {
        "collapsed": false
      },
      "outputs": [],
      "source": [
        "from abipy.abilab import abiopen\nimport abipy.data as abidata\n\n# Open PHBST file produced by anaddb and extract the phonon bands object.\n# (alternatively one can use the shell and `abiopen.py OUT_PHBST.nc -nb`\n# to open the file in a jupyter notebook.\nwith abiopen(abidata.ref_file(\"trf2_5.out_PHBST.nc\")) as ncfile:\n    phbands = ncfile.phbands\n\n# Plot the phonon frequencies. Note that the labels for the q-points\n# are found automatically in an internal database.\nphbands.plot(units=\"cm-1\", title=\"AlAs without LO-TO splitting\")\n\n# Alternatively you can use the optional argument qlabels\n# that defines the mapping reduced_coordinates --> name of the q-point.\n#qlabels = {\n#    (0,0,0): \"$\\Gamma$\",\n#    (0.375, 0.375, 0.7500): \"K\",\n#    (0.5, 0.5, 1.0): \"X\",\n#    (0.5, 0.5, 0.5): \"L\",\n#    (0.5, 0.0, 0.5): \"X\",\n#    (0.5, 0.25, 0.75): \"W\",\n#}\n\n# and pass it to the plot method:\n#phbands.plot(title=\"AlAs without LO-TO splitting\", qlabels=qlabels)"
      ]
    }
  ],
  "metadata": {
    "kernelspec": {
      "display_name": "Python 3",
      "language": "python",
      "name": "python3"
    },
    "language_info": {
      "codemirror_mode": {
        "name": "ipython",
        "version": 3
      },
      "file_extension": ".py",
      "mimetype": "text/x-python",
      "name": "python",
      "nbconvert_exporter": "python",
      "pygments_lexer": "ipython3",
      "version": "3.9.4"
    }
  },
  "nbformat": 4,
  "nbformat_minor": 0
}