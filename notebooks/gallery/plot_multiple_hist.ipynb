{
  "cells": [
    {
      "cell_type": "code",
      "execution_count": null,
      "metadata": {
        "collapsed": false
      },
      "outputs": [],
      "source": [
        "%matplotlib inline"
      ]
    },
    {
      "cell_type": "markdown",
      "metadata": {},
      "source": [
        "\n# Multiple Structural relaxations\n\nThis example shows how to analyze the results of multiple\nstructure relaxations with the HIST robot.\n"
      ]
    },
    {
      "cell_type": "code",
      "execution_count": null,
      "metadata": {
        "collapsed": false
      },
      "outputs": [],
      "source": [
        "from abipy import abilab\nimport abipy.data as abidata\n\nfiles = [\n    abidata.ref_file(\"sic_relax_HIST.nc\"),\n    abidata.ref_file(\"sic_relax_HIST.nc\"),\n]\n\n# Build HIST robot from paths, use user-selected labels.\nrobot = abilab.HistRobot.from_files(files, labels=[\"sic_relaxation\", \"same_hist\"])\n\n# Get dataframe with most important results.\nprint(robot.get_dataframe())\n\nrobot.gridplot()\n\n# Use combiplot to compare the results\n# (meaningless in this case as we are using the same HIST file).\nrobot.combiplot()"
      ]
    }
  ],
  "metadata": {
    "kernelspec": {
      "display_name": "Python 3",
      "language": "python",
      "name": "python3"
    },
    "language_info": {
      "codemirror_mode": {
        "name": "ipython",
        "version": 3
      },
      "file_extension": ".py",
      "mimetype": "text/x-python",
      "name": "python",
      "nbconvert_exporter": "python",
      "pygments_lexer": "ipython3",
      "version": "3.9.4"
    }
  },
  "nbformat": 4,
  "nbformat_minor": 0
}