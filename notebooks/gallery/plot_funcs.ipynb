{
  "cells": [
    {
      "cell_type": "code",
      "execution_count": null,
      "metadata": {
        "collapsed": false
      },
      "outputs": [],
      "source": [
        "%matplotlib inline"
      ]
    },
    {
      "cell_type": "markdown",
      "metadata": {},
      "source": [
        "\n# Function1D object\n\nThis example shows how to use the Function1D object to analyze and plot results.\n"
      ]
    },
    {
      "cell_type": "code",
      "execution_count": null,
      "metadata": {
        "collapsed": false
      },
      "outputs": [],
      "source": [
        "import numpy as np\nimport matplotlib.pyplot as plt\n\nfrom abipy.abilab import Function1D\n\n# Build mesh [0, 2pi] with 100 points.\nmesh = np.linspace(0, 2*np.pi, num=100)\n\n# Compute sine function.\nsine = Function1D.from_func(np.sin, mesh)\n\n# Call matplotlib to plot data.\nfig = plt.figure()\nax = fig.add_subplot(1, 1, 1)\n\n# Plot sine.\nsine.plot_ax(ax, label=\"sin(x)\")\n\n# Spline sine on the coarse mesh sx, and plot the data.\nsx = np.linspace(0, 2*np.pi, num=25)\nsplsine = sine.spline(sx)\n\nplt.plot(sx, splsine, \"ro\", label=\"splined sine\")\n\n# Compute the 1-st and 2-nd order derivatives\n# with finite differences (5-point stencil).\nfor order in [1,2]:\n    der = sine.finite_diff(order=order)\n    der.plot_ax(ax, label=\"D sin(x) %d\" % order)\n\n# Integrate the sine function and plot the results.\n(1 - sine.integral()).plot_ax(ax, marker=\".\", label=r\"$1 - \\int\\,\\sin(x)\\,dx$\")\n\nplt.legend(loc=\"best\")\nplt.show()"
      ]
    }
  ],
  "metadata": {
    "kernelspec": {
      "display_name": "Python 3",
      "language": "python",
      "name": "python3"
    },
    "language_info": {
      "codemirror_mode": {
        "name": "ipython",
        "version": 3
      },
      "file_extension": ".py",
      "mimetype": "text/x-python",
      "name": "python",
      "nbconvert_exporter": "python",
      "pygments_lexer": "ipython3",
      "version": "3.8.0"
    }
  },
  "nbformat": 4,
  "nbformat_minor": 0
}