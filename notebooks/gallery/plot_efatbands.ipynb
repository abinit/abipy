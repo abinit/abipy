{
  "cells": [
    {
      "cell_type": "code",
      "execution_count": null,
      "metadata": {
        "collapsed": false
      },
      "outputs": [],
      "source": [
        "%matplotlib inline"
      ]
    },
    {
      "cell_type": "markdown",
      "metadata": {},
      "source": [
        "\n# MgB2 fatbands\n\nThis example shows how to plot the L-projected fatbands of MgB2\nusing the FATBANDS.nc files produced by abinit with prtdos 3.\nSee also PhysRevLett.86.4656\n"
      ]
    },
    {
      "cell_type": "code",
      "execution_count": null,
      "metadata": {
        "collapsed": false
      },
      "outputs": [],
      "source": [
        "import abipy.abilab as abilab\nimport abipy.data as abidata\n\n# Open the file (alternatively one can use the shell and `abiopen.py FILE -nb`\n# to open the file in a jupyter notebook\n# This file has been produced on a k-path so it's not suitable for DOS calculations.\nfbnc_kpath = abilab.abiopen(abidata.ref_file(\"mgb2_kpath_FATBANDS.nc\"))\n\n# Print file info (dimensions, variables ...)\n# Note that prtdos = 3, so LM decomposition is not available.\nprint(fbnc_kpath)\n\n\n# Plot the k-points belonging to the path.\nfbnc_kpath.ebands.kpoints.plot()\n\n# NC files have contributions up to L=4 (g channel)\n# but here we are intererested in s,p,d terms only so\n# we use the optional argument lmax\nlmax = 2\n\n# Plot the electronic fatbands grouped by atomic type.\nfbnc_kpath.plot_fatbands_typeview(lmax=lmax, tight_layout=True)\n\n# Plot the electronic fatbands grouped by L.\nfbnc_kpath.plot_fatbands_lview(lmax=lmax, tight_layout=True)\n\n# Now we read another FATBANDS file produced on 18x18x18 k-mesh\nfbnc_kmesh = abilab.abiopen(abidata.ref_file(\"mgb2_kmesh181818_FATBANDS.nc\"))\n\nprint(fbnc_kmesh)\n#fbnc_kmesh.ebands.kpoints.plot()\n\n# Plot the L-PJDOS grouped by atomic type.\nfbnc_kmesh.plot_pjdos_typeview(lmax=lmax, tight_layout=True)\n\n# Plot the L-PJDOS grouped by L.\nfbnc_kmesh.plot_pjdos_lview(lmax=lmax, tight_layout=True)\n\n# Now we use the two netcdf files to produce plots with fatbands + PJDOSEs.\n# The data for the DOS is taken from pjdosfile.\n# sphinx_gallery_thumbnail_number = 6\nfbnc_kpath.plot_fatbands_with_pjdos(pjdosfile=fbnc_kmesh, lmax=lmax,\n                                    view=\"type\", tight_layout=True)\n\n# fatbands + PJDOS grouped by L\nfbnc_kpath.plot_fatbands_with_pjdos(pjdosfile=fbnc_kmesh, lmax=lmax,\n                                    view=\"lview\", tight_layout=True)\n\nfbnc_kpath.close()\nfbnc_kmesh.close()"
      ]
    }
  ],
  "metadata": {
    "kernelspec": {
      "display_name": "Python 3",
      "language": "python",
      "name": "python3"
    },
    "language_info": {
      "codemirror_mode": {
        "name": "ipython",
        "version": 3
      },
      "file_extension": ".py",
      "mimetype": "text/x-python",
      "name": "python",
      "nbconvert_exporter": "python",
      "pygments_lexer": "ipython3",
      "version": "3.9.4"
    }
  },
  "nbformat": 4,
  "nbformat_minor": 0
}