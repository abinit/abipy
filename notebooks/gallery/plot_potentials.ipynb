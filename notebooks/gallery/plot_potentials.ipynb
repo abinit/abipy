{
  "cells": [
    {
      "cell_type": "code",
      "execution_count": null,
      "metadata": {
        "collapsed": false
      },
      "outputs": [],
      "source": [
        "%matplotlib inline"
      ]
    },
    {
      "cell_type": "markdown",
      "metadata": {},
      "source": [
        "\n# Potentials\n\nThis example shows how to plot the potentials stored in netcdf files.\nUse the input variables `prtpot`, `prtvha`, `prtvhxc`, `prtvxc` with\n`iomode 3` to produce these files at the end of the SCF-GS run.\n"
      ]
    },
    {
      "cell_type": "code",
      "execution_count": null,
      "metadata": {
        "collapsed": false
      },
      "outputs": [],
      "source": [
        "from abipy.abilab import abiopen\nimport abipy.data as abidata\n\n# VKS = Hartree + XC potential + sum of local part of pseudos.\nwith abiopen(abidata.ref_file(\"ni_666k_POT.nc\")) as ncfile:\n    vks = ncfile.vks\n\n#vks.plot_line(point1=[0, 0, 0], point2=[0, 4, 0], num=400, title=\"$V_{ks}(r)$\")\n\n# Hartree potential.\nwith abiopen(abidata.ref_file(\"ni_666k_VHA.nc\")) as ncfile:\n    vh = ncfile.vh\n\nvh.plot_line(point1=[0, 0, 0], point2=[0, 4, 0], num=400, title=\"$V_{hartree}(r)$\")\n\n# XC potential.\nwith abiopen(abidata.ref_file(\"ni_666k_VXC.nc\")) as ncfile:\n    vxc = ncfile.vxc\n\nvxc.plot_line(point1=[0, 0, 0], point2=[0, 4, 0], num=400, title=\"$V_{xc}(r)$\")\n\n# Hartree + XC potential.\nwith abiopen(abidata.ref_file(\"ni_666k_VHXC.nc\")) as ncfile:\n    vhxc = ncfile.vhxc\n\nvhxc.plot_line(point1=[0, 0, 0], point2=[0, 4, 0], num=400, title=\"$V_{hxc}(r)$\")\n\nvloc = vks - vhxc\nvloc.plot_line(point1=[0, 0, 0], point2=[0, 4, 0], num=400, title=\"$V_{loc}(r)$\")\n\nfoo = vhxc - vh - vxc\n#foo.plot_line(point1=[0, 0, 0], point2=[0, 4, 0], num=400, title=\"$V_{hxc - h - xc}(r)$\")\n\n# To plot the wavefunction along the lines connect the firt atom in the structure\n# and all the neighbors within a sphere of radius 3 Angstrom:\n#vxc.plot_line_neighbors(site_index=0, radius=3)"
      ]
    }
  ],
  "metadata": {
    "kernelspec": {
      "display_name": "Python 3",
      "language": "python",
      "name": "python3"
    },
    "language_info": {
      "codemirror_mode": {
        "name": "ipython",
        "version": 3
      },
      "file_extension": ".py",
      "mimetype": "text/x-python",
      "name": "python",
      "nbconvert_exporter": "python",
      "pygments_lexer": "ipython3",
      "version": "3.8.0"
    }
  },
  "nbformat": 4,
  "nbformat_minor": 0
}