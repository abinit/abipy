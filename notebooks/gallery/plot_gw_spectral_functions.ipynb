{
  "cells": [
    {
      "cell_type": "code",
      "execution_count": null,
      "metadata": {
        "collapsed": false
      },
      "outputs": [],
      "source": [
        "%matplotlib inline"
      ]
    },
    {
      "cell_type": "markdown",
      "metadata": {},
      "source": [
        "\n# G0W0 spectral function\n\nThis examples shows how to plot the G0W0 spectral functions A(w) at the gamma point.\nSee also lesson tgw2_4\n"
      ]
    },
    {
      "cell_type": "code",
      "execution_count": null,
      "metadata": {
        "collapsed": false
      },
      "outputs": [],
      "source": [
        "import abipy.data as abidata\nfrom abipy.abilab import abiopen\n\n# Open the file with the GW results\nsigres = abiopen(abidata.ref_file(\"al_g0w0_sigmaw_SIGRES.nc\"))\n\n# Plot A(w) for the first spin, the gamma point, and all bands\nsigres.plot_spectral_functions()\n\n# Only bands in [0, 1, 2]\nsigres.plot_spectral_functions(spin=0, kpoint=(0, 0, 0), include_bands=range(0, 3))\n\nsigres.close()"
      ]
    }
  ],
  "metadata": {
    "kernelspec": {
      "display_name": "Python 3",
      "language": "python",
      "name": "python3"
    },
    "language_info": {
      "codemirror_mode": {
        "name": "ipython",
        "version": 3
      },
      "file_extension": ".py",
      "mimetype": "text/x-python",
      "name": "python",
      "nbconvert_exporter": "python",
      "pygments_lexer": "ipython3",
      "version": "3.9.4"
    }
  },
  "nbformat": 4,
  "nbformat_minor": 0
}