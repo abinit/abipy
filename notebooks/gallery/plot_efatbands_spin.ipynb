{
  "cells": [
    {
      "cell_type": "code",
      "execution_count": null,
      "metadata": {
        "collapsed": false
      },
      "outputs": [],
      "source": [
        "%matplotlib inline"
      ]
    },
    {
      "cell_type": "markdown",
      "metadata": {},
      "source": [
        "\n# spin-polarized fatbands\n\nThis example shows how to plot the L-projected fatbands of Ni\nusing the results stored in the FATBANDS.nc files produced with prtdos 3.\n"
      ]
    },
    {
      "cell_type": "code",
      "execution_count": null,
      "metadata": {
        "collapsed": false
      },
      "outputs": [],
      "source": [
        "import abipy.abilab as abilab\nimport abipy.data as abidata\n\n# Open the file (alternatively one can use the shell and `abiopen.py FILE -nb`\n# to open the file in a jupyter notebook\n# This file has been produced on a k-path so it's not suitable for DOS calculations.\nfbnc_kpath = abilab.abiopen(abidata.ref_file(\"ni_kpath_FATBANDS.nc\"))\n\n# NC files have contributions up to L = 4 (g channel)\n# but here we are intererested in s,p,d terms only so we use the optional argument lmax\nlmax = 2\n\n# Energy limits in eV for plots. The pseudo contains semi-core states but\n# we are not interested in this energy region. Fermi level set to zero.\nelims = [-10, 2]\n\n# Print file info (dimensions, variables ...)\n# Note that prtdos = 3, so LM decomposition is not available.\nprint(fbnc_kpath)\n\n# Plot the k-points belonging to the path.\n#fbnc_kpath.ebands.kpoints.plot()\n\n# Plot the electronic fatbands grouped by atomic type.\nfbnc_kpath.plot_fatbands_typeview(ylims=elims, lmax=lmax, tight_layout=True)\n\n# Plot the electronic fatbands grouped by L.\nfbnc_kpath.plot_fatbands_lview(ylims=elims, lmax=lmax, tight_layout=True)\n\n# Now we read another FATBANDS file produced on 18x18x18 k-mesh\nfbnc_kmesh = abilab.abiopen(abidata.ref_file(\"ni_666k_FATBANDS.nc\"))\n\n# Plot the L-PJDOS grouped by atomic type.\nfbnc_kmesh.plot_pjdos_typeview(xlims=elims, lmax=lmax, tight_layout=True)\n\n# Plot the L-PJDOS grouped by L.\nfbnc_kmesh.plot_pjdos_lview(xlims=elims, lmax=lmax, tight_layout=True)\n\n# Now we use the two netcdf files to produce plots with fatbands + PJDOSEs.\n# The data for the DOS is taken from pjdosfile.\nfbnc_kpath.plot_fatbands_with_pjdos(pjdosfile=fbnc_kmesh, ylims=elims,\n                                    lmax=lmax, view=\"type\", tight_layout=True)\n\n# fatbands + PJDOS grouped by L\nfbnc_kpath.plot_fatbands_with_pjdos(pjdosfile=fbnc_kmesh, ylims=elims,\n                                    lmax=lmax, view=\"lview\", tight_layout=True)\n\n# Close files.\nfbnc_kpath.close()\nfbnc_kmesh.close()"
      ]
    }
  ],
  "metadata": {
    "kernelspec": {
      "display_name": "Python 3",
      "language": "python",
      "name": "python3"
    },
    "language_info": {
      "codemirror_mode": {
        "name": "ipython",
        "version": 3
      },
      "file_extension": ".py",
      "mimetype": "text/x-python",
      "name": "python",
      "nbconvert_exporter": "python",
      "pygments_lexer": "ipython3",
      "version": "3.9.4"
    }
  },
  "nbformat": 4,
  "nbformat_minor": 0
}