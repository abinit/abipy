{
  "cells": [
    {
      "cell_type": "code",
      "execution_count": null,
      "metadata": {
        "collapsed": false
      },
      "outputs": [],
      "source": [
        "%matplotlib inline"
      ]
    },
    {
      "cell_type": "markdown",
      "metadata": {},
      "source": [
        "\n# Multiple e-DOSes\n\nThis example shows how to compute and plot multiple\nelectron DOSes obtained with different values of the gaussian broadening.\n"
      ]
    },
    {
      "cell_type": "code",
      "execution_count": null,
      "metadata": {
        "collapsed": false
      },
      "outputs": [],
      "source": [
        "import abipy.data as abidata\n\nfrom abipy import abilab\n\n# Open the wavefunction file computed with a homogeneous sampling of the BZ\n# and extract the band structure on the k-mesh.\nwith abilab.abiopen(abidata.ref_file(\"si_scf_WFK.nc\")) as gs_wfk:\n    gs_bands = gs_wfk.ebands\n\n# Compute the DOS with different values of the Gaussian smearing.\nwidths = [0.1, 0.2, 0.3]\n\nedos_plotter = gs_bands.compare_gauss_edos(widths, step=0.1)\n\n# Invoke ElectronDosPlotter methods to plot results.\nedos_plotter.combiplot(title=\"e-DOS as function of the Gaussian broadening\")\n\nedos_plotter.gridplot(title=\"gridplot version\")\n\nwith abilab.abiopen(abidata.ref_file(\"ni_666k_GSR.nc\")) as gsr:\n    ni_ebands_kmesh = gsr.ebands\n\nedos_plotter = ni_ebands_kmesh.compare_gauss_edos(widths=[0.1, 0.2, 0.3], step=0.2)\n\ntitle = \"e-DOS as function of the Gaussian broadening\"\nedos_plotter.combiplot(dos_mode=\"idos+dos\")\nedos_plotter.combiplot(dos_mode=\"dos\", spin_mode=\"resolved\")\n\nedos_plotter.gridplot(title=\"gridplot version\")\nedos_plotter.gridplot(spin_mode=\"resolved\")"
      ]
    }
  ],
  "metadata": {
    "kernelspec": {
      "display_name": "Python 3",
      "language": "python",
      "name": "python3"
    },
    "language_info": {
      "codemirror_mode": {
        "name": "ipython",
        "version": 3
      },
      "file_extension": ".py",
      "mimetype": "text/x-python",
      "name": "python",
      "nbconvert_exporter": "python",
      "pygments_lexer": "ipython3",
      "version": "3.9.4"
    }
  },
  "nbformat": 4,
  "nbformat_minor": 0
}