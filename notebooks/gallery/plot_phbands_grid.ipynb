{
  "cells": [
    {
      "cell_type": "code",
      "execution_count": null,
      "metadata": {
        "collapsed": false
      },
      "outputs": [],
      "source": [
        "%matplotlib inline"
      ]
    },
    {
      "cell_type": "markdown",
      "metadata": {},
      "source": [
        "\n# Multiple phonon bands\n\nThis example shows how to plot several phonon band structures on a grid.\n\nWe use two files produced by anaddb:\n\n    trf2_5.out_PHBST.nc: phonon frequencies on a q-path in the BZ (used to plot the band dispersion)\n    trf2_5.out_PHDOS.nc: phonon DOS compute with anaddb.\n\nSee also tutorial/lesson_rf2.html\n"
      ]
    },
    {
      "cell_type": "markdown",
      "metadata": {},
      "source": [
        "We start by defining a list with the paths to the PHBST.nc files\nIn this case, for simplicity, we use the same file but we must\nuse different labels when adding them to the plotter with the add_phbands method.\n\n"
      ]
    },
    {
      "cell_type": "code",
      "execution_count": null,
      "metadata": {
        "collapsed": false
      },
      "outputs": [],
      "source": [
        "from abipy import abilab\nimport abipy.data as abidata\n\nphbst_paths = 2 * [abidata.ref_file(\"trf2_5.out_PHBST.nc\")]\n\nplotter = abilab.PhononBandsPlotter()\nplotter.add_phbands(\"AlAs\", phbst_paths[0])\nplotter.add_phbands(\"Same AlAs\", phbst_paths[1])"
      ]
    },
    {
      "cell_type": "markdown",
      "metadata": {},
      "source": [
        "At this point, we can use the plotter methods to plot the data:\nTo produce a grid plot:\n\n"
      ]
    },
    {
      "cell_type": "code",
      "execution_count": null,
      "metadata": {
        "collapsed": false
      },
      "outputs": [],
      "source": [
        "plotter.gridplot(units=\"eV\", title=\"GridPlot in eV\")"
      ]
    },
    {
      "cell_type": "markdown",
      "metadata": {},
      "source": [
        "At this point, we can use the plotter methods to plot the data:\n\n"
      ]
    },
    {
      "cell_type": "code",
      "execution_count": null,
      "metadata": {
        "collapsed": false
      },
      "outputs": [],
      "source": [
        "plotter.boxplot(units=\"cm-1\", title=\"BoxPlot in cm-1\")\n\nplotter.combiboxplot(units=\"Ha\", title=\"CombiboxPlot in Ha\")\n\n#plotter.combiplot(title=\"CombiPlot in eV\")"
      ]
    },
    {
      "cell_type": "markdown",
      "metadata": {},
      "source": [
        "To plot a grid with band structures + DOS, use the optional argument `phdos` of add_phbands\nThe first subplot gets the band dispersion from phbst_paths[0] and the dos from phdos_paths[0]\n\n"
      ]
    },
    {
      "cell_type": "code",
      "execution_count": null,
      "metadata": {
        "collapsed": false
      },
      "outputs": [],
      "source": [
        "phbst_paths = 3 * [abidata.ref_file(\"trf2_5.out_PHBST.nc\")]\nphdos_paths = 3 * [abidata.ref_file(\"trf2_5.out_PHDOS.nc\")]\n\nplotter = abilab.PhononBandsPlotter()\nplotter.add_phbands(\"AlAs phbands + DOS\", phbst_paths[0], phdos=phdos_paths[0])\nplotter.add_phbands(\"Same-data\", phbst_paths[1], phdos=phdos_paths[1])\nplotter.add_phbands(\"Same-data2\", phbst_paths[2], phdos=phdos_paths[2])\n\nplotter.gridplot(units=\"cm-1\", tight_layout=True, title=\"Bands + DOS in cm-1 with gridplot\")\n\n#plotter.combiplot(title=\"Bands + DOS in eV with combiplot\")"
      ]
    }
  ],
  "metadata": {
    "kernelspec": {
      "display_name": "Python 3",
      "language": "python",
      "name": "python3"
    },
    "language_info": {
      "codemirror_mode": {
        "name": "ipython",
        "version": 3
      },
      "file_extension": ".py",
      "mimetype": "text/x-python",
      "name": "python",
      "nbconvert_exporter": "python",
      "pygments_lexer": "ipython3",
      "version": "3.9.4"
    }
  },
  "nbformat": 4,
  "nbformat_minor": 0
}