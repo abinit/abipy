{
  "cells": [
    {
      "cell_type": "code",
      "execution_count": null,
      "metadata": {
        "collapsed": false
      },
      "outputs": [],
      "source": [
        "%matplotlib inline"
      ]
    },
    {
      "cell_type": "markdown",
      "metadata": {},
      "source": [
        "\n# SCR matrix\n\nThis examples shows how to plot the matrix elements of the\ninverse dielectric function stored in the SCR file (optdriver 3)\nSee also `plot_scr.py` for the optical spectrum.\n"
      ]
    },
    {
      "cell_type": "code",
      "execution_count": null,
      "metadata": {
        "collapsed": false
      },
      "outputs": [],
      "source": [
        "import abipy.data as abidata\nfrom abipy.abilab import abiopen\n\nwith abiopen(abidata.ref_file(\"sio2_SCR.nc\")) as ncfile:\n    #print(ncfile)\n    # The SCR file contains a structure and electron bands in the IBZ.\n    # We can thus use the ebands object to plot bands + DOS.\n    #ncfile.ebands.plot()\n\n    # Read e^{-1}_{G1, G2}(k, omega)\n\n    kpoint = [0.5, 0, 0]\n    em1 = ncfile.reader.read_wggmat(kpoint)\n    print(em1)\n\n    gvec1 = [1, 0, 0]\n    gvec2 = [-1, 0, 0]\n\n    # Plot matrix element as function of frequency along the real axis\n    em1.plot_freq(gvec1=gvec1, gvec2=gvec2, waxis=\"real\")\n\n    # Plot data along the imaginary axis\n    # Note that gvectors can also be specifined in terms of their index.\n    em1.plot_freq(gvec1=0, gvec2=0, waxis=\"imag\")\n\n    # Plot e^{-1}_{G1, G2} along the imaginary axis.\n    em1.plot_gg(wpos=\"imag\")"
      ]
    }
  ],
  "metadata": {
    "kernelspec": {
      "display_name": "Python 3",
      "language": "python",
      "name": "python3"
    },
    "language_info": {
      "codemirror_mode": {
        "name": "ipython",
        "version": 3
      },
      "file_extension": ".py",
      "mimetype": "text/x-python",
      "name": "python",
      "nbconvert_exporter": "python",
      "pygments_lexer": "ipython3",
      "version": "3.8.0"
    }
  },
  "nbformat": 4,
  "nbformat_minor": 0
}