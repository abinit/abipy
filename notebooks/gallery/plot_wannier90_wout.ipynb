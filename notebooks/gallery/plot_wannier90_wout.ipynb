{
  "cells": [
    {
      "cell_type": "code",
      "execution_count": null,
      "metadata": {
        "collapsed": false
      },
      "outputs": [],
      "source": [
        "%matplotlib inline"
      ]
    },
    {
      "cell_type": "markdown",
      "metadata": {},
      "source": [
        "\n# Wannier90 wout file\n\nThis example shows how to plot the convergence\nof the wannierization cycle using the .wout file produced by wannier90.\nUse `abiopen FILE.wout` for a command line interface and\nthe `--expose` option to generate matplotlib figures automatically.\n"
      ]
    },
    {
      "cell_type": "code",
      "execution_count": null,
      "metadata": {
        "collapsed": false
      },
      "outputs": [],
      "source": [
        "import os\nimport abipy.data as abidata\n\nfrom abipy.abilab import abiopen\n\n# Open the wout file\nfilepath = os.path.join(abidata.dirpath, \"refs\", \"wannier90\", \"example01_gaas.wout\")\nwout = abiopen(filepath)\nprint(wout)\n\n# Plot the convergence of the Wannierise cycle.\nwout.plot(title=\"Wannierise cycle\")\n\n# Plot the convergence of the Wannier centers and spread\n# as function of iteration number\nwout.plot_centers_spread(title=\"MLWF centeres and spread\")"
      ]
    }
  ],
  "metadata": {
    "kernelspec": {
      "display_name": "Python 3",
      "language": "python",
      "name": "python3"
    },
    "language_info": {
      "codemirror_mode": {
        "name": "ipython",
        "version": 3
      },
      "file_extension": ".py",
      "mimetype": "text/x-python",
      "name": "python",
      "nbconvert_exporter": "python",
      "pygments_lexer": "ipython3",
      "version": "3.9.4"
    }
  },
  "nbformat": 4,
  "nbformat_minor": 0
}