{
  "cells": [
    {
      "cell_type": "code",
      "execution_count": null,
      "metadata": {
        "collapsed": false
      },
      "outputs": [],
      "source": [
        "%matplotlib inline"
      ]
    },
    {
      "cell_type": "markdown",
      "metadata": {},
      "source": [
        "\n# Electrons and Phonons from the materials project website\n\nThis example shows how to dowload the electronic band structure\nand the DDB file using the mp identifier and use the AbiPy API\nto generate a matplotlib grid with electrons + phonons.\n\nIMPORTANT: Electrons and Phonons have been obtained with different codes\nand different computational settings! Of course, one can always\ninitialize ElectronBands and PhononBands from local netcdf files\nobtained with Abinit\n"
      ]
    },
    {
      "cell_type": "code",
      "execution_count": null,
      "metadata": {
        "collapsed": false
      },
      "outputs": [],
      "source": [
        "from abipy import abilab\n\n# List of mp ids for Si, Diamond\nmpids = [\"mp-149\", \"mp-66\"]\n\n# Get list of AbiPy ebands from mpids\nebands_list = [abilab.ElectronBands.from_mpid(mpid) for mpid in mpids]\n\n# Get list of DDB files from the MP website and run anaddb to get the phonon bands.\nphbands_list = []\nfor i, mpid in enumerate(mpids):\n    print(\"Downloading DDB for mpid %s (%s) ...\" % (mpid, ebands_list[i].structure.formula))\n    ddb = abilab.DdbFile.from_mpid(mpid)\n    if ddb is None:\n        raise RuntimeError(\"%d does not provide DDB\" % mpid)\n    print(\"Invoking anaddb to compute phonon bands...\")\n    phbst, _ = ddb.anaget_phbst_and_phdos_files(nqsmall=0)\n    phbands_list.append(phbst.phbands)\n    phbst.close()\n    ddb.close()\n\n# The figure has [len(mpids), 2] subplots\n# The i-th row contains electrons and phonons for the i-th mp identifier.\nnrows, ncols = len(mpids), 2\nax_mat, fig, plt = abilab.get_axarray_fig_plt(None, nrows=nrows, ncols=ncols,\n                                              sharex=False, sharey=False, squeeze=False)\n\n# Use the `ax` keyword argument to select the matplotlib Axes used to plot the object.\n# In the band structure plot, we show the fundamental/direct gap as well as the possible\n# phonon-absorption (-emission) processes allowed by energy-conservation.\n# (This is a qualitative analysis of e-ph scattering, quasi-momentum and ph dispersion are not taken into account).\nfor i, (ebands, phbands) in enumerate(zip(ebands_list, phbands_list)):\n    ebands.plot(ax=ax_mat[i, 0], with_gaps=True, ylims=(-5, 10), max_phfreq=phbands.maxfreq, show=False)\n    phbands.plot(ax=ax_mat[i, 1], show=False)\n\n    # Hide xlabel if not last row.\n    if i != len(ebands_list) - 1:\n        for ax in ax_mat[i]:\n            ax.xaxis.label.set_visible(False)\n\nplt.show()"
      ]
    }
  ],
  "metadata": {
    "kernelspec": {
      "display_name": "Python 3",
      "language": "python",
      "name": "python3"
    },
    "language_info": {
      "codemirror_mode": {
        "name": "ipython",
        "version": 3
      },
      "file_extension": ".py",
      "mimetype": "text/x-python",
      "name": "python",
      "nbconvert_exporter": "python",
      "pygments_lexer": "ipython3",
      "version": "3.8.0"
    }
  },
  "nbformat": 4,
  "nbformat_minor": 0
}