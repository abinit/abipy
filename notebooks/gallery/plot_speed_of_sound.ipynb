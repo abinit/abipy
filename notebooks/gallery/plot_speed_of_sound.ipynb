{
  "cells": [
    {
      "cell_type": "code",
      "execution_count": null,
      "metadata": {
        "collapsed": false
      },
      "outputs": [],
      "source": [
        "%matplotlib inline"
      ]
    },
    {
      "cell_type": "markdown",
      "metadata": {},
      "source": [
        "\n# Speed of Sound\n\nThis example shows how to compute the speed of sound by fitting phonon frequencies\nalong selected directions by linear least-squares fit.\nFor a command line interface use:\n\n    abiview.py ddb_vs input_DDB\n"
      ]
    },
    {
      "cell_type": "code",
      "execution_count": null,
      "metadata": {
        "collapsed": false
      },
      "outputs": [],
      "source": [
        "from __future__ import print_function\n\nimport os\nimport abipy.data as abidata\n\nfrom abipy import abilab\nfrom abipy.dfpt.vsound import SoundVelocity\n\n# Initialize object from DDB file.\nddb_path = os.path.join(abidata.dirpath, \"refs\", \"si_sound_vel\", \"Si_DDB\")\nsv = SoundVelocity.from_ddb(ddb_path)\n\n# Get pandas dataframe with results.\ndf = sv.get_dataframe()\nabilab.print_dataframe(df)\n\n# Plot fit\nsv.plot()\nsv.plotly()"
      ]
    }
  ],
  "metadata": {
    "kernelspec": {
      "display_name": "Python 3",
      "language": "python",
      "name": "python3"
    },
    "language_info": {
      "codemirror_mode": {
        "name": "ipython",
        "version": 3
      },
      "file_extension": ".py",
      "mimetype": "text/x-python",
      "name": "python",
      "nbconvert_exporter": "python",
      "pygments_lexer": "ipython3",
      "version": "3.9.4"
    }
  },
  "nbformat": 4,
  "nbformat_minor": 0
}