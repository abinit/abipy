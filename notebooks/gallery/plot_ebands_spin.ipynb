{
  "cells": [
    {
      "cell_type": "code",
      "execution_count": null,
      "metadata": {
        "collapsed": false
      },
      "outputs": [],
      "source": [
        "%matplotlib inline"
      ]
    },
    {
      "cell_type": "markdown",
      "metadata": {},
      "source": [
        "\n# Spin-polarized e-bands\n\nThis example shows how to plot the band structure of nickel\nusing the eigenvalues stored in the GSR file produced at the end of the GS run.\n"
      ]
    },
    {
      "cell_type": "code",
      "execution_count": null,
      "metadata": {
        "collapsed": false
      },
      "outputs": [],
      "source": [
        "from abipy import abilab\nimport abipy.data as abidata\n\n# Open the GSR file and extract the band structure.\n# (alternatively one can use the shell and `abiopen.py OUT_GSR.nc -nb`\n# to open the file in a jupyter notebook.\nwith abilab.abiopen(abidata.ref_file(\"ni_666k_GSR.nc\")) as ncfile:\n    ni_ebands_kmesh = ncfile.ebands\n\nwith abilab.abiopen(abidata.ref_file(\"ni_kpath_GSR.nc\")) as ncfile:\n    ni_ebands_kpath = ncfile.ebands\n\n# Energy limits in eV for plots. The pseudo contains semi-core states but\n# we are not interested in this energy region. Fermi level set to zero.\nelims = [-10, 2]\n\n# Plot band energies on k-path\nni_ebands_kpath.plot(ylims=elims, title=\"Ni band structure\")\n\n# Compute DOS with Gaussian method.\nni_edos = ni_ebands_kmesh.get_edos()\n\n# Plot energies on k-path + DOS\nni_ebands_kpath.plot_with_edos(ni_edos, ylims=elims,\n                               title=\"Ni band structure + DOS\")\n\n# Plot electronic DOS.\n#ni_edos.plot_dos_idos(xlims=elims)\n#ni_edos.plot(xlims=elims)\n#ni_edos.plot_up_minus_down(xlims=elims)\n\n\n# Boxplot for 10 > band >= 5\nni_ebands_kpath.boxplot(brange=[5, 10],\n                        title=\"Boxplot for up and down spin and 10 > band >= 5\")\n\n\n# Use ElectronBandsPlotter to analyze multiple ElectronBands object\nplotter = abilab.ElectronBandsPlotter()\nplotter.add_ebands(\"k-mesh\", ni_ebands_kmesh)\nplotter.add_ebands(\"k-path\", ni_ebands_kpath)\n\nylims = [-10, 5]\n#plotter.combiplot(ylims=ylims)\nplotter.gridplot(ylims=ylims)\n#plotter.boxplot(brange=[5, 10])\nplotter.combiboxplot(brange=[5, 10])"
      ]
    }
  ],
  "metadata": {
    "kernelspec": {
      "display_name": "Python 3",
      "language": "python",
      "name": "python3"
    },
    "language_info": {
      "codemirror_mode": {
        "name": "ipython",
        "version": 3
      },
      "file_extension": ".py",
      "mimetype": "text/x-python",
      "name": "python",
      "nbconvert_exporter": "python",
      "pygments_lexer": "ipython3",
      "version": "3.9.4"
    }
  },
  "nbformat": 4,
  "nbformat_minor": 0
}