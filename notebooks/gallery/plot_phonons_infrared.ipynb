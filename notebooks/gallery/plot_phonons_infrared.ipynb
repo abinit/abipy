{
  "cells": [
    {
      "cell_type": "code",
      "execution_count": null,
      "metadata": {
        "collapsed": false
      },
      "outputs": [],
      "source": [
        "%matplotlib inline"
      ]
    },
    {
      "cell_type": "markdown",
      "metadata": {},
      "source": [
        "\n# Infrared spectrum of AlAs\n\nThis example shows how to plot the infrared spectrum of a polar semiconductor (AlAs)\nfrom the DDB file  See tutorial/lesson_rf2.html\n\nFor a command line interfase, use:\n\n    abiview.py ddb_ir in_DDB\n"
      ]
    },
    {
      "cell_type": "code",
      "execution_count": null,
      "metadata": {
        "collapsed": false
      },
      "outputs": [],
      "source": [
        "import os\nimport abipy.data as abidata\n\nfrom abipy import abilab\n\n# Open DDB file for alpha-SiO2 taken from https://materialsproject.org/materials/mp-7000/\nfilepath = os.path.join(abidata.dirpath, \"refs\", \"mp-7000_DDB.bz2\")\nddb = abilab.abiopen(filepath)\n\n# Invoke anaddb to compute dielectric tensor and oscillator strength.\ntgen = ddb.anaget_dielectric_tensor_generator(asr=2, chneut=1, dipdip=1, verbose=1)\nprint(tgen)\n\n# Set phonon damping factor in eV (full width).\ngamma_ev = 1e-3\n\n# Plot IR spectrum in Cartesian coordinates.\ntgen.plot_all(gamma_ev=gamma_ev, title=\"Diagonal and off-diagonal components\")\n\ntgen.plot(component=\"diag\", reim=\"re\", gamma_ev=gamma_ev, title=\"Real part, diagonal components\")\ntgen.plotly(component=\"diag\", reim=\"re\", gamma_ev=gamma_ev, title=\"Real part, diagonal components\")\n\ntgen.plot(component=\"diag\", reim=\"im\", gamma_ev=gamma_ev, title=\"Imaginary part, diagonal components\")\ntgen.plotly(component=\"diag\", reim=\"im\", gamma_ev=gamma_ev, title=\"Imaginary part, diagonal components\")\n\nddb.close()"
      ]
    }
  ],
  "metadata": {
    "kernelspec": {
      "display_name": "Python 3",
      "language": "python",
      "name": "python3"
    },
    "language_info": {
      "codemirror_mode": {
        "name": "ipython",
        "version": 3
      },
      "file_extension": ".py",
      "mimetype": "text/x-python",
      "name": "python",
      "nbconvert_exporter": "python",
      "pygments_lexer": "ipython3",
      "version": "3.8.0"
    }
  },
  "nbformat": 4,
  "nbformat_minor": 0
}