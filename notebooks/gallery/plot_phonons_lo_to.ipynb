{
  "cells": [
    {
      "cell_type": "code",
      "execution_count": null,
      "metadata": {
        "collapsed": false
      },
      "outputs": [],
      "source": [
        "%matplotlib inline"
      ]
    },
    {
      "cell_type": "markdown",
      "metadata": {},
      "source": [
        "\n# Phonon bands with LO-TO from PHBST.nc\n\nThis example shows how to plot the phonon band structure of AlAs\nincluding the LO-TO splitting.\nThese resultas tutorial/lesson_rf2.html\n"
      ]
    },
    {
      "cell_type": "markdown",
      "metadata": {},
      "source": [
        "Open PHBST file produced by anaddb and extract the phonon bands object.\n(alternatively one can use the shell and `abiopen.py OUT_PHBST.nc -nb`\nto open the file in a jupyter notebook.\n\n"
      ]
    },
    {
      "cell_type": "code",
      "execution_count": null,
      "metadata": {
        "collapsed": false
      },
      "outputs": [],
      "source": [
        "from abipy.abilab import abiopen\nimport abipy.data as abidata\n\nwith abiopen(abidata.ref_file(\"ZnSe_hex_886.out_PHBST.nc\")) as ncfile:\n    phbands = ncfile.phbands"
      ]
    },
    {
      "cell_type": "markdown",
      "metadata": {},
      "source": [
        "Phonon frequencies with non analytical contributions, if calculated, are saved\nin the anaddb.nc file produced by anaddb. The results should be fetched from there\nand added to the phonon bands.\nNotice that all the directions starting from or arriving at gamma that are used\nin the path should explicitely calculated, even if the values are the same.\n\n"
      ]
    },
    {
      "cell_type": "code",
      "execution_count": null,
      "metadata": {
        "collapsed": false
      },
      "outputs": [],
      "source": [
        "phbands.read_non_anal_from_file(abidata.ref_file(\"ZnSe_hex_886.anaddb.nc\"))"
      ]
    },
    {
      "cell_type": "markdown",
      "metadata": {},
      "source": [
        "Plot the phonon frequencies. Note that the labels for the q-points\nare found automatically by searching in an internal database.\n\n"
      ]
    },
    {
      "cell_type": "code",
      "execution_count": null,
      "metadata": {
        "collapsed": false
      },
      "outputs": [],
      "source": [
        "phbands.plot(title=\"ZnSe with LO-TO splitting\")"
      ]
    },
    {
      "cell_type": "markdown",
      "metadata": {},
      "source": [
        "For the plotly version, use:\n\n"
      ]
    },
    {
      "cell_type": "code",
      "execution_count": null,
      "metadata": {
        "collapsed": false
      },
      "outputs": [],
      "source": [
        "phbands.plotly(title=\"ZnSe with LO-TO splitting\")"
      ]
    }
  ],
  "metadata": {
    "kernelspec": {
      "display_name": "Python 3",
      "language": "python",
      "name": "python3"
    },
    "language_info": {
      "codemirror_mode": {
        "name": "ipython",
        "version": 3
      },
      "file_extension": ".py",
      "mimetype": "text/x-python",
      "name": "python",
      "nbconvert_exporter": "python",
      "pygments_lexer": "ipython3",
      "version": "3.8.0"
    }
  },
  "nbformat": 4,
  "nbformat_minor": 0
}