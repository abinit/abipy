{
  "cells": [
    {
      "cell_type": "code",
      "execution_count": null,
      "metadata": {
        "collapsed": false
      },
      "outputs": [],
      "source": [
        "%matplotlib inline"
      ]
    },
    {
      "cell_type": "markdown",
      "metadata": {},
      "source": [
        "\n# Interatomic Force Constants\n\nThis example shows how to plot the longitudinal part\nof the Interatomic Force Constants in real-space starting from a DDB file.\n\nSee e.g. <https://journals.aps.org/prb/pdf/10.1103/PhysRevB.50.13035>\n"
      ]
    },
    {
      "cell_type": "code",
      "execution_count": null,
      "metadata": {
        "collapsed": false
      },
      "outputs": [],
      "source": [
        "import os\nimport abipy.data as abidata\n\nfrom abipy import abilab\n\n# Open DDB file for AlAs\nfilepath = os.path.join(abidata.dirpath, \"refs\", \"alas_phonons\", \"trf2_3_DDB\")\nddb = abilab.abiopen(filepath)\n\n# Call anaddb to compute the Interatomic Force Constants\n# Default args are: asr=2, chneut=1, dipdip=1.\nifc = ddb.anaget_ifc()\n\n# Plot the total longitudinal IFCs in local coordinates, filtered according to the optional arguments.\nifc.plot_longitudinal_ifc(title=\"Total Longitudinal IFCs\")\n\n# Plots the short range longitudinal IFCs in local coordinates, filtered according to the optional arguments.\nifc.plot_longitudinal_ifc_short_range(title=\"Longitudinal SR-IFCs\")\n\n# Plots the Ewald part of the IFCs in local coordinates, filtered according to the optional arguments.\nifc.plot_longitudinal_ifc_ewald(title=\"Longitudinal LR-IFCs\")\n\nddb.close()"
      ]
    }
  ],
  "metadata": {
    "kernelspec": {
      "display_name": "Python 3",
      "language": "python",
      "name": "python3"
    },
    "language_info": {
      "codemirror_mode": {
        "name": "ipython",
        "version": 3
      },
      "file_extension": ".py",
      "mimetype": "text/x-python",
      "name": "python",
      "nbconvert_exporter": "python",
      "pygments_lexer": "ipython3",
      "version": "3.8.0"
    }
  },
  "nbformat": 4,
  "nbformat_minor": 0
}