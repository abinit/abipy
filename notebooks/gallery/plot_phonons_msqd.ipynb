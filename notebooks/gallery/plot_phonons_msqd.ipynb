{
  "cells": [
    {
      "cell_type": "code",
      "execution_count": null,
      "metadata": {
        "collapsed": false
      },
      "outputs": [],
      "source": [
        "%matplotlib inline"
      ]
    },
    {
      "cell_type": "markdown",
      "metadata": {},
      "source": [
        "\n# Debye-Waller and generalized phonon DOS\n\nThis example shows how to plot the generalized phonon DOS with the mean square\ndisplacement tensor in cartesian coords and how to calculate Debye Waller factors\nas a function of temperature.\n\nSee :cite:`Lee1995` for the further details about the internal implementation and\n:cite:`Trueblood1996` for the different conventions used by crystallographers.\n"
      ]
    },
    {
      "cell_type": "code",
      "execution_count": null,
      "metadata": {
        "collapsed": false
      },
      "outputs": [],
      "source": [
        "import os\nimport abipy.data as abidata\n\nfrom abipy import abilab\n\n# Open DDB file for alpha-SiO2 taken from https://materialsproject.org/materials/mp-7000/\nfilepath = os.path.join(abidata.dirpath, \"refs\", \"mp-7000_DDB.bz2\")\nddb = abilab.abiopen(filepath)\n\n# Invoke anaddb to compute phonon bands and dos.\n#dos_method = \"gaussian\"\ndos_method = \"tetra\"\nphbst_file, phdos_file = ddb.anaget_phbst_and_phdos_files(nqsmall=4, dos_method=dos_method, ndivsm=1, mpi_procs=2)\n\n# Extract msqd_dos\nmsqd_dos = phdos_file.msqd_dos\n#print(msqd_dos)\n\n#for fmt in (\"cartesian\", \"cif\", \"ustar\", \"beta\", \"B\"):\nfor fmt in (\"cartesian\", \"cif\"):\n    df = msqd_dos.get_dataframe(temp=300, view=\"all\", fmt=fmt)\n    abilab.print_dataframe(df, title=\"Format: %s\" % fmt)\n\n# Plot generalized phonon DOS for each inequivalent atom in the unit cell.\nmsqd_dos.plot()\n\n# Plot tensor(T) for each inequivalent atom.\nmsqd_dos.plot_tensor()\n\nmsqd_dos.plot_uiso()\n\n# To save the structure and the U tensor at T=300K in CIF format, use:\n#msqd_dos.write_cif_file(\"DW.cif\", temp=300)\n\n# To visualize the thermal ellipsoids with Vesta, use:\n#msqd_dos.vesta_open(temp=300)\n\n# Remember to close the files.\nphbst_file.close()\nphdos_file.close()\nddb.close()"
      ]
    }
  ],
  "metadata": {
    "kernelspec": {
      "display_name": "Python 3",
      "language": "python",
      "name": "python3"
    },
    "language_info": {
      "codemirror_mode": {
        "name": "ipython",
        "version": 3
      },
      "file_extension": ".py",
      "mimetype": "text/x-python",
      "name": "python",
      "nbconvert_exporter": "python",
      "pygments_lexer": "ipython3",
      "version": "3.9.4"
    }
  },
  "nbformat": 4,
  "nbformat_minor": 0
}