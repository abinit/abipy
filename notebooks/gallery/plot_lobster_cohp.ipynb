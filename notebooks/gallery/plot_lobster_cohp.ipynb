{
  "cells": [
    {
      "cell_type": "code",
      "execution_count": null,
      "metadata": {
        "collapsed": false
      },
      "outputs": [],
      "source": [
        "%matplotlib inline"
      ]
    },
    {
      "cell_type": "markdown",
      "metadata": {},
      "source": [
        "\n# Lobster COHPCAR\n\nThis example shows how to analyze the COHPCAR file\nproduced by Lobster code <http://schmeling.ac.rwth-aachen.de/cohp/>\n\nUse `abiopen.py FILE` with --expose or --print for a command line interface\nand --notebook to generate a jupyter notebook.\n"
      ]
    },
    {
      "cell_type": "code",
      "execution_count": null,
      "metadata": {
        "collapsed": false
      },
      "outputs": [],
      "source": [
        "import os\nimport abipy.data as abidata\n\nfrom abipy.abilab import abiopen\n\ndirpath = os.path.join(abidata.dirpath, \"refs\", \"lobster_gaas\")\nfilename = os.path.join(dirpath, \"GaAs_COHPCAR.lobster.gz\")\n\n# Open the COHPCAR.lobster file (same API for COOPCAR.lobster)\ncohp_file = abiopen(filename)\nprint(cohp_file)\n\n# Plot COHP.\ncohp_file.plot(title=\"GaAs COHP\")\n\n# Plot integrated COHP.\ncohp_file.plot(what=\"i\", title=\"GaAs integrated COHP\")\n\n# Plot total overlap for all sites listed in `from_site_index`\ncohp_file.plot_site_pairs_total(from_site_index=[0], title=\"COHP total overlap for site index 0\")\n\n# Plot partial crystal orbital projections for all sites listed in `from_site_index`\ncohp_file.plot_site_pairs_partial(from_site_index=[0], title=\"COHP with orbital projections from site index 0\")"
      ]
    }
  ],
  "metadata": {
    "kernelspec": {
      "display_name": "Python 3",
      "language": "python",
      "name": "python3"
    },
    "language_info": {
      "codemirror_mode": {
        "name": "ipython",
        "version": 3
      },
      "file_extension": ".py",
      "mimetype": "text/x-python",
      "name": "python",
      "nbconvert_exporter": "python",
      "pygments_lexer": "ipython3",
      "version": "3.8.0"
    }
  },
  "nbformat": 4,
  "nbformat_minor": 0
}