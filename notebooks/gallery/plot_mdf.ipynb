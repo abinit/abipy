{
  "cells": [
    {
      "cell_type": "code",
      "execution_count": null,
      "metadata": {
        "collapsed": false
      },
      "outputs": [],
      "source": [
        "%matplotlib inline"
      ]
    },
    {
      "cell_type": "markdown",
      "metadata": {},
      "source": [
        "\n# Bethe-Salpeter\n\nThis example shows how to plot the macroscopic dielectric function (MDF)\ncomputed in the Bethe-Salpeter code.\n"
      ]
    },
    {
      "cell_type": "code",
      "execution_count": null,
      "metadata": {
        "collapsed": false
      },
      "outputs": [],
      "source": [
        "import abipy.data as abidata\nfrom abipy.abilab import abiopen\n\n# Open the MDF file produced in the tutorial.\nmdf_file = abiopen(abidata.ref_file(\"tbs_4o_DS2_MDF.nc\"))\n\n# Plot the imaginary part of the macroscopic\n# dielectric function (EXC, RPA, GWRPA) between 2 and 5 eV.\nxlims = (2, 5)\n\nmdf_file.plot_mdfs(xlims=xlims,\n                   title=\"Si absorption spectrum: EXC vs RPA (averaged over small q-points)\")\n\n# Plot the real part for the first q-point --> 0\nmdf_file.plot_mdfs(cplx_mode=\"Re\", qpoint=0, xlims=xlims,\n                   title=\"Real part for the first q-point: EXC vs RPA\")\n\n# Plot the 6 different components of the macroscopic dielectric tensor\ntensor_exc = mdf_file.get_tensor(\"exc\")\ntensor_exc.symmetrize(mdf_file.structure)\ntensor_exc.plot(title=\"Si macroscopic dielectric tensor (Reduced coord)\")\n\ntensor_exc.plot(red_coords=False,\n                title=\"Si macroscopic dielectric tensor (Cartesian coord)\")\n\nmdf_file.close()"
      ]
    }
  ],
  "metadata": {
    "kernelspec": {
      "display_name": "Python 3",
      "language": "python",
      "name": "python3"
    },
    "language_info": {
      "codemirror_mode": {
        "name": "ipython",
        "version": 3
      },
      "file_extension": ".py",
      "mimetype": "text/x-python",
      "name": "python",
      "nbconvert_exporter": "python",
      "pygments_lexer": "ipython3",
      "version": "3.9.4"
    }
  },
  "nbformat": 4,
  "nbformat_minor": 0
}