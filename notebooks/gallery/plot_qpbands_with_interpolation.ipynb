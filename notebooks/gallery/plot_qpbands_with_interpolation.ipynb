{
  "cells": [
    {
      "cell_type": "code",
      "execution_count": null,
      "metadata": {
        "collapsed": false
      },
      "outputs": [],
      "source": [
        "%matplotlib inline"
      ]
    },
    {
      "cell_type": "markdown",
      "metadata": {},
      "source": [
        "\n# GW corrections\n\nThis example shows how to interpolate the GW corrections and use the interpolated\nvalues to correct the KS band structure computed on a high symmetry k-path and\nthe KS energies of a k-mesh. Finally, the KS and the GW results are plotted with matplotlib.\n"
      ]
    },
    {
      "cell_type": "code",
      "execution_count": null,
      "metadata": {
        "collapsed": false
      },
      "outputs": [],
      "source": [
        "import abipy.data as abidata\nfrom abipy.abilab import abiopen, ElectronBandsPlotter\n\n# Get quasiparticle results from the SIGRES.nc database.\nsigres = abiopen(abidata.ref_file(\"si_g0w0ppm_nband30_SIGRES.nc\"))\n\n# Read the KS band energies computed on the k-path\nwith abiopen(abidata.ref_file(\"si_nscf_GSR.nc\")) as gsr_nscf:\n    ks_ebands_kpath = gsr_nscf.ebands\n\n# Read the KS band energies computed on the Monkhorst-Pack (MP) mesh\n# and compute the DOS with the Gaussian method\nwith abiopen(abidata.ref_file(\"si_scf_GSR.nc\")) as gsr_scf:\n    ks_ebands_kmesh = gsr_scf.ebands\n\nks_edos = ks_ebands_kmesh.get_edos()\n\n# Interpolate the QP corrections and use the interpolated values to correct\n# the KS energies stored in `ks_ebands_kpath` and `ks_ebands_kmesh`.\n#\n# The QP energies are returned in r.qp_ebands_kpath and r.qp_ebands_kmesh.\n# Note that the KS energies are optional but this is the recommended approach\n# because the code will interpolate the corrections instead of the QP energies.\n\nr = sigres.interpolate(lpratio=5,\n                       ks_ebands_kpath=ks_ebands_kpath,\n                       ks_ebands_kmesh=ks_ebands_kmesh\n                       )\nqp_edos = r.qp_ebands_kmesh.get_edos()\n\n# Get points with ab-initio QP energies from the SIGRES so that\n# we can plot the interpolate interpolated QP band structure with the first principles results.\n# This part is optional\npoints = sigres.get_points_from_ebands(r.qp_ebands_kpath, size=24)\nr.qp_ebands_kpath.plot(points=points, with_gaps=True)\n#raise ValueError()\n\n# Shortcut: pass the name of the GSR files directly.\n#r = sigres.interpolate(ks_ebands_kpath=abidata.ref_file(\"si_nscf_GSR.nc\"),\n#                       ks_ebands_kmesh=abidata.ref_file(\"si_scf_GSR.nc\"))\n#ks_edos = r.ks_ebands_kmesh.get_edos()\n#qp_edos = r.qp_ebands_kmesh.get_edos()\n\n# Use ElectronBandsPlotter to plot the KS and the QP band structure with matplotlib.\nplotter = ElectronBandsPlotter()\nplotter.add_ebands(\"LDA\", ks_ebands_kpath, edos=ks_edos)\nplotter.add_ebands(\"GW (interpolated)\", r.qp_ebands_kpath, edos=qp_edos)\n\n# Get pandas dataframe with band structure parameters.\n#df = plotter.get_ebands_frame()\n#print(df)\n\n# By default, the two band energies are shifted wrt to *their* fermi level.\n# Use e=0 if you don't want to shift the eigenvalus\n# so that it's possible to visualize the QP corrections.\nplotter.combiplot(title=\"Combiplot\")\nplotter.boxplot(swarm=True, title=\"Boxplot\")\nplotter.combiboxplot(swarm=True, title=\"Combiboxplot\")\n# sphinx_gallery_thumbnail_number = 4\nplotter.gridplot(title=\"Gridplot\", with_gaps=True)\n\nsigres.close()"
      ]
    }
  ],
  "metadata": {
    "kernelspec": {
      "display_name": "Python 3",
      "language": "python",
      "name": "python3"
    },
    "language_info": {
      "codemirror_mode": {
        "name": "ipython",
        "version": 3
      },
      "file_extension": ".py",
      "mimetype": "text/x-python",
      "name": "python",
      "nbconvert_exporter": "python",
      "pygments_lexer": "ipython3",
      "version": "3.9.4"
    }
  },
  "nbformat": 4,
  "nbformat_minor": 0
}