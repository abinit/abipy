{
  "cells": [
    {
      "cell_type": "code",
      "execution_count": null,
      "metadata": {
        "collapsed": false
      },
      "outputs": [],
      "source": [
        "%matplotlib inline"
      ]
    },
    {
      "cell_type": "markdown",
      "metadata": {},
      "source": [
        "\n# Lobster COHP/COP/DOS\n\nThis example shows how to analyze the output files\nproduced by Lobster code <<http://schmeling.ac.rwth-aachen.de/cohp/>\n\nUse `abiview.py lobster DIRPATH` for a command line interface.\n"
      ]
    },
    {
      "cell_type": "code",
      "execution_count": null,
      "metadata": {
        "collapsed": false
      },
      "outputs": [],
      "source": [
        "import os\nimport abipy.data as abidata\n\nfrom abipy.abilab import LobsterAnalyzer\n\ndirpath = os.path.join(abidata.dirpath, \"refs\", \"lobster_gaas\")\n\n# Open the all the lobster files produced in directory dirpath\n# with the (optional) prefix GaAs_\nlobana = LobsterAnalyzer.from_dir(dirpath, prefix=\"GaAs_\")\nprint(lobana)\n\n# Plot COOP + COHP + DOS.\nlobana.plot(title=\"COOP + COHP + DOS\")\n\n# Plot COHP for all sites in from_site_index and Lobster DOS.\nlobana.plot_coxp_with_dos(from_site_index=[0, 1])\n\n# Plot orbital projections.\nlobana.plot_coxp_with_dos(from_site_index=[0], with_orbitals=True)\n\n#lobana.plot_with_ebands(ebands=\"out_GSR.nc\")"
      ]
    }
  ],
  "metadata": {
    "kernelspec": {
      "display_name": "Python 3",
      "language": "python",
      "name": "python3"
    },
    "language_info": {
      "codemirror_mode": {
        "name": "ipython",
        "version": 3
      },
      "file_extension": ".py",
      "mimetype": "text/x-python",
      "name": "python",
      "nbconvert_exporter": "python",
      "pygments_lexer": "ipython3",
      "version": "3.9.4"
    }
  },
  "nbformat": 4,
  "nbformat_minor": 0
}