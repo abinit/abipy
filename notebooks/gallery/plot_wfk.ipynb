{
  "cells": [
    {
      "cell_type": "code",
      "execution_count": null,
      "metadata": {
        "collapsed": false
      },
      "outputs": [],
      "source": [
        "%matplotlib inline"
      ]
    },
    {
      "cell_type": "markdown",
      "metadata": {},
      "source": [
        "\n# Wavefunction file\n\nThis example shows how to analyze the wavefunctions\nstored in the WFK.nc file.\n"
      ]
    },
    {
      "cell_type": "code",
      "execution_count": null,
      "metadata": {
        "collapsed": false
      },
      "outputs": [],
      "source": [
        "from abipy.abilab import abiopen\nimport abipy.data as abidata\n\n# Open the DEN.nc file\nncfile = abiopen(abidata.ref_file(\"si_nscf_WFK.nc\"))\nprint(ncfile)\n\n# The DEN file has a `Structure` an `ElectronBands` object and wavefunctions.\n#print(ncfile.structure)\n\n# To plot the KS eigenvalues.\n#ncfile.ebands.plot()\n\n# Extract the wavefunction for the first spin, the first band and k=[0.5, 0, 0]\nwave = ncfile.get_wave(spin=0, kpoint=[0.5, 0, 0], band=0)\nprint(wave)\n\n# This is equivalent to\n#wave = ncfile.get_wave(spin=0, kpoint=0, band=0)\n# because [0.5, 0, 0] is the first k-point in the WFK file\n\n# To visualize the total charge wih vesta\n#visu = wave.visualize_ur2(\"vesta\"); visu()\n\n# To plot the wavefunction along the line connecting\n# the first and the second in the structure:\n#wave.plot_line(point1=0, point2=1)\n\n#wave.plot_line(point1=0, point2=1, with_krphase=True)\n\n# alternatively, one can define the line in terms of two points\n# in fractional coordinates:\nwave.plot_line(point1=[0, 0, 0], point2=[0, 4, 0], with_krphase=False, num=400)\nwave.plot_line(point1=[0, 0, 0], point2=[0, 4, 0], with_krphase=True, num=400)\n\n# To plot the wavefunction along the lines connect the firt atom in the structure\n# and all the neighbors within a sphere of radius 3 Angstrom:\n#wave.plot_line_neighbors(site_index=0, radius=3)\n\nncfile.close()"
      ]
    }
  ],
  "metadata": {
    "kernelspec": {
      "display_name": "Python 3",
      "language": "python",
      "name": "python3"
    },
    "language_info": {
      "codemirror_mode": {
        "name": "ipython",
        "version": 3
      },
      "file_extension": ".py",
      "mimetype": "text/x-python",
      "name": "python",
      "nbconvert_exporter": "python",
      "pygments_lexer": "ipython3",
      "version": "3.8.0"
    }
  },
  "nbformat": 4,
  "nbformat_minor": 0
}