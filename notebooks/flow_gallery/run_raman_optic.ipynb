{
  "cells": [
    {
      "cell_type": "code",
      "execution_count": null,
      "metadata": {
        "collapsed": false
      },
      "outputs": [],
      "source": [
        "%matplotlib inline"
      ]
    },
    {
      "cell_type": "markdown",
      "metadata": {},
      "source": [
        "\n# Raman Flow with independent-particle approximation (optic)\n\nThis script shows how to perform a Raman calculation with excitonic effects\nincluded with the BSE formalism.\n"
      ]
    },
    {
      "cell_type": "code",
      "execution_count": null,
      "metadata": {
        "collapsed": false
      },
      "outputs": [],
      "source": [
        "import sys\nimport os\nimport numpy as np\n\nimport abipy.abilab as abilab\nimport abipy.data as abidata\nimport abipy.flowtk as flowtk\n\n\ndef build_flow(options):\n    # Get the unperturbed structure.\n    pseudos = abidata.pseudos(\"14si.pspnc\")\n    base_structure = abidata.structure_from_ucell(\"Si\")\n\n    ngkpt = [6, 6, 6]\n\n    etas = [-.001, 0, +.001]\n    ph_displ = np.reshape(np.zeros(3*len(base_structure)), (-1,3))\n    ph_displ[0,:] = [+1, 0, 0]\n    ph_displ[1,:] = [-1, 0, 0]\n\n    # Build new structures by displacing atoms according to the phonon displacement\n    # ph_displ (in cartesian coordinates). The Displacement is normalized so that\n    # the maximum atomic diplacement is 1 Angstrom and then multiplied by eta.\n    modifier = abilab.StructureModifier(base_structure)\n\n    displaced_structures = modifier.displace(ph_displ, etas, frac_coords=False)\n\n    # Initialize flow. Each workflow in the flow defines a complete BSE calculation for given eta.\n    if not options.workdir:\n        options.workdir = os.path.basename(sys.argv[0]).replace(\".py\", \"\").replace(\"run_\", \"flow_\")\n\n    flow = flowtk.Flow(options.workdir, manager=options.manager)\n\n    # Generate the different shifts to average\n    ndiv = 1\n    shift1D = np.arange(1, 2*ndiv+1, 2) / (2 * ndiv)\n    all_shifts = [[x, y, z] for x in shift1D for y in shift1D for z in shift1D]\n\n    for structure, eta in zip(displaced_structures, etas):\n        for ishift,shift in enumerate(all_shifts):\n            flow.register_work(raman_work(structure, pseudos, ngkpt, shift),\n                               workdir=\"eta_\" + str(eta) + \"shift_\" + str(ishift))\n\n    return flow\n\n\ndef raman_work(structure, pseudos, ngkpt, shiftk):\n    # Generate 3 different input files for computing optical properties with Optic.\n\n    global_vars = dict(\n        istwfk=\"*1\",\n        paral_kgb=0,\n        ecut=8,\n        nstep=200,\n        diemac=12,\n        ixc=7,\n        chksymbreak=0,\n        #accesswff=3\n    )\n\n    multi = abilab.MultiDataset(structure, pseudos=pseudos, ndtset=5)\n    multi.set_vars(global_vars)\n    multi.set_kmesh(ngkpt=ngkpt, shiftk=shiftk)\n\n    # GS run\n    multi[0].set_vars(\n        tolvrs=1e-8,\n        nband=20,\n        nbdbuf=2,\n    )\n\n    # Note kptopt 2 in NSCF and DDK\n    # In principle kptopt 2 is needed only in DDK.\n    # one could do a first NSCF run with kptopt 1, reread with kptopt 2 and enter DDK...\n\n    # NSCF run\n    multi[1].set_vars(\n       iscf=-2,\n       nband=40,\n       nbdbuf=5,\n       kptopt=2,\n       tolwfr=1.e-12,\n    )\n\n    # DDK along 3 directions\n    # Third dataset : ddk response function along axis 1\n    # Fourth dataset : ddk response function along axis 2\n    # Fifth dataset : ddk response function along axis 3\n    for idir in range(3):\n        rfdir = 3 * [0]\n        rfdir[idir] = 1\n\n        multi[2 + idir].set_vars(\n           iscf=-3,\n           nband=40,\n           nbdbuf=5,\n           nstep=1,\n           nline=0,\n           prtwf=3,\n           kptopt=2,\n           nqpt=1,\n           qpt=[0.0, 0.0, 0.0],\n           rfdir=rfdir,\n           rfelfd=2,\n           tolwfr=1.e-12,\n        )\n\n    scf_inp, nscf_inp, ddk1, ddk2, ddk3 = multi.split_datasets()\n    ddk_inputs = [ddk1, ddk2, ddk3]\n\n    work = flowtk.Work()\n    scf_t = work.register_scf_task(scf_inp)\n    nscf_t = work.register_nscf_task(nscf_inp, deps={scf_t: \"DEN\"})\n\n    ddk_nodes = []\n    for inp in ddk_inputs:\n        ddk_t = work.register_ddk_task(inp, deps={nscf_t: \"WFK\"})\n        ddk_nodes.append(ddk_t)\n\n    optic_input = abilab.OpticInput(\n        broadening=0.002,     # Value of the smearing factor, in Hartree\n        domega=0.0003,        # Frequency mesh.\n        maxomega=0.3,\n        scissor=0.000,        # Scissor shift if needed, in Hartree\n        tolerance=0.002,      # Tolerance on closeness of singularities (in Hartree)\n        num_lin_comp=6,       # Number of components of linear optic tensor to be computed\n        lin_comp=(11, 12, 13, 22, 23, 33), # Linear coefficients to be computed (x=1, y=2, z=3)\n        num_nonlin_comp=0     # Number of components of nonlinear optic tensor to be computed\n        #nonlin_comp=(123, 222),\n    )\n\n    optic_t = flowtk.OpticTask(optic_input, nscf_node=nscf_t, ddk_nodes=ddk_nodes)\n    work.register(optic_t)\n\n    return work\n\n\n# This block generates the thumbnails in the AbiPy gallery.\n# You can safely REMOVE this part if you are using this script for production runs.\nif os.getenv(\"READTHEDOCS\", False):\n    __name__ = None\n    import tempfile\n    options = flowtk.build_flow_main_parser().parse_args([\"-w\", tempfile.mkdtemp()])\n    build_flow(options).graphviz_imshow()\n\n\n@flowtk.flow_main\ndef main(options):\n    \"\"\"\n    This is our main function that will be invoked by the script.\n    flow_main is a decorator implementing the command line interface.\n    Command line args are stored in `options`.\n    \"\"\"\n    return build_flow(options)\n\n\nif __name__ == \"__main__\":\n    sys.exit(main())"
      ]
    }
  ],
  "metadata": {
    "kernelspec": {
      "display_name": "Python 3",
      "language": "python",
      "name": "python3"
    },
    "language_info": {
      "codemirror_mode": {
        "name": "ipython",
        "version": 3
      },
      "file_extension": ".py",
      "mimetype": "text/x-python",
      "name": "python",
      "nbconvert_exporter": "python",
      "pygments_lexer": "ipython3",
      "version": "3.8.0"
    }
  },
  "nbformat": 4,
  "nbformat_minor": 0
}