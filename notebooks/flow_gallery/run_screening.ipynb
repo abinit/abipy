{
  "cells": [
    {
      "cell_type": "code",
      "execution_count": null,
      "metadata": {
        "collapsed": false
      },
      "outputs": [],
      "source": [
        "%matplotlib inline"
      ]
    },
    {
      "cell_type": "markdown",
      "metadata": {},
      "source": [
        "\n# Screening computation with different parameters\n\nThis examples shows how to compute the SCR file with different number of bands\nand different values of ecuteps in order to prepare further GW convergence studies.\nEach screening calculation is automatically parallelized over q-points and the\npartial SCR files are then merged with the mrgscr utility.\n"
      ]
    },
    {
      "cell_type": "code",
      "execution_count": null,
      "metadata": {
        "collapsed": false
      },
      "outputs": [],
      "source": [
        "import sys\nimport os\nimport numpy as np\n\nimport abipy.abilab as abilab\nimport abipy.data as abidata\nimport abipy.flowtk as flowtk\n\n\ndef build_flow(options):\n\n    # Working directory (default is the name of the script with '.py' removed and \"run_\" replaced by \"flow_\")\n    if not options.workdir:\n        options.workdir = os.path.basename(sys.argv[0]).replace(\".py\", \"\").replace(\"run_\", \"flow_\")\n\n\n    # Initialize structure from string and a minimalistic variables:\n    # natom, acell, rprimd and xred_symbols.\n\n    structure = abilab.Structure.from_abistring(\"\"\"\nnatom 2\nacell  3*10.26         # Experimental lattice constants\nrprim  0.0  0.5  0.5   # FCC primitive vectors (to be scaled by acell)\n       0.5  0.0  0.5\n       0.5  0.5  0.0\n\nxred_symbols\n      0.0  0.0  0.0  Si\n      0.25 0.25 0.25 Si\n\"\"\")\n\n    # Build the SCF input.\n    scf_inp = abilab.AbinitInput(structure=structure, pseudos=abidata.pseudos(\"14si.pspnc\"))\n\n    #nscf_nband_list = np.arange(2, 8, 2)\n    nscf_nband_list = [25]\n    max_nscf_nband = max(nscf_nband_list)\n\n    #ecuteps_list = np.arange(2, 8, 2)\n    ecuteps_list = [2]\n    max_ecuteps = max(ecuteps_list)\n\n    print(\"Number of valence electrons in the unit cell:\", scf_inp.num_valence_electrons)\n\n    scf_inp.set_vars(\n        ecut=4,\n        nband=8,\n        ngkpt=[4, 4, 4],\n        shiftk=[0, 0, 0],\n        tolvrs=1e-8,\n        timopt=-1,   # TODO: Add abirun.py option to extract timing data.\n        #paral_kgb=1,\n        #iomode=3,\n    )\n\n    #ebands_inp = scf_inp.make_ebands_input(ndivsm=15)\n\n    # Build NSCF input on a k-mesh including empty states.\n    nscf_inp = scf_inp.new_with_vars(\n        nband=max_nscf_nband,\n        #nbdbuf=10\n        tolwfr=1e-20,   # Too high. Should be ~1e-20\n        iscf=-2\n    )\n\n    flow = flowtk.Flow(workdir=options.workdir, manager=options.manager)\n\n    # Band structure work to produce the WFK file with a NSCF run + empty states.\n    bands_work = flowtk.BandStructureWork(scf_inp, nscf_inp) # dos_inputs=[nscf_inp])\n    flow.register_work(bands_work)\n\n    for ecuteps in ecuteps_list:\n        for nscf_nband in nscf_nband_list:\n\n            scr_inp = nscf_inp.new_with_vars(\n                optdriver=3,\n                ecuteps=ecuteps,\n                nband=nscf_nband,\n            )\n\n            # Compute SCR file by splitting all the q-points.\n            scr_work = flowtk.ScreeningWork.from_nscf_task(bands_work.nscf_task, scr_inp)\n\n            # IMPORTANT:\n            #   If you alredy have a WFK file and you want to skip the SCF + NSCF part\n            #    build the scr_work using `from_wkf_filepath` instead of `from_nscf_task` e.g.:\n\n            #scr_work = ScreeningWork.from_wfk_file(wfk_filepath, scr_inp)\n\n            flow.register_work(scr_work)\n\n            # This part is optional:\n            #     1) set_readme sets the string that will be used to generate a human readable README.md file\n            #     2) set_abipy_meta_json can be used to defined metadata that will be written to abipy_meta.json.\n            scr_work.set_readme(f\"SCR computation with ecuteps={ecuteps} and nband={nscf_nband}\")\n            scr_work.set_abipy_meta_json(dict(ecuteps=ecuteps, nband=nscf_nband))\n\n    return flow\n\n\n# This block generates the thumbnails in the AbiPy gallery.\n# You can safely REMOVE this part if you are using this script for production runs.\nif os.getenv(\"READTHEDOCS\", False):\n    __name__ = None\n    import tempfile\n    options = flowtk.build_flow_main_parser().parse_args([\"-w\", tempfile.mkdtemp()])\n    build_flow(options).graphviz_imshow()\n\n\n@flowtk.flow_main\ndef main(options):\n    \"\"\"\n    This is our main function that will be invoked by the script.\n    flow_main is a decorator implementing the command line interface.\n    Command line args are stored in `options`.\n    \"\"\"\n    return build_flow(options)\n\n\nif __name__ == \"__main__\":\n    sys.exit(main())"
      ]
    }
  ],
  "metadata": {
    "kernelspec": {
      "display_name": "Python 3",
      "language": "python",
      "name": "python3"
    },
    "language_info": {
      "codemirror_mode": {
        "name": "ipython",
        "version": 3
      },
      "file_extension": ".py",
      "mimetype": "text/x-python",
      "name": "python",
      "nbconvert_exporter": "python",
      "pygments_lexer": "ipython3",
      "version": "3.8.0"
    }
  },
  "nbformat": 4,
  "nbformat_minor": 0
}