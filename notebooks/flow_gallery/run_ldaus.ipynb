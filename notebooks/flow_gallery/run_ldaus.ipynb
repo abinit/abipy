{
  "cells": [
    {
      "cell_type": "code",
      "execution_count": null,
      "metadata": {
        "collapsed": false
      },
      "outputs": [],
      "source": [
        "%matplotlib inline"
      ]
    },
    {
      "cell_type": "markdown",
      "metadata": {},
      "source": [
        "\n# Flow for LDA+U calculations\n\nThis example shows how to compute the LDA+U band structure of NiO\nwith PAW for several values of U-J.\n"
      ]
    },
    {
      "cell_type": "code",
      "execution_count": null,
      "metadata": {
        "collapsed": false
      },
      "outputs": [],
      "source": [
        "import sys\nimport os\nimport abipy.data as abidata\nimport abipy.abilab as abilab\nimport abipy.flowtk as flowtk\n\nfrom abipy.flowtk.abiobjects import LdauParams\n\n\ndef make_scf_nscf_dos_inputs(structure, pseudos, luj_params, paral_kgb=1):\n    # Input file taken from tldau_2.in\n    multi = abilab.MultiDataset(structure, pseudos=pseudos, ndtset=3)\n\n    # Global variables\n    global_vars = dict(\n        #\n        ecut=12,\n        pawecutdg=30,\n        nband=40,\n        occopt=7,\n        tsmear=0.015,\n        nstep=50,\n        paral_kgb=paral_kgb,\n        #\n        # Spin\n        nsppol=1,\n        nspden=2,\n        nspinor=1,\n        spinat=[0,  0,  1,\n                0,  0, -1,\n                0,  0,  0,\n                0,  0,  0],\n        # Kpoint Grid\n        # The k point grid is not symmetric, but the calculations being\n        # for the ground-state, this is not a problem.\n    )\n\n    multi.set_vars(global_vars)\n    multi.set_vars(luj_params.to_abivars())\n\n    # GS run.\n    multi[0].set_vars(\n        iscf=17,\n        toldfe=1.0e-8,\n        ngkpt=[2, 2, 2],\n        chksymbreak=0,\n    )\n\n    # Band structure run.\n    multi[1].set_kpath(ndivsm=6)\n    multi[1].set_vars(tolwfr=1e-10)\n\n    # DOS calculation.\n    multi[2].set_vars(\n        iscf=-3,   # NSCF calculation\n        ngkpt=structure.calc_ngkpt(nksmall=8),\n        shiftk=[0.0, 0.0, 0.0],\n        nshiftk=1,\n        tolwfr=1.e-8,\n        #pawprtdos=1,\n    )\n\n    # Generate two input files for the GS and the NSCF run\n    scf_input, nscf_input, dos_input = multi.split_datasets()\n\n    return scf_input, nscf_input, dos_input\n\n\ndef build_flow(options):\n    # Working directory (default is the name of the script with '.py' removed and \"run_\" replaced by \"flow_\")\n    if not options.workdir:\n        options.workdir = os.path.basename(sys.argv[0]).replace(\".py\", \"\").replace(\"run_\", \"flow_\")\n\n    flow = flowtk.Flow(options.workdir, manager=options.manager)\n\n    # Create the work for the band structure calculation.\n    structure = abidata.structure_from_ucell(\"NiO\")\n    pseudos = abidata.pseudos(\"28ni.paw\", \"8o.2.paw\")\n\n    # The code below set up the parameters for the LDA+U calculation in NiO.\n    #usepawu   1\n    #lpawu   2 -1\n    #upawu  8.0 0.0 eV\n    #jpawu  0.8 0.0 eV\n    usepawu = 1\n    u_values = [5.0, 8.0]\n\n    for u in u_values:\n        # Apply U-J on Ni only.\n        luj_params = LdauParams(usepawu, structure)\n        luj_params.luj_for_symbol(\"Ni\", l=2, u=u, j=0.1*u, unit=\"eV\")\n\n        scf_input, nscf_input, dos_input = make_scf_nscf_dos_inputs(structure, pseudos, luj_params)\n\n        work = flowtk.BandStructureWork(scf_input, nscf_input, dos_inputs=dos_input)\n        flow.register_work(work)\n\n    return flow\n\n\n# This block generates the thumbnails in the AbiPy gallery.\n# You can safely REMOVE this part if you are using this script for production runs.\nif os.getenv(\"READTHEDOCS\", False):\n    __name__ = None\n    import tempfile\n    options = flowtk.build_flow_main_parser().parse_args([\"-w\", tempfile.mkdtemp()])\n    build_flow(options).graphviz_imshow()\n\n\n@flowtk.flow_main\ndef main(options):\n    \"\"\"\n    This is our main function that will be invoked by the script.\n    flow_main is a decorator implementing the command line interface.\n    Command line args are stored in `options`.\n    \"\"\"\n    return build_flow(options)\n\n\nif __name__ == \"__main__\":\n    sys.exit(main())"
      ]
    },
    {
      "cell_type": "markdown",
      "metadata": {},
      "source": [
        "Run the script with:\n\n    run_ldaus.py -s\n\nthen use:\n\n   abirun.py flow_ldaus/ ebands\n\nto analyze all GSR files produced by flow.\n\n.. code-block:: bash\n\n       KS electronic bands:\n              nsppol  nspinor  nspden  nkpt  nband  nelect  fermie formula  natom  \\\n       w0_t0       1        1       2     3     40    48.0   6.084  Ni2 O2      4\n       w0_t1       1        1       2   129     40    48.0   6.084  Ni2 O2      4\n       w0_t2       1        1       2   213     40    48.0   6.169  Ni2 O2      4\n       w1_t0       1        1       2     3     40    48.0   6.855  Ni2 O2      4\n       w1_t1       1        1       2   129     40    48.0   6.855  Ni2 O2      4\n       w1_t2       1        1       2   213     40    48.0   6.432  Ni2 O2      4\n\n              angle0  angle1  angle2      a      b      c  volume abispg_num  \\\n       w0_t0    60.0    60.0    60.0  2.964  2.964  5.927  36.809        166\n       w0_t1    60.0    60.0    60.0  2.964  2.964  5.927  36.809        166\n       w0_t2    60.0    60.0    60.0  2.964  2.964  5.927  36.809        166\n       w1_t0    60.0    60.0    60.0  2.964  2.964  5.927  36.809        166\n       w1_t1    60.0    60.0    60.0  2.964  2.964  5.927  36.809        166\n       w1_t2    60.0    60.0    60.0  2.964  2.964  5.927  36.809        166\n\n                scheme  occopt  tsmear_ev  bandwidth_spin0  fundgap_spin0  \\\n       w0_t0  gaussian       7      0.408           99.343          3.324\n       w0_t1  gaussian       7      0.408           99.680          3.049\n       w0_t2  gaussian       7      0.408           99.838          2.560\n       w1_t0  gaussian       7      0.408           99.318          4.626\n       w1_t1  gaussian       7      0.408           99.628          3.352\n       w1_t2  gaussian       7      0.408           99.826          3.155\n\n              dirgap_spin0 task_class                               ncfile  node_id  \\\n       w0_t0         3.351    ScfTask  flow_ldaus/w0/t0/outdata/out_GSR.nc   241313\n       w0_t1         3.352   NscfTask  flow_ldaus/w0/t1/outdata/out_GSR.nc   241314\n       w0_t2         3.041   NscfTask  flow_ldaus/w0/t2/outdata/out_GSR.nc   241315\n       w1_t0         4.626    ScfTask  flow_ldaus/w1/t0/outdata/out_GSR.nc   241317\n       w1_t1         3.928   NscfTask  flow_ldaus/w1/t1/outdata/out_GSR.nc   241318\n       w1_t2         3.983   NscfTask  flow_ldaus/w1/t2/outdata/out_GSR.nc   241319\n\n                          status\n       w0_t0  Completed\n       w0_t1  Completed\n       w0_t2  Completed\n       w1_t0  Completed\n       w1_t1  Completed\n       w1_t2  Completed\n\nThe second task in each work (w*_t1) is a NSCF run along the high symmetry path.\nand we can compare the results of these two task by specifying the node identifiers:\n\n  abirun.py flow_ldaus/ ebands -p --nids=241314,241318\n\n<img src=\"https://github.com/abinit/abipy_assets/blob/master/run_ldaus.png?raw=true\" alt=\"Band structure of Si in the IBZ and along a k-path\">\n\n\n"
      ]
    }
  ],
  "metadata": {
    "kernelspec": {
      "display_name": "Python 3",
      "language": "python",
      "name": "python3"
    },
    "language_info": {
      "codemirror_mode": {
        "name": "ipython",
        "version": 3
      },
      "file_extension": ".py",
      "mimetype": "text/x-python",
      "name": "python",
      "nbconvert_exporter": "python",
      "pygments_lexer": "ipython3",
      "version": "3.8.0"
    }
  },
  "nbformat": 4,
  "nbformat_minor": 0
}