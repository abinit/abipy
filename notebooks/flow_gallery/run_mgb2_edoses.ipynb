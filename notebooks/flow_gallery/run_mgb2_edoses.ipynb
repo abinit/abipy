{
  "cells": [
    {
      "cell_type": "code",
      "execution_count": null,
      "metadata": {
        "collapsed": false
      },
      "outputs": [],
      "source": [
        "%matplotlib inline"
      ]
    },
    {
      "cell_type": "markdown",
      "metadata": {},
      "source": [
        "\n# Flow for convergence studies of e-DOS wrt ngkpt\n\nThis examples shows how to build a Flow to compute the\nband structure and the electron DOS of MgB2 with different k-point samplings.\n"
      ]
    },
    {
      "cell_type": "code",
      "execution_count": null,
      "metadata": {
        "collapsed": false
      },
      "outputs": [],
      "source": [
        "import os\nimport sys\nimport abipy.data as abidata\nimport abipy.abilab as abilab\nfrom abipy import flowtk\n\n\ndef make_scf_nscf_inputs(structure, pseudos, paral_kgb=1):\n    \"\"\"return GS, NSCF (band structure), and DOSes input.\"\"\"\n\n    multi = abilab.MultiDataset(structure, pseudos=pseudos, ndtset=5)\n\n    # Global variables\n    multi.set_vars(\n        ecut=10,\n        nband=11,\n        timopt=-1,\n        occopt=4,    # Marzari smearing\n        tsmear=0.03,\n        paral_kgb=paral_kgb,\n   )\n\n    # Dataset 1 (GS run)\n    multi[0].set_kmesh(ngkpt=[8, 8, 8], shiftk=structure.calc_shiftk())\n    multi[0].set_vars(tolvrs=1e-6)\n\n    # Dataset 2 (NSCF Band Structure)\n    multi[1].set_kpath(ndivsm=6)\n    multi[1].set_vars(tolwfr=1e-12)\n\n    # Dos calculations with increasing k-point sampling.\n    for i, nksmall in enumerate([4, 8, 16]):\n        multi[i+2].set_vars(\n            iscf=-3,   # NSCF calculation\n            ngkpt=structure.calc_ngkpt(nksmall),\n            shiftk=[0.0, 0.0, 0.0],\n            tolwfr=1.0e-10,\n        )\n\n    # return GS, NSCF (band structure), DOSes input.\n    return multi.split_datasets()\n\n\ndef build_flow(options):\n    # Working directory (default is the name of the script with '.py' removed and \"run_\" replaced by \"flow_\")\n    if not options.workdir:\n        options.workdir = os.path.basename(sys.argv[0]).replace(\".py\", \"\").replace(\"run_\", \"flow_\")\n\n    structure = abidata.structure_from_ucell(\"MgB2\")\n\n    # Get pseudos from a table.\n    table = abilab.PseudoTable(abidata.pseudos(\"12mg.pspnc\", \"5b.pspnc\"))\n    pseudos = table.get_pseudos_for_structure(structure)\n\n    nval = structure.num_valence_electrons(pseudos)\n    #print(nval)\n\n    inputs = make_scf_nscf_inputs(structure, pseudos)\n    scf_input, nscf_input, dos_inputs = inputs[0], inputs[1], inputs[2:]\n\n    return flowtk.bandstructure_flow(options.workdir, scf_input, nscf_input,\n                                     dos_inputs=dos_inputs, manager=options.manager)\n\n\n# This block generates the thumbnails in the AbiPy gallery.\n# You can safely REMOVE this part if you are using this script for production runs.\nif os.getenv(\"READTHEDOCS\", False):\n    __name__ = None\n    import tempfile\n    options = flowtk.build_flow_main_parser().parse_args([\"-w\", tempfile.mkdtemp()])\n    build_flow(options).graphviz_imshow()\n\n\n@flowtk.flow_main\ndef main(options):\n    \"\"\"\n    This is our main function that will be invoked by the script.\n    flow_main is a decorator implementing the command line interface.\n    Command line args are stored in `options`.\n    \"\"\"\n    return build_flow(options)\n\n\nif __name__ == \"__main__\":\n    sys.exit(main())"
      ]
    },
    {
      "cell_type": "markdown",
      "metadata": {},
      "source": [
        "Run the script with:\n\n    run_mgb2_edoses.py -s\n\nthen use:\n\n   abirun.py flow_mgb2_edoes ebands\n\nto get info about the electronic properties:\n\n.. code-block:: shell\n\n      KS electronic bands:\n             nsppol  nspinor  nspden  nkpt  nband  nelect  fermie formula  natom  \\\n      w0_t0       1        1       1    40     11     8.0   7.615  Mg1 B2      3\n      w0_t1       1        1       1    97     11     8.0   7.615  Mg1 B2      3\n      w0_t2       1        1       1    15     11     8.0   7.701  Mg1 B2      3\n      w0_t3       1        1       1    80     11     8.0   7.629  Mg1 B2      3\n      w0_t4       1        1       1   432     11     8.0   7.626  Mg1 B2      3\n\n             angle0  angle1  angle2      a      b      c  volume abispg_num  \\\n      w0_t0    90.0    90.0   120.0  3.086  3.086  3.523  29.056        191\n      w0_t1    90.0    90.0   120.0  3.086  3.086  3.523  29.056        191\n      w0_t2    90.0    90.0   120.0  3.086  3.086  3.523  29.056        191\n      w0_t3    90.0    90.0   120.0  3.086  3.086  3.523  29.056        191\n      w0_t4    90.0    90.0   120.0  3.086  3.086  3.523  29.056        191\n\n                                                        scheme  occopt  tsmear_ev  \\\n      w0_t0  cold smearing of N. Marzari with minimization ...       4      0.816\n      w0_t1  cold smearing of N. Marzari with minimization ...       4      0.816\n      w0_t2  cold smearing of N. Marzari with minimization ...       4      0.816\n      w0_t3  cold smearing of N. Marzari with minimization ...       4      0.816\n      w0_t4  cold smearing of N. Marzari with minimization ...       4      0.816\n\n             bandwidth_spin0  fundgap_spin0  dirgap_spin0 task_class  \\\n      w0_t0           12.452          0.031         0.609    ScfTask\n      w0_t1           12.441          0.077         0.399   NscfTask\n      w0_t2           12.368          0.415         1.680   NscfTask\n      w0_t3           12.510          0.069         0.390   NscfTask\n      w0_t4           12.506          0.033         0.283   NscfTask\n\n                                                ncfile  node_id              status\n      w0_t0  flow_mgb2_edoses/w0/t0/outdata/out_GSR.nc   241032  Completed\n      w0_t1  flow_mgb2_edoses/w0/t1/outdata/out_GSR.nc   241033  Completed\n      w0_t2  flow_mgb2_edoses/w0/t2/outdata/out_GSR.nc   241034  Completed\n      w0_t3  flow_mgb2_edoses/w0/t3/outdata/out_GSR.nc   241035  Completed\n      w0_t4  flow_mgb2_edoses/w0/t4/outdata/out_GSR.nc   241036  Completed\n\nOur main goal is to analyze the convergence of the DOS wrt to the k-point sampling.\nAs we know that ``w0_t2``, `w0_t3`` and ``w0_t4`` are DOS calculations, we can\nbuild a GSR robot for these tasks with:\n\n   abirun.py flow_mgb2_edoses/ ebands -nids=241034,241035,241036\n\nthen, inside the ipython shell, one can use:\n\n.. code-block:: ipython\n\n   In [1]: %matplotlib\n   In [2]: robot.combiplot_edos()\n\nto plot the electronic DOS obtained with different number of k-points in the IBZ.\n\n<img src=\"https://github.com/abinit/abipy_assets/blob/master/run_mgb2_edoses.png?raw=true\" alt=\"Convergence of electronic DOS in MgB2 wrt k-points.\">\n\n\n"
      ]
    }
  ],
  "metadata": {
    "kernelspec": {
      "display_name": "Python 3",
      "language": "python",
      "name": "python3"
    },
    "language_info": {
      "codemirror_mode": {
        "name": "ipython",
        "version": 3
      },
      "file_extension": ".py",
      "mimetype": "text/x-python",
      "name": "python",
      "nbconvert_exporter": "python",
      "pygments_lexer": "ipython3",
      "version": "3.8.0"
    }
  },
  "nbformat": 4,
  "nbformat_minor": 0
}