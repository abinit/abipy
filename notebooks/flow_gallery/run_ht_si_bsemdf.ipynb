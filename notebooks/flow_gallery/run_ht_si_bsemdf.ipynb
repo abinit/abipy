{
  "cells": [
    {
      "cell_type": "code",
      "execution_count": null,
      "metadata": {
        "collapsed": false
      },
      "outputs": [],
      "source": [
        "%matplotlib inline"
      ]
    },
    {
      "cell_type": "markdown",
      "metadata": {},
      "source": [
        "\n# Bethe-Salpeter Flow with factory functions\n\nCalculation of the BSE spectrum with the High-throuhput interface (factory functions).\n"
      ]
    },
    {
      "cell_type": "code",
      "execution_count": null,
      "metadata": {
        "collapsed": false
      },
      "outputs": [],
      "source": [
        "import sys\nimport os\nimport abipy.data as abidata\nimport abipy.flowtk as flowtk\n\nfrom abipy import abilab\n\n\ndef build_flow(options):\n    # Working directory (default is the name of the script with '.py' removed and \"run_\" replaced by \"flow_\")\n    if not options.workdir:\n        options.workdir = os.path.basename(sys.argv[0]).replace(\".py\", \"\").replace(\"run_\", \"flow_\")\n\n    # Initialize pseudos and Structure.\n    pseudos = abidata.pseudos(\"14si.pspnc\")\n    structure = abilab.Structure.from_file(abidata.cif_file(\"si.cif\"))\n\n    kppa = scf_kppa = 1\n    nscf_nband = 6\n    nscf_ngkpt = [4, 4, 4]\n    nscf_shiftk = [0.1, 0.2, 0.3]\n    bs_loband = 2\n    bs_nband = nscf_nband\n    mbpt_sciss = 0.7 * abilab.units.eV_to_Ha\n    mdf_epsinf = 12\n    ecuteps = 2\n    ecut = 12\n\n    flow = flowtk.Flow(workdir=options.workdir, manager=options.manager)\n\n    # BSE calculation with model dielectric function.\n    multi = abilab.bse_with_mdf_inputs(\n        structure, pseudos,\n        scf_kppa, nscf_nband, nscf_ngkpt, nscf_shiftk,\n        ecuteps, bs_loband, bs_nband, mbpt_sciss, mdf_epsinf,\n        ecut=ecut,# pawecutdg=None,\n        exc_type=\"TDA\", bs_algo=\"haydock\", accuracy=\"normal\", spin_mode=\"unpolarized\",\n        smearing=None)\n        #smearing=\"fermi_dirac:0.1 eV\", charge=0.0, scf_algorithm=None)\n\n    work = flowtk.BseMdfWork(scf_input=multi[0], nscf_input=multi[1], bse_inputs=multi[2:])\n\n    flow.register_work(work)\n    return flow\n\n\n# This block generates the thumbnails in the AbiPy gallery.\n# You can safely REMOVE this part if you are using this script for production runs.\nif os.getenv(\"READTHEDOCS\", False):\n    __name__ = None\n    import tempfile\n    options = flowtk.build_flow_main_parser().parse_args([\"-w\", tempfile.mkdtemp()])\n    build_flow(options).graphviz_imshow()\n\n\n@flowtk.flow_main\ndef main(options):\n    \"\"\"\n    This is our main function that will be invoked by the script.\n    flow_main is a decorator implementing the command line interface.\n    Command line args are stored in `options`.\n    \"\"\"\n    return build_flow(options)\n\n\nif __name__ == \"__main__\":\n    sys.exit(main())"
      ]
    },
    {
      "cell_type": "markdown",
      "metadata": {},
      "source": [
        "Run the script with:\n\n    run_ht_si_bsemdf.py -s\n\nthen use:\n\n   abirun.py flow_ht_si_bsemdf/ status -v\n\nto get the status of the flow\n\n.. code-block:: bash\n\n       Work #0: <BseMdfWork, node_id=241906, workdir=flow_ht_si_bsemdf/w0>, Finalized=True\n       +--------+-----------+-----------------+--------------+------------+----------+-----------------+----------+-----------+\n       | Task   | Status    | Queue           | MPI|Omp|Gb   | Warn|Com   | Class    | Sub|Rest|Corr   | Time     |   Node_ID |\n       +========+===========+=================+==============+============+==========+=================+==========+===========+\n       | w0_t0  | Completed | 62430@localhost | 1|  1|2.0    | 2|  0      | ScfTask  | (1, 0, 0)       | 0:00:01R |    241907 |\n       +--------+-----------+-----------------+--------------+------------+----------+-----------------+----------+-----------+\n       | w0_t1  | Completed | 62438@localhost | 2|  1|2.0    | 3|  0      | NscfTask | (1, 0, 0)       | 0:00:05R |    241908 |\n       +--------+-----------+-----------------+--------------+------------+----------+-----------------+----------+-----------+\n       | w0_t2  | Completed | 62449@localhost | 2|  1|2.0    | 10|  6     | BseTask  | (1, 0, 0)       | 0:00:17R |    241909 |\n       +--------+-----------+-----------------+--------------+------------+----------+-----------------+----------+-----------+\n\n       all_ok reached\n\nThe macroscopic dielectric function produced by the BseTask is stored in the ``out_MDF.nc`` file:\n\n.. code-block:: bash\n\n       abirun.py flow_ht_si_bsemdf/ listext MDF\n\n       Found 1 files with extension `MDF` produced by the flow\n       File                                          Size [Mb]    Node_ID  Node Class\n       ------------------------------------------  -----------  ---------  ------------\n       flow_ht_si_bsemdf/w0/t2/outdata/out_MDF.nc          0.4     241909  BseTask\n\nOpen the file with:\n\n      abiopen.py flow_ht_si_bsemdf/w0/t2/outdata/out_MDF.nc\n\nand then inside the ipython terminal, issue:\n\n.. code-block:: ipython\n\n   In [1]: %matplotlib\n   In [2]: abifile.plot_mdfs()\n\nto produce:\n\n<img src=\"https://github.com/abinit/abipy_assets/blob/master/run_ht_si_bsemdf.png?raw=true\" alt=\"Band structure of Si in the IBZ and along a k-path\">\n\n\n"
      ]
    }
  ],
  "metadata": {
    "kernelspec": {
      "display_name": "Python 3",
      "language": "python",
      "name": "python3"
    },
    "language_info": {
      "codemirror_mode": {
        "name": "ipython",
        "version": 3
      },
      "file_extension": ".py",
      "mimetype": "text/x-python",
      "name": "python",
      "nbconvert_exporter": "python",
      "pygments_lexer": "ipython3",
      "version": "3.8.0"
    }
  },
  "nbformat": 4,
  "nbformat_minor": 0
}