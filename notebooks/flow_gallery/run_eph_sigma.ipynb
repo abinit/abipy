{
  "cells": [
    {
      "cell_type": "code",
      "execution_count": null,
      "metadata": {
        "collapsed": false
      },
      "outputs": [],
      "source": [
        "%matplotlib inline"
      ]
    },
    {
      "cell_type": "markdown",
      "metadata": {},
      "source": [
        "\n# Computation of Phonons, BECS and Eps_inf for MgO\n\nThis example shows how to compute phonons with DFPT\nSymmetries are taken into account: only q-points in the IBZ are generated.\nThe final results (out_DDB, out_DVDB) will be produced automatically at the end of the run\nand saved in the ``outdata/`` directory of work[1].\n"
      ]
    },
    {
      "cell_type": "code",
      "execution_count": null,
      "metadata": {
        "collapsed": false
      },
      "outputs": [],
      "source": [
        "import sys\nimport os\nimport abipy.abilab as abilab\nimport abipy.data as abidata\n\nfrom abipy import flowtk\n\n\ndef make_scf_input():\n    \"\"\"\n    This function constructs the input file for the GS calculation:\n    \"\"\"\n\n    # Initialize MgO structure from abinit variables.\n    structure = abilab.Structure.from_abivars(\n        acell=3 * [4.252718 * abilab.units.ang_to_bohr],\n        rprim=[0.0000000000, 0.5000000000, 0.5000000000,\n               0.5000000000, 0.0000000000, 0.5000000000,\n               0.5000000000, 0.5000000000, 0.0000000000],\n        natom=2,\n        ntypat=2,\n        typat=[1, 2],\n        znucl=[12, 8],\n        xred=[0.0000000000, 0.0000000000, 0.0000000000,\n              0.5000000000, 0.5000000000, 0.5000000000]\n    )\n\n    # NC pseudos assumed in currect working directory.\n    pseudos = [\"Mg-sp-gw.psp8\", \"O.psp8\"]\n\n    # Input for GS part.\n    gs_inp = abilab.AbinitInput(structure, pseudos=pseudos)\n\n    gs_inp.set_vars(\n        nband=16,\n        paral_kgb=0,\n        ecut=35.0,        # Too low. Should be ~50\n        ngkpt=[4, 4, 4],  # Too coarse\n        #nshiftk=1,\n        shiftk=[0, 0, 0], # Gamma-centered mesh. Important to have the CBM/VBM!\n        tolvrs=1.0e-10,\n        diemac=9.0,\n        nstep=150,\n        nbdbuf=4,\n        #prtpot=1,       # Print potential for Sternheimer\n        iomode=3,        # Produce output files in netcdf format.\n    )\n\n    return gs_inp\n\n\ndef build_flow(options):\n    \"\"\"\n    Create a `Flow` for phonon calculations. The flow has two works.\n\n    - work[0]: GS + NSCF along a k-path\n    - work[1]: DFPT work with phonons on a 4x4x4, BECS and eps_inf\n    \"\"\"\n    # Working directory (default is the name of the script with '.py' removed and \"run_\" replaced by \"flow_\")\n    if not options.workdir:\n        options.workdir = os.path.basename(__file__).replace(\".py\", \"\").replace(\"run_\", \"flow_\")\n\n    flow = flowtk.Flow(workdir=options.workdir)\n\n    # Build input for GS calculation and create first work with 1 ScfTask.\n    gs_inp = make_scf_input()\n    work = flow.register_scf_task(gs_inp)\n    scf_task = work[0]\n\n    # Build new input for NSCF calculation with k-path (automatically selected by AbiPy)\n    # Used to plot the KS band structure\n    nscf_kpath_inp = gs_inp.new_with_vars(\n        nband=16,\n        tolwfr=1e-18,\n        iscf=-2,\n    )\n    nscf_kpath_inp.set_kpath(ndivsm=10)\n    work.register_nscf_task(nscf_kpath_inp, deps={scf_task: \"DEN\"})\n\n    # NSCF run with eph_ngkpt k-mesh to produce the WFK file for the EPH code.\n    nscf_eph_inp = gs_inp.new_with_vars(\n        tolwfr=1e-16,\n        iscf=-2,\n        prtpot=1,         # Needed for the Sternheimer.\n                          # This POT file is actually a copy of the GS POT file.\n    )\n\n    eph_ngkpt = [32, 32, 32]\n    nscf_eph_inp.set_kmesh(\n        ngkpt=eph_ngkpt,\n        shiftk=[0.0, 0.0, 0.0],\n    )\n    work.register_nscf_task(nscf_eph_inp, deps={scf_task: \"DEN\"})\n    nscf_eph_work = work[-1]\n\n    # Q-mesh for phonons. In this case k-mesh == q-mesh\n    #ngkpt = [32, 32, 32]\n    ngqpt = [4, 4, 4]\n\n    # Create work for phonon calculationwith a [4, 4, 4] q-mesh.\n    # Electric field and Born effective charges are also computed.\n    ph_work = flowtk.PhononWork.from_scf_task(scf_task, ngqpt, is_ngqpt=True, with_becs=True, with_quad=False)\n\n    flow.register_work(ph_work)\n\n    # Build template for self-energy calculation. See also v8/Input/t44.in\n    # The k-points must be in the WFK file\n    #\n    eph_inp = gs_inp.new_with_vars(\n        optdriver=7,             # Enter EPH driver.\n        eph_task=4,              # Activate computation of EPH self-energy.\n        eph_stern=1,             # Use the sternheimer equations\n        ngkpt=eph_ngkpt,\n        ddb_ngqpt=ngqpt,         # q-mesh used to produce the DDB file (must be consistent with DDB data)\n        symsigma=1,              # Use symmetries in self-energy integration (IBZ_k instead of BZ)\n        # For more k-points...\n        nkptgw=1,\n        kptgw=[0, 0, 0],\n        bdgw=[9, 9],\n        #gw_qprange=-4,\n        nfreqsp=8000,\n        freqspmax=\"8.0 eV\",\n        tmesh=[0, 200, 1],    # (start, step, num)\n        zcut=\"0.01 eV\",\n    )\n\n    # Set q-path for Fourier interpolation of phonons.\n    eph_inp.set_qpath(10)\n\n    # Set q-mesh for phonons DOS.\n    eph_inp.set_phdos_qmesh(nqsmall=16, method=\"tetra\")\n\n    # Convergence of the q-mesh grid\n    # For each q-mesh check the frequency mesh and thus the time mesh density to obtain a stable spectral function\n    for eph_ngqpt_fine in [ [8, 8, 8], [16, 16, 16], [32, 32, 32]]:\n        # Create empty work to contain EPH tasks with this value of eph_ngqpt_fine\n        eph_work = flow.register_work(flowtk.Work())\n\n        for nfreq in [1000, 2000, 3000, 4000]:\n\n            # EPH part requires the GS WFK, the DDB file with all perturbations\n            # and the database of DFPT potentials (already merged by PhononWork)\n            deps = {nscf_eph_work: [\"WFK\", \"POT\"], ph_work: [\"DDB\", \"DVDB\"]}\n            new_inp = eph_inp.new_with_vars(eph_ngqpt_fine=eph_ngqpt_fine, nfreqsp=nfreq)\n            eph_work.register_eph_task(new_inp, deps=deps)\n\n            ce_inp = new_inp.new_with_vars(\n                eph_task=9,\n                tolcum=1e-3\n            )\n            # Cumulant expansion requires the SIGEPH output file obtained from the EPH calculation\n            deps = {nscf_eph_work: [\"WFK\", \"POT\"], ph_work: [\"DDB\", \"DVDB\"], eph_work[-1]: \"SIGEPH\"}\n\n            eph_work.register_eph_task(ce_inp, deps=deps)\n\n    # Create workflow for the EPH task\n    #eph_work.register_eph_task(eph_inp, deps=deps)\n\n    #ce_inp = eph_inp.new_with_vars(\n    #        eph_task=9,\n    #        tolcum=1e-3\n    #        )\n\n    #deps = {nscf_eph_work: [\"WFK\",\"POT\"], ph_work: [\"DDB\", \"DVDB\"], eph_work[0]: \"SIGEPH\"}\n\n    #eph_work.register_eph_task(ce_inp, deps=deps)\n\n    flow.allocate()\n    flow.use_smartio()\n\n    return flow\n\n\n@flowtk.flow_main\ndef main(options):\n    \"\"\"\n    This is our main function that will be invoked by the script.\n    flow_main is a decorator implementing the command line interface.\n    Command line args are stored in `options`.\n    \"\"\"\n    return build_flow(options)\n\n\nif __name__ == \"__main__\":\n    sys.exit(main())"
      ]
    }
  ],
  "metadata": {
    "kernelspec": {
      "display_name": "Python 3",
      "language": "python",
      "name": "python3"
    },
    "language_info": {
      "codemirror_mode": {
        "name": "ipython",
        "version": 3
      },
      "file_extension": ".py",
      "mimetype": "text/x-python",
      "name": "python",
      "nbconvert_exporter": "python",
      "pygments_lexer": "ipython3",
      "version": "3.8.0"
    }
  },
  "nbformat": 4,
  "nbformat_minor": 0
}