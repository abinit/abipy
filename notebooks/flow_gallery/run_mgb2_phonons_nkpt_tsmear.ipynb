{
  "cells": [
    {
      "cell_type": "code",
      "execution_count": null,
      "metadata": {
        "collapsed": false
      },
      "outputs": [],
      "source": [
        "%matplotlib inline"
      ]
    },
    {
      "cell_type": "markdown",
      "metadata": {},
      "source": [
        "\n# Flow to analyze the convergence of phonons in metals wrt ngkpt and tsmear\n\nThis examples shows how to build a Flow to compute the\nphonon band structure in a metallic system (MgB2) with different\nk-point samplings and values of the electronic smearing tsmear\n"
      ]
    },
    {
      "cell_type": "code",
      "execution_count": null,
      "metadata": {
        "collapsed": false
      },
      "outputs": [],
      "source": [
        "import os\nimport sys\nimport abipy.data as abidata\nimport abipy.abilab as abilab\nfrom abipy import flowtk\n\n\ndef make_scf_input(structure, ngkpt, tsmear, pseudos, paral_kgb=0):\n    \"\"\"Build and return Ground-state input for MgB2 given ngkpt and tsmear.\"\"\"\n\n    scf_inp = abilab.AbinitInput(structure, pseudos=pseudos)\n\n    # Global variables\n    scf_inp.set_vars(\n        ecut=10,\n        nband=8,\n        occopt=4,    # Marzari smearing\n        tsmear=tsmear,\n        paral_kgb=paral_kgb,\n        iomode=3,\n   )\n\n    # Dataset 1 (GS run)\n    scf_inp.set_kmesh(ngkpt=ngkpt, shiftk=structure.calc_shiftk())\n    scf_inp.set_vars(tolvrs=1e-10)\n\n    return scf_inp\n\n\ndef build_flow(options):\n    # Working directory (default is the name of the script with '.py' removed and \"run_\" replaced by \"flow_\")\n    if not options.workdir:\n        options.workdir = os.path.basename(sys.argv[0]).replace(\".py\", \"\").replace(\"run_\", \"flow_\")\n\n    structure = abidata.structure_from_ucell(\"MgB2\")\n\n    # Get pseudos from a table.\n    table = abilab.PseudoTable(abidata.pseudos(\"12mg.pspnc\", \"5b.pspnc\"))\n    pseudos = table.get_pseudos_for_structure(structure)\n\n    flow = flowtk.Flow(workdir=options.workdir)\n\n    # Build work of GS task. Each gs_task uses different (ngkpt, tsmear) values\n    # and represent the starting point of the phonon works.\n    scf_work = flowtk.Work()\n    ngkpt_list = [[4, 4, 4], [8, 8, 8]] #, [12, 12, 12]]\n    tsmear_list = [0.01, 0.02] # , 0.04]\n    for ngkpt in ngkpt_list:\n        for tsmear in tsmear_list:\n            scf_input = make_scf_input(structure, ngkpt, tsmear, pseudos)\n            scf_work.register_scf_task(scf_input)\n    flow.register_work(scf_work)\n\n    # This call uses the information reported in the GS task to\n    # compute all the independent atomic perturbations corresponding to a [2, 2, 2] q-mesh.\n    # For each GS task, construct a phonon work that will inherit (ngkpt, tsmear) from scf_task.\n    for scf_task in scf_work:\n        ph_work = flowtk.PhononWork.from_scf_task(scf_task, qpoints=[2, 2, 2], is_ngqpt=True)\n        flow.register_work(ph_work)\n\n    return flow.allocate(use_smartio=True)\n\n\n# This block generates the thumbnails in the AbiPy gallery.\n# You can safely REMOVE this part if you are using this script for production runs.\nif os.getenv(\"READTHEDOCS\", False):\n    __name__ = None\n    import tempfile\n    options = flowtk.build_flow_main_parser().parse_args([\"-w\", tempfile.mkdtemp()])\n    build_flow(options).graphviz_imshow()\n\n\n@flowtk.flow_main\ndef main(options):\n    \"\"\"\n    This is our main function that will be invoked by the script.\n    flow_main is a decorator implementing the command line interface.\n    Command line args are stored in `options`.\n    \"\"\"\n    return build_flow(options)\n\n\nif __name__ == \"__main__\":\n    sys.exit(main())"
      ]
    },
    {
      "cell_type": "markdown",
      "metadata": {},
      "source": [
        "Run the script with:\n\n     run_mgb2_phonons_nkpt_tsmear.py -s\n\n then use:\n\n .. code-block:: shell\n\n\tabicomp.py ddb flow_mgb2_phonons_nkpt_tsmear/w*/outdata/*_DDB -ipy\n\n to build a robot from the output DDB files and start the ipython shell.\n\n then, inside the ipython shell, use:\n\n .. code-block:: ipython\n\n    In [1]: %matplotlib\n    In [2]: r = robot.anaget_phonon_plotters(nqsmall=0)\n    In [3]: r.phbands_plotter.gridplot_with_hue(\"tsmear\")\n\n to compute the phonon bands with Anaddb and plot the results grouped by \"tsmear\".\n\n .. image:: https://github.com/abinit/abipy_assets/blob/master/run_mgb2_phonons_nkpt_tsmear.png?raw=true\n    :alt: Convergence of phonon dispersion of MgB2 wrt k-point sampling and electronic smearing.\n\n"
      ]
    }
  ],
  "metadata": {
    "kernelspec": {
      "display_name": "Python 3",
      "language": "python",
      "name": "python3"
    },
    "language_info": {
      "codemirror_mode": {
        "name": "ipython",
        "version": 3
      },
      "file_extension": ".py",
      "mimetype": "text/x-python",
      "name": "python",
      "nbconvert_exporter": "python",
      "pygments_lexer": "ipython3",
      "version": "3.8.0"
    }
  },
  "nbformat": 4,
  "nbformat_minor": 0
}