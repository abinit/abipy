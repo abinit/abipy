{
  "cells": [
    {
      "cell_type": "code",
      "execution_count": null,
      "metadata": {
        "collapsed": false
      },
      "outputs": [],
      "source": [
        "%matplotlib inline"
      ]
    },
    {
      "cell_type": "markdown",
      "metadata": {},
      "source": [
        "\n# Flow for Born effective charges and dielectric tensors with DFPT\n\nThis example shows how to compute the Born effective charges and\nthe dielectric tensors (e0, einf) of AlAs with AbiPy flows.\nWe perform multiple calculations by varying the number of k-points\nin order to analyze the convergence of the results wrt nkpt\n"
      ]
    },
    {
      "cell_type": "code",
      "execution_count": null,
      "metadata": {
        "collapsed": false
      },
      "outputs": [],
      "source": [
        "import sys\nimport os\nimport abipy.abilab as abilab\nimport abipy.data as abidata\n\nfrom abipy import flowtk\n\n\ndef make_scf_input(ngkpt, paral_kgb=0):\n    \"\"\"\n    This function constructs the input file for the GS calculation for a given IBZ sampling.\n    \"\"\"\n    # Crystalline AlAs: computation of the second derivative of the total energy\n    structure = abidata.structure_from_ucell(\"AlAs\")\n    pseudos = abidata.pseudos(\"13al.981214.fhi\", \"33as.pspnc\")\n    gs_inp = abilab.AbinitInput(structure, pseudos=pseudos)\n\n    gs_inp.set_vars(\n        nband=4,\n        ecut=2.0,\n        ngkpt=ngkpt,\n        nshiftk=4,\n        shiftk=[0.0, 0.0, 0.5,   # This gives the usual fcc Monkhorst-Pack grid\n                0.0, 0.5, 0.0,\n                0.5, 0.0, 0.0,\n                0.5, 0.5, 0.5],\n        #shiftk=[0, 0, 0],\n        paral_kgb=paral_kgb,\n        tolvrs=1.0e-10,\n        ixc=1,\n        diemac=9.0,\n        #iomode=3,\n    )\n\n    return gs_inp\n\n\ndef build_flow(options):\n    \"\"\"\n    Create a `Flow` for phonon calculations. The flow has two works.\n\n    The first work contains a single GS task that produces the WFK file used in DFPT\n    Then we have multiple Works that are generated automatically\n    in order to compute the dynamical matrix on a [4, 4, 4] mesh.\n    Symmetries are taken into account: only q-points in the IBZ are generated and\n    for each q-point only the independent atomic perturbations are computed.\n    \"\"\"\n    # Working directory (default is the name of the script with '.py' removed and \"run_\" replaced by \"flow_\")\n    if not options.workdir:\n        options.workdir = os.path.basename(sys.argv[0]).replace(\".py\", \"\").replace(\"run_\", \"flow_\")\n\n    flow = flowtk.Flow(workdir=options.workdir)\n\n    for ngkpt in [(2, 2, 2), (4, 4, 4), (8, 8, 8)]:\n        # Build input for GS calculation with different k-meshes\n        scf_input = make_scf_input(ngkpt=ngkpt)\n        flow.register_scf_task(scf_input, append=True)\n\n    for scf_task in flow[0]:\n        bec_work = flowtk.BecWork.from_scf_task(scf_task)\n        flow.register_work(bec_work)\n\n    return flow\n\n\n# This block generates the thumbnails in the AbiPy gallery.\n# You can safely REMOVE this part if you are using this script for production runs.\nif os.getenv(\"READTHEDOCS\", False):\n    __name__ = None\n    import tempfile\n    options = flowtk.build_flow_main_parser().parse_args([\"-w\", tempfile.mkdtemp()])\n    build_flow(options).graphviz_imshow()\n\n\n@flowtk.flow_main\ndef main(options):\n    \"\"\"\n    This is our main function that will be invoked by the script.\n    flow_main is a decorator implementing the command line interface.\n    Command line args are stored in `options`.\n    \"\"\"\n    return build_flow(options)\n\n\nif __name__ == \"__main__\":\n    sys.exit(main())"
      ]
    },
    {
      "cell_type": "markdown",
      "metadata": {},
      "source": [
        "Run the script with:\n\n    run_becs_and_epsilon_vs_kpts.py -s\n\nUse:\n\n  abirun.py flow_becs_and_epsilon_vs_kpts/ listext DDB\n\nto list all the DDB files produced by the flow.\n\nNow use abicomp.py to create a DdbRobot to analyze the DDB files produced by the 3 Works:\n\n   abicomp.py ddb flow_becs_and_epsilon_vs_kpts/w*/outdata/out_DDB\n\nthe inside the ipython terminal use the anacompare methods to analyze the results. e.g.\n\n.. code-block:: ipython\n\n    In [1]: r = robot.anacompare_epsinf()\n    In [2]: r.df\n    Out[2]:\n              xx         yy         zz   yz   xz   xy  formula  chneut  \\\n    0  13.584082  13.584082  13.584082  0.0  0.0  0.0  Al1 As1       1\n    0   9.268425   9.268425   9.268425  0.0  0.0  0.0  Al1 As1       1\n    0   8.873178   8.873178   8.873178  0.0  0.0  0.0  Al1 As1       1\n\n\n"
      ]
    }
  ],
  "metadata": {
    "kernelspec": {
      "display_name": "Python 3",
      "language": "python",
      "name": "python3"
    },
    "language_info": {
      "codemirror_mode": {
        "name": "ipython",
        "version": 3
      },
      "file_extension": ".py",
      "mimetype": "text/x-python",
      "name": "python",
      "nbconvert_exporter": "python",
      "pygments_lexer": "ipython3",
      "version": "3.8.0"
    }
  },
  "nbformat": 4,
  "nbformat_minor": 0
}