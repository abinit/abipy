{
  "cells": [
    {
      "cell_type": "code",
      "execution_count": null,
      "metadata": {
        "collapsed": false
      },
      "outputs": [],
      "source": [
        "%matplotlib inline"
      ]
    },
    {
      "cell_type": "markdown",
      "metadata": {},
      "source": [
        "\n# Phonons with WFQ files (q-mesh denser than k-mesh)\n\nThis example shows how to use WFQ files to compute phonons on a q-mesh\nthat is not necessarily commensurate with the k-mesh used for electrons.\nSymmetries are taken into account: only q-points in the IBZ are generated.\nMoreover WFQ files are computed only if k + q does not belong to the initial mesh and,\nfor each q-point, only the independent atomic perturbations are computed.\nThe final results (out_DDB, out_DVDB) will be produced automatically at the end of the run\nand saved in the ``outdata/`` of the work.\n"
      ]
    },
    {
      "cell_type": "code",
      "execution_count": null,
      "metadata": {
        "collapsed": false
      },
      "outputs": [],
      "source": [
        "import sys\nimport os\nimport abipy.abilab as abilab\nimport abipy.data as abidata\n\nfrom abipy import flowtk\n\n\ndef make_scf_input(paral_kgb=0):\n    \"\"\"\n    This function constructs the input file for the GS calculation:\n    \"\"\"\n    # Crystalline AlAs: computation of the second derivative of the total energy\n    structure = abidata.structure_from_ucell(\"AlAs\")\n    pseudos = abidata.pseudos(\"13al.981214.fhi\", \"33as.pspnc\")\n    gs_inp = abilab.AbinitInput(structure, pseudos=pseudos)\n\n    gs_inp.set_vars(\n        nband=4,\n        ecut=2.0,\n        ngkpt=[2, 2, 2],\n        nshiftk=1,\n        shiftk=[0, 0, 0],\n        #nshiftk=4,\n        #shiftk=[0.0, 0.0, 0.5,   # This gives the usual fcc Monkhorst-Pack grid\n        #        0.0, 0.5, 0.0,\n        #        0.5, 0.0, 0.0,\n        #        0.5, 0.5, 0.5],\n        paral_kgb=paral_kgb,\n        tolvrs=1.0e-10,\n        diemac=9.0,\n    )\n\n    return gs_inp\n\n\ndef build_flow(options):\n    \"\"\"\n    Create a `Flow` for phonon calculations. The flow has two works.\n    \"\"\"\n    # Working directory (default is the name of the script with '.py' removed and \"run_\" replaced by \"flow_\")\n    if not options.workdir:\n        options.workdir = os.path.basename(sys.argv[0]).replace(\".py\", \"\").replace(\"run_\", \"flow_\")\n\n    flow = flowtk.Flow(workdir=options.workdir)\n\n    # Build input for GS calculation and create first work with 1 ScfTask.\n    scf_input = make_scf_input()\n    work = flow.register_scf_task(scf_input)\n    scf_task = work[0]\n\n    # Create work for phonon calculation with WFQ files with a [4, 4, 4] q-mesh.\n    # Electric field and Born effective charges are also computed.\n    wfkq_work = flowtk.PhononWfkqWork.from_scf_task(scf_task, ngqpt=[4, 4, 4], with_becs=True)\n    flow.register_work(wfkq_work)\n\n    return flow\n\n\n# This block generates the thumbnails in the AbiPy gallery.\n# You can safely REMOVE this part if you are using this script for production runs.\nif os.getenv(\"READTHEDOCS\", False):\n    __name__ = None\n    import tempfile\n    options = flowtk.build_flow_main_parser().parse_args([\"-w\", tempfile.mkdtemp()])\n    build_flow(options).graphviz_imshow()\n\n\n@flowtk.flow_main\ndef main(options):\n    \"\"\"\n    This is our main function that will be invoked by the script.\n    flow_main is a decorator implementing the command line interface.\n    Command line args are stored in `options`.\n    \"\"\"\n    return build_flow(options)\n\n\nif __name__ == \"__main__\":\n    sys.exit(main())"
      ]
    },
    {
      "cell_type": "markdown",
      "metadata": {},
      "source": [
        "Run the script with:\n\n    run_phonons_wfq.py -s\n\nthen use:\n\n   abirun.py flow_phonons_wkq history\n\nto get the list of actions perfomed by AbiPy to complete the flow.\nNote how the ``PhononWfkqWork`` has merged all the partial DDB/DVDB files\nand removed the WFQ files at runtime to optimize the disk space.\n\n.. code-block:: bash\n\n   =========================================================================================================================\n   ============================= <PhononWfkqWork, node_id=360036, workdir=flow_phonons_wkq/w1> =============================\n   =========================================================================================================================\n   [Tue Sep 18 00:04:18 2018] Removing WFQ: flow_phonons_wkq/w1/t5/outdata/out_WFQ\n   [Tue Sep 18 00:04:54 2018] Removing WFQ: flow_phonons_wkq/w1/t14/outdata/out_WFQ\n\nNow open the final DDB file with:\n\n   abiopen.py flow_phonons_wkq/w1/outdata/out_DDB\n\nand invoke anaddb to compute the phonon band structure and the phonon DOS with:\n\n.. code-block:: ipython\n\n    In [1]: phbst_file, phdos_file = abifile.anaget_phbst_and_phdos_files()\n    In [2]: %matplotlib\n    In [3]: phbst_file.plot_phbands()\n\n<img src=\"https://github.com/abinit/abipy_assets/blob/master/run_phonons.png?raw=true\" alt=\"Phonon band structure of AlAs.\">\n\n\n"
      ]
    }
  ],
  "metadata": {
    "kernelspec": {
      "display_name": "Python 3",
      "language": "python",
      "name": "python3"
    },
    "language_info": {
      "codemirror_mode": {
        "name": "ipython",
        "version": 3
      },
      "file_extension": ".py",
      "mimetype": "text/x-python",
      "name": "python",
      "nbconvert_exporter": "python",
      "pygments_lexer": "ipython3",
      "version": "3.8.0"
    }
  },
  "nbformat": 4,
  "nbformat_minor": 0
}