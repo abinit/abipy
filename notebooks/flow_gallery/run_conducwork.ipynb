{
  "cells": [
    {
      "cell_type": "code",
      "execution_count": null,
      "metadata": {
        "collapsed": false
      },
      "outputs": [],
      "source": [
        "%matplotlib inline"
      ]
    },
    {
      "cell_type": "markdown",
      "metadata": {},
      "source": [
        "\n# Conductivity in metals\n\nFlow to compute conductivity in metals\n"
      ]
    },
    {
      "cell_type": "code",
      "execution_count": null,
      "metadata": {
        "collapsed": false
      },
      "outputs": [],
      "source": [
        "import os\nimport sys\nimport abipy.data as abidata\nimport abipy.abilab as abilab\n\nfrom abipy import flowtk\nfrom abipy.abio.factories import conduc_kerange_from_inputs\n\n\ndef make_scf_input(structure, pseudos, ngkpt=(2,2,2), shiftk=(0,0,0),\n                   **variables):\n    \"\"\"Build and return SCF input given the structure and pseudopotentials\"\"\"\n\n    scf_inp = abilab.AbinitInput(structure, pseudos=pseudos)\n\n    # Global variables\n    scf_inp.set_vars(**variables)\n\n    # Dataset 1 (GS run)\n    scf_inp.set_kmesh(ngkpt=ngkpt, shiftk=shiftk)\n    #scf_inp.set_vars(toldfe=1e-10)\n\n    return scf_inp\n\n\ndef make_nscf_input(structure, pseudos, ngkpt=(2,2,2), shiftk=(0,0,0),\n                    **variables):\n    \"\"\"Build and return NSCF input given the structure and pseudopotentials\"\"\"\n    scf_inp = abilab.AbinitInput(structure, pseudos=pseudos)\n\n    # Global variables\n    scf_inp.set_vars(**variables)\n\n    # Dataset 1 (GS run)\n    scf_inp.set_kmesh(ngkpt=ngkpt, shiftk=shiftk)\n    scf_inp.set_vars(iscf=-2)\n\n    return scf_inp\n\n\ndef build_flow(options):\n    # Working directory (default is the name of the script with '.py' removed and \"run_\" replaced by \"flow_\")\n    if not options.workdir:\n        options.workdir = os.path.basename(__file__).replace(\".py\", \"\").replace(\"run_\", \"flow_\")\n\n    # Get structure and pseudos from the abipy database\n    structure = abidata.structure_from_ucell(\"Al\")\n    pseudos = abidata.pseudos(\"13al.pspnc\")\n\n    # Variables\n    variables = dict(\n            ecut=20,\n            tsmear=0.05,\n            nband=12,\n            nbdbuf=2,\n            occopt=3,\n            iomode=1,\n            nstep=20)\n\n    ngkpt = [4, 4, 4]\n    ngkpt_fine = [8, 8, 8]\n    shiftk = [0.0, 0.0, 0.0]\n    ngqpt = [2, 2, 2]\n    tmesh = [0, 30, 11] # Conductivity at temp from 0K to 300K by increment of 30\n    boxcutmin = 1.1\n    mixprec = 1\n\n    #Kerange Variables\n    nbr_proc = 4\n    ngqpt_fine = [16, 16, 16] # The sigma_ngkpt grid must be divisible by the qpt grid\n    sigma_ngkpt = [16, 16, 16]\n    einterp = [1, 5, 0, 0] # Star functions Interpolation\n    sigma_erange = [-0.3, -0.3, \"eV\"] # Negative value for metals\n\n    # Nom de mon flow\n    flow = flowtk.Flow(workdir=options.workdir)\n\n    # Create inputs Object\n    scf_input = make_scf_input(structure, pseudos,\n                               tolvrs=1e-12,\n                               ngkpt=ngkpt,\n                               shiftk=shiftk,\n                               **variables)\n\n    nscf_input = make_nscf_input(structure, pseudos,\n                                 tolwfr=1e-18,\n                                 ngkpt=ngkpt_fine,\n                                 shiftk=shiftk,\n                                 **variables)\n\n    # Create Work Object\n    # Work 0:  SCF run\n    gs_work = flowtk.Work()\n    gs_work.register_scf_task(scf_input)\n    flow.register_work(gs_work)\n\n    # Work 1: Compute DDB et DVDB\n    ph_work = flowtk.PhononWork.from_scf_task(gs_work[0],\n                                              qpoints=ngqpt, is_ngqpt=True,\n                                              tolerance={\"tolvrs\": 1e-8})\n    flow.register_work(ph_work)\n\n    # Work 2: Conduc with Kerange\n    multi = conduc_kerange_from_inputs(scf_input=scf_input,\n                                       nscf_input=nscf_input,\n                                       tmesh=tmesh,\n                                       ddb_ngqpt=ngqpt,\n                                       eph_ngqpt_fine=ngqpt_fine,\n                                       sigma_ngkpt=sigma_ngkpt,\n                                       sigma_erange=sigma_erange,\n                                       einterp=einterp,\n                                       boxcutmin=boxcutmin, # 1.1 is the default value of the function\n                                       mixprec=mixprec # 1 is the default value of the function\n                                       )\n\n    # Here we can change multi to change the variable of a particular dataset\n\n    conduc_work = flowtk.ConducWork.from_phwork(phwork=ph_work, # Linking the DDB and DVDB via a |PhononWork|\n                                                multi=multi, # The multidataset object\n                                                nbr_proc=nbr_proc, # Needed to parallelize the calculation\n                                                flow=flow,\n                                                with_kerange=True, # Using Kerange\n                                                omp_nbr_thread=1) # 1 is the default value of the function\n    # If you already have the DDB and DVDB, use from_filepath(ddb_path, dvdb_path, multi, ...) instead of from_phwork\n\n    flow.register_work(conduc_work)\n\n    return flow.allocate(use_smartio=True)\n\n\n# This block generates the thumbnails in the Abipy gallery.\n# You can safely REMOVE this part if you are using this script for production runs.\nif os.getenv(\"READTHEDOCS\", False):\n    __name__ = None\n    import tempfile\n    options = flowtk.build_flow_main_parser().parse_args([\"-w\", tempfile.mkdtemp()])\n    build_flow(options).graphviz_imshow()\n\n\n@flowtk.flow_main\ndef main(options):\n    \"\"\"\n    This is our main function that will be invoked by the script.\n    flow_main is a decorator implementing the command line interface.\n    Command line args are stored in `options`.\n    \"\"\"\n    return build_flow(options)\n\n\nif __name__ == \"__main__\":\n    sys.exit(main())"
      ]
    }
  ],
  "metadata": {
    "kernelspec": {
      "display_name": "Python 3",
      "language": "python",
      "name": "python3"
    },
    "language_info": {
      "codemirror_mode": {
        "name": "ipython",
        "version": 3
      },
      "file_extension": ".py",
      "mimetype": "text/x-python",
      "name": "python",
      "nbconvert_exporter": "python",
      "pygments_lexer": "ipython3",
      "version": "3.8.0"
    }
  },
  "nbformat": 4,
  "nbformat_minor": 0
}