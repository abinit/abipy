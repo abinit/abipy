{
  "cells": [
    {
      "cell_type": "code",
      "execution_count": null,
      "metadata": {
        "collapsed": false
      },
      "outputs": [],
      "source": [
        "%matplotlib inline"
      ]
    },
    {
      "cell_type": "markdown",
      "metadata": {},
      "source": [
        "\n# G0W0 Flow with factory functions\n\nG0W0 corrections with the HT interface.\n"
      ]
    },
    {
      "cell_type": "code",
      "execution_count": null,
      "metadata": {
        "collapsed": false
      },
      "outputs": [],
      "source": [
        "import sys\nimport os\nimport abipy.data as abidata\nimport abipy.flowtk as flowtk\nfrom abipy import abilab\n\n\ndef build_flow(options):\n    # Init structure and pseudos.\n    structure = abilab.Structure.from_file(abidata.cif_file(\"si.cif\"))\n    pseudos = abidata.pseudos(\"14si.pspnc\")\n\n    # Working directory (default is the name of the script with '.py' removed and \"run_\" replaced by \"flow_\")\n    if not options.workdir:\n        options.workdir = os.path.basename(sys.argv[0]).replace(\".py\", \"\").replace(\"run_\", \"flow_\")\n\n    # Initialize the flow.\n    flow = flowtk.Flow(options.workdir, manager=options.manager)\n\n    scf_kppa = 120\n    nscf_nband = 40\n    ecut, ecuteps, ecutsigx = 6, 2, 4\n    #scr_nband = 50\n    #sigma_nband = 50\n\n    multi = abilab.g0w0_with_ppmodel_inputs(\n        structure, pseudos, scf_kppa, nscf_nband, ecuteps, ecutsigx,\n        ecut=ecut, shifts=(0, 0, 0), # By default the k-mesh is shifted! TODO: Change default?\n        accuracy=\"normal\", spin_mode=\"unpolarized\", smearing=None,\n        #ppmodel=\"godby\", charge=0.0, scf_algorithm=None, inclvkb=2, scr_nband=None,\n        #sigma_nband=None, gw_qprange=1):\n    )\n    #multi.set_vars(paral_kgb=1)\n\n    scf_input, nscf_input, scr_input, sigma_input = multi.split_datasets()\n    work = flowtk.G0W0Work(scf_input, nscf_input, scr_input, sigma_input)\n    flow.register_work(work)\n\n    return flow\n\n\n# This block generates the thumbnails in the Abipy gallery.\n# You can safely REMOVE this part if you are using this script for production runs.\nif os.getenv(\"READTHEDOCS\", False):\n    __name__ = None\n    import tempfile\n    options = flowtk.build_flow_main_parser().parse_args([\"-w\", tempfile.mkdtemp()])\n    build_flow(options).graphviz_imshow()\n\n\n@flowtk.flow_main\ndef main(options):\n    \"\"\"\n    This is our main function that will be invoked by the script.\n    flow_main is a decorator implementing the command line interface.\n    Command line args are stored in `options`.\n    \"\"\"\n    return build_flow(options)\n\n\nif __name__ == \"__main__\":\n    sys.exit(main())"
      ]
    },
    {
      "cell_type": "markdown",
      "metadata": {},
      "source": [
        "Run the script with:\n\n    run_ht_si_g0w0ppm.py -s\n\nThe last task ``w0_t3`` is the SigmaTask who has produced a netcdf file with the GW results\nas you can we with the command:\n\n   abirun.py flow_ht_si_g0w0ppm/ listext SIGRES\n\nLet's print the QP results with:\n\n   abiopen.py flow_ht_si_g0w0ppm/w0/t3/outdata/out_SIGRES.nc  -p\n\n.. code-block:: bash\n\n      ================================= File Info =================================\n      Name: out_SIGRES.nc\n      Directory: /Users/gmatteo/git_repos/abipy/abipy/examples/flows/flow_ht_si_g0w0ppm/w0/t3/outdata\n      Size: 254.07 kb\n      Access Time: Sat Dec  9 19:16:05 2017\n      Modification Time: Sat Dec  9 15:16:15 2017\n      Change Time: Sat Dec  9 15:16:15 2017\n\n      ================================= Structure =================================\n      Full Formula (Si2)\n      Reduced Formula: Si\n      abc   :   3.866975   3.866975   3.866975\n      angles:  60.000000  60.000000  60.000000\n      Sites (2)\n        #  SP       a     b     c\n      ---  ----  ----  ----  ----\n        0  Si    0     0     0\n        1  Si    0.25  0.25  0.25\n\n      Abinit Spacegroup: spgid: 0, num_spatial_symmetries: 48, has_timerev: True, symmorphic: True\n\n      ============================== Kohn-Sham bands ==============================\n      Number of electrons: 8.0, Fermi level: 5.963 [eV]\n      nsppol: 1, nkpt: 8, mband: 40, nspinor: 1, nspden: 1\n      smearing scheme: none, tsmear_eV: 0.272, occopt: 1\n      Direct gap:\n          Energy: 2.512 [eV]\n          Initial state: spin=0, kpt=[+0.000, +0.000, +0.000], weight: 0.016, band=3, eig=5.640, occ=2.000\n          Final state:   spin=0, kpt=[+0.000, +0.000, +0.000], weight: 0.016, band=4, eig=8.152, occ=0.000\n      Fundamental gap:\n          Energy: 0.646 [eV]\n          Initial state: spin=0, kpt=[+0.000, +0.000, +0.000], weight: 0.016, band=3, eig=5.640, occ=2.000\n          Final state:   spin=0, kpt=[+0.500, +0.500, +0.000], weight: 0.047, band=4, eig=6.286, occ=0.000\n      Bandwidth: 11.867 [eV]\n      Valence minimum located at:\n          spin=0, kpt=[+0.000, +0.000, +0.000], weight: 0.016, band=0, eig=-6.227, occ=2.000\n      Valence maximum located at:\n          spin=0, kpt=[+0.000, +0.000, +0.000], weight: 0.016, band=3, eig=5.640, occ=2.000\n\n      ============================ QP direct gaps in eV ============================\n      QP_dirgap: 3.000 for K-point: [+0.000, +0.000, +0.000], spin: 0\n      QP_dirgap: 3.087 for K-point: [+0.250, +0.000, +0.000], spin: 0\n      QP_dirgap: 3.068 for K-point: [+0.500, +0.000, +0.000], spin: 0\n      QP_dirgap: 3.421 for K-point: [+0.250, +0.250, +0.000], spin: 0\n      QP_dirgap: 4.165 for K-point: [+0.500, +0.250, +0.000], spin: 0\n      QP_dirgap: 4.206 for K-point: [-0.250, +0.250, +0.000], spin: 0\n      QP_dirgap: 4.003 for K-point: [+0.500, +0.500, +0.000], spin: 0\n      QP_dirgap: 8.683 for K-point: [-0.250, +0.500, +0.250], spin: 0\n\n      ============== QP results for each k-point and spin (All in eV) ==============\n      K-point: [+0.000, +0.000, +0.000], spin: 0\n         band     e0    qpe  qpe_diago   vxcme  sigxme  sigcmee0  vUme    ze0\n      1     1  5.640  5.547      5.520 -11.156 -12.870     1.594   0.0  0.776\n      2     2  5.640  5.547      5.521 -11.156 -12.870     1.594   0.0  0.776\n      3     3  5.640  5.547      5.521 -11.156 -12.870     1.594   0.0  0.776\n      4     4  8.152  8.547      8.662  -9.969  -5.622    -3.837   0.0  0.774\n      5     5  8.152  8.547      8.662  -9.969  -5.622    -3.837   0.0  0.774\n      6     6  8.152  8.547      8.662  -9.969  -5.622    -3.837   0.0  0.774\n\n      K-point: [+0.250, +0.000, +0.000], spin: 0\n         band     e0    qpe  qpe_diago   vxcme  sigxme  sigcmee0  vUme    ze0\n      2     2  4.870  4.751      4.716 -10.936 -12.831     1.741   0.0  0.772\n      3     3  4.870  4.751      4.716 -10.936 -12.831     1.741   0.0  0.772\n      4     4  7.449  7.838      7.949 -10.031  -5.725    -3.806   0.0  0.778\n      5     5  9.108  9.534      9.660 -10.013  -5.381    -4.079   0.0  0.771\n      6     6  9.108  9.534      9.660 -10.013  -5.381    -4.079   0.0  0.771\n\n      K-point: [+0.500, +0.000, +0.000], spin: 0\n         band     e0    qpe  qpe_diago   vxcme  sigxme  sigcmee0  vUme    ze0\n      2     2  4.431  4.282      4.238 -10.908 -13.077     1.976   0.0  0.769\n      3     3  4.431  4.282      4.238 -10.908 -13.077     1.976   0.0  0.769\n      4     4  6.972  7.350      7.456 -10.016  -5.844    -3.687   0.0  0.781\n      5     5  8.982  9.410      9.534  -9.621  -4.942    -4.127   0.0  0.775\n      6     6  8.982  9.410      9.534  -9.621  -4.942    -4.127   0.0  0.775\n\n      K-point: [+0.250, +0.250, +0.000], spin: 0\n         band     e0    qpe  qpe_diago   vxcme  sigxme  sigcmee0  vUme    ze0\n      2     2  3.743  3.571      3.518 -10.603 -12.883     2.056   0.0  0.764\n      3     3  3.743  3.571      3.518 -10.603 -12.883     2.056   0.0  0.764\n      4     4  6.692  6.993      7.076  -9.352  -5.373    -3.595   0.0  0.783\n      5     5  8.669  9.035      9.139  -9.203  -4.548    -4.184   0.0  0.779\n\n      K-point: [+0.500, +0.250, +0.000], spin: 0\n         band      e0     qpe  qpe_diago   vxcme  sigxme  sigcmee0  vUme    ze0\n      2     2   2.099   1.893      1.825 -10.130 -12.839     2.435   0.0  0.752\n      3     3   3.427   3.242      3.184 -10.596 -13.077     2.238   0.0  0.761\n      4     4   7.086   7.408      7.496  -9.224  -5.065    -3.748   0.0  0.784\n      5     5  10.015  10.397     10.510  -9.594  -4.730    -4.369   0.0  0.771\n\n      K-point: [-0.250, +0.250, +0.000], spin: 0\n         band      e0     qpe  qpe_diago   vxcme  sigxme  sigcmee0  vUme    ze0\n      2     2   1.887   1.667      1.594  -9.982 -12.769     2.493   0.0  0.751\n      3     3   4.302   4.157      4.113 -10.820 -12.927     1.917   0.0  0.769\n      4     4   7.983   8.363      8.470  -9.567  -5.113    -3.966   0.0  0.779\n      5     5  10.350  10.800     10.942 -10.046  -4.859    -4.595   0.0  0.760\n\n      K-point: [+0.500, +0.500, +0.000], spin: 0\n         band     e0    qpe  qpe_diago   vxcme  sigxme  sigcmee0  vUme    ze0\n      2     2  2.784  2.567      2.497 -10.480 -13.270     2.503   0.0  0.755\n      3     3  2.784  2.567      2.497 -10.480 -13.270     2.503   0.0  0.755\n      4     4  6.286  6.571      6.647  -9.003  -5.038    -3.603   0.0  0.787\n      5     5  6.286  6.571      6.647  -9.003  -5.038    -3.603   0.0  0.787\n\n      K-point: [-0.250, +0.500, +0.250], spin: 0\n         band     e0     qpe  qpe_diago  vxcme  sigxme  sigcmee0  vUme    ze0\n      2     2  1.787   1.557      1.481 -9.917 -12.751     2.527   0.0  0.749\n      3     3  1.787   1.557      1.481 -9.917 -12.751     2.527   0.0  0.749\n      4     4  9.875  10.241     10.347 -9.523  -4.876    -4.176   0.0  0.775\n      5     5  9.875  10.241     10.347 -9.523  -4.876    -4.176   0.0  0.775\n\nwe can also plot the QP data as function of the initial KS energy with ipython:\n\n   abiopen.py flow_ht_si_g0w0ppm/w0/t3/outdata/out_SIGRES.nc\n\n.. code-block:: ipython\n\n      In [1]: %matplotlib\n      In [2]: abifile.plot_qps_vs_e0()\n\n<img src=\"https://github.com/abinit/abipy_assets/blob/master/run_ht_si_g0w0_ppm.png?raw=true\" alt=\"QP results in Si plotted vs the KS energy e0.\">\n\n\n"
      ]
    }
  ],
  "metadata": {
    "kernelspec": {
      "display_name": "Python 3",
      "language": "python",
      "name": "python3"
    },
    "language_info": {
      "codemirror_mode": {
        "name": "ipython",
        "version": 3
      },
      "file_extension": ".py",
      "mimetype": "text/x-python",
      "name": "python",
      "nbconvert_exporter": "python",
      "pygments_lexer": "ipython3",
      "version": "3.8.0"
    }
  },
  "nbformat": 4,
  "nbformat_minor": 0
}