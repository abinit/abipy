{
  "cells": [
    {
      "cell_type": "code",
      "execution_count": null,
      "metadata": {
        "collapsed": false
      },
      "outputs": [],
      "source": [
        "%matplotlib inline"
      ]
    },
    {
      "cell_type": "markdown",
      "metadata": {},
      "source": [
        "\n# Nnon-linear optical properties with DFPT\n\nFlow to compute non-linear optical properties with DFPT (static limit).\n"
      ]
    },
    {
      "cell_type": "code",
      "execution_count": null,
      "metadata": {
        "collapsed": false
      },
      "outputs": [],
      "source": [
        "import sys\nimport os\nimport abipy.flowtk as flowtk\nimport abipy.data as abidata\n\nfrom abipy import abilab\n\n# NB: This flow requires abinit >= \"8.5.2\"\n\n\ndef make_scf_input(ecut=10, ngkpt=(8, 8, 8)):\n    \"\"\"\n    This function constructs an `AbinitInput` for performing a\n    GS-SCF calculation in crystalline AlAs.\n\n    Args:\n        ecut: cutoff energy in Ha.\n        ngkpt: 3 integers specifying the k-mesh for the electrons.\n\n    Return:\n        `AbinitInput` object\n    \"\"\"\n    # Initialize the AlAs structure from an internal database. Use the pseudos shipped with AbiPy.\n    gs_inp = abilab.AbinitInput(structure=abidata.structure_from_ucell(\"AlAs\"),\n                                pseudos=abidata.pseudos(\"13al.981214.fhi\", \"33as.pspnc\"))\n\n    # Set the value of the Abinit variables needed for GS runs.\n    gs_inp.set_vars(\n        nband=4,\n        ecut=ecut,\n        ngkpt=ngkpt,\n        nshiftk=1,\n        shiftk=[0.0, 0.0, 0.0],\n        ixc=7,\n        nstep=500,\n        iscf=7,\n        diemac=5.0,\n        toldfe=1.0e-22,\n        nbdbuf=0,\n        kptopt=1,\n    )\n\n    #gs_inp.set_mnemonics(True)\n    return gs_inp\n\n\ndef build_flow(options):\n    if not options.workdir:\n        options.workdir = os.path.basename(sys.argv[0]).replace(\".py\", \"\").replace(\"run_\", \"flow_\")\n\n    scf_input = make_scf_input(ecut=10, ngkpt=(6, 6, 6))\n    return flowtk.NonLinearCoeffFlow.from_scf_input(options.workdir, scf_input)\n\n\n# This block generates the thumbnails in the AbiPy gallery.\n# You can safely REMOVE this part if you are using this script for production runs.\nif os.getenv(\"READTHEDOCS\", False):\n    __name__ = None\n    import tempfile\n    options = flowtk.build_flow_main_parser().parse_args([\"-w\", tempfile.mkdtemp()])\n    build_flow(options).graphviz_imshow()\n\n\n@flowtk.flow_main\ndef main(options):\n    \"\"\"\n    This is our main function that will be invoked by the script.\n    flow_main is a decorator implementing the command line interface.\n    Command line args are stored in `options`.\n    \"\"\"\n    return build_flow(options)\n\n\nif __name__ == \"__main__\":\n    sys.exit(main())"
      ]
    }
  ],
  "metadata": {
    "kernelspec": {
      "display_name": "Python 3",
      "language": "python",
      "name": "python3"
    },
    "language_info": {
      "codemirror_mode": {
        "name": "ipython",
        "version": 3
      },
      "file_extension": ".py",
      "mimetype": "text/x-python",
      "name": "python",
      "nbconvert_exporter": "python",
      "pygments_lexer": "ipython3",
      "version": "3.8.0"
    }
  },
  "nbformat": 4,
  "nbformat_minor": 0
}