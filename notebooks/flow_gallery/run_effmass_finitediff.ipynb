{
  "cells": [
    {
      "cell_type": "code",
      "execution_count": null,
      "metadata": {
        "collapsed": false
      },
      "outputs": [],
      "source": [
        "%matplotlib inline"
      ]
    },
    {
      "cell_type": "markdown",
      "metadata": {},
      "source": [
        "\n# Effective masses with finite difference\n\nFlow to compute effective masses with finite difference method.\nDerivatives are computed along lines in k-space.\n"
      ]
    },
    {
      "cell_type": "code",
      "execution_count": null,
      "metadata": {
        "collapsed": false
      },
      "outputs": [],
      "source": [
        "import sys\nimport os\nimport abipy.data as abidata\nimport abipy.abilab as abilab\nimport abipy.flowtk as flowtk\n\n\ndef make_scf_input(nspinor=1, usepaw=0):\n    \"\"\"Returns GS input file for Silicon\"\"\"\n    if nspinor == 1:\n        pseudos = abidata.pseudos(\"14si.pspnc\") if usepaw == 0 else abidata.pseudos(\"Si.GGA_PBE-JTH-paw.xml\")\n    else:\n        pseudos = abidata.pseudos(\"Si_r.psp8\") if usepaw == 0 else abidata.pseudos(\"Si.GGA_PBE-JTH-paw.xml\")\n\n    structure = dict(\n         ntypat=1,\n         natom=2,\n         typat=[1, 1],\n         znucl=14,\n         #acell=3 * [10.26310667319252], # https://docs.abinit.org/tests/v7/Input/t82.in\n         acell=3 * [10.2073557], # 5.4015 Ang\n         rprim=[[0.0,  0.5,  0.5],\n                [0.5,  0.0,  0.5],\n                [0.5,  0.5,  0.0]],\n         xred=[ [0.0 , 0.0 , 0.0],\n                [0.25, 0.25, 0.25]],\n    )\n\n    # Build input\n    scf_input = abilab.AbinitInput(structure=structure, pseudos=pseudos)\n\n    # Set variables\n    scf_input.set_vars(\n        ecut=12,\n        nband=8 if nspinor == 1 else 16,\n        nspinor=nspinor,\n        tolvrs=1e-8,\n    )\n\n    if scf_input.ispaw:\n        scf_input.set_vars(pawecutdg=2 * scf_input[\"ecut\"])\n\n    scf_input.set_kmesh(ngkpt=[8, 8, 8], shiftk=[0, 0, 0])\n\n    return scf_input\n\n\ndef build_flow(options):\n    # Set working directory (default is the name of the script with '.py' removed and \"run_\" replaced by \"flow_\")\n    if not options.workdir:\n        options.workdir = os.path.basename(sys.argv[0]).replace(\".py\", \"\").replace(\"run_\", \"flow_\")\n\n    # Get the SCF input (here NC with SOC)\n    scf_input = make_scf_input(nspinor=2, usepaw=0)\n\n    # Build the flow with different steps.\n    from abipy.flowtk.effmass_works import EffMassLineWork\n    flow = flowtk.Flow(workdir=options.workdir, manager=options.manager)\n\n    # Multiple calculations with different step for finite difference.\n    for i, step in enumerate((0.01, 0.005)):\n        if i == 0: den_node = None\n        work = EffMassLineWork.from_scf_input(scf_input, k0_list=(0, 0, 0),\n                                              step=step, npts=10,\n                                              red_dirs=[[1, 0, 0], [1, 1, 0]],\n                                              cart_dirs=[[1, 0, 0], [1, 1, 1], [1, 1, 0]],\n                                              den_node=den_node)\n        # Will start from the DEN file produced in the first iteration.\n        if i == 0: den_node = work[0]\n        flow.register_work(work)\n\n    return flow\n\n\n# This block generates the thumbnails in the Abipy gallery.\n# You can safely REMOVE this part if you are using this script for production runs.\nif os.getenv(\"READTHEDOCS\", False):\n    __name__ = None\n    import tempfile\n    options = flowtk.build_flow_main_parser().parse_args([\"-w\", tempfile.mkdtemp()])\n    build_flow(options).graphviz_imshow()\n\n\n@flowtk.flow_main\ndef main(options):\n    \"\"\"\n    This is our main function that will be invoked by the script.\n    flow_main is a decorator implementing the command line interface.\n    Command line args are stored in `options`.\n    \"\"\"\n    return build_flow(options)\n\n\nif __name__ == \"__main__\":\n    sys.exit(main())"
      ]
    },
    {
      "cell_type": "markdown",
      "metadata": {},
      "source": [
        "Run the script with:\n\n    run_effmass_finitediff -s\n\n"
      ]
    }
  ],
  "metadata": {
    "kernelspec": {
      "display_name": "Python 3",
      "language": "python",
      "name": "python3"
    },
    "language_info": {
      "codemirror_mode": {
        "name": "ipython",
        "version": 3
      },
      "file_extension": ".py",
      "mimetype": "text/x-python",
      "name": "python",
      "nbconvert_exporter": "python",
      "pygments_lexer": "ipython3",
      "version": "3.8.0"
    }
  },
  "nbformat": 4,
  "nbformat_minor": 0
}