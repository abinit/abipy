{
  "cells": [
    {
      "cell_type": "code",
      "execution_count": null,
      "metadata": {
        "collapsed": false
      },
      "outputs": [],
      "source": [
        "%matplotlib inline"
      ]
    },
    {
      "cell_type": "markdown",
      "metadata": {},
      "source": [
        "\n# Dynamical quadrupoles\n\nThis example shows how to compute the dynamical matrix of GaP on user-defined q-mesh\nincluding Born effective charges, the macroscopic dielectric matric and the dynamical quadrupoles Q*.\nThe final results (out_DDB, out_DVDB) will be produced automatically at the end of the run\nand saved in ``flow_phonons_with_quad/outdata/``.\n\nThe Q* tensor may be needed to improve the accuracy of the Fourier interpolation of the phonon frequencies,\nespecially in the long-wavelength limit |q| --> 0.\n\nThis example is based on  <https://docs.abinit.org/tests/tutorespfn/Input/tlw_4.abi>\nNote that only selected features are compatible with dynamical quadrupoles.\nPlease consult <https://docs.abinit.org/topics/longwave/>\n"
      ]
    },
    {
      "cell_type": "code",
      "execution_count": null,
      "metadata": {
        "collapsed": false
      },
      "outputs": [],
      "source": [
        "import sys\nimport os\nimport abipy.abilab as abilab\nimport abipy.data as abidata\n\nfrom abipy import flowtk\n\n\ndef build_flow(options):\n    \"\"\"\n    Create a `Flow` for phonon calculations including\n    eps_inf, Born effective charges and  dynamical quadrupoles\n    \"\"\"\n    # Working directory (default is the name of the script with '.py' removed and \"run_\" replaced by \"flow_\")\n    if not options.workdir:\n        options.workdir = os.path.basename(sys.argv[0]).replace(\".py\", \"\").replace(\"run_\", \"flow_\")\n\n    pseudos = abidata.pseudos(\"31-Ga.LDA.fhi\", \"15-P.LDA.fhi\")\n\n    # Initialize the structure from an abinit string\n    # Other approaches (e.g. from cif files) are available as well.\n    structure = abilab.Structure.from_abistring(\"\"\"\n acell 1.0 1.0 1.0\n rprim 0.0 5.023016083002 5.023016083002\n       5.023016083002 0.0 5.023016083002\n       5.023016083002 5.023016083002 0.0\n\n # Definition of the atom types and positions\n # ******************************************\n ntypat 2\n znucl  31 15\n natom 2\n typat 1 2\n xred\n         0.0000000      0.0000000      0.0000000\n         0.2500000      0.2500000      0.2500000\n\"\"\")\n\n    # Build input for GS calculation\n    scf_input = abilab.AbinitInput(structure, pseudos=pseudos)\n\n    # We use parameters similar to the ones in https://docs.abinit.org/tests/tutorespfn/Input/tlw_4.abi\n    scf_input.set_vars(\n        nband=4,\n        ecut=5.0,\n        ngkpt=[4, 4, 4],\n        shiftk=[\n            [0.5, 0.5, 0.5],\n            [0.5, 0.0, 0.0],\n            [0.0, 0.5, 0.0],\n            [0.0, 0.0, 0.5],\n        ],\n        diemac=12.0,\n        nstep=100,\n        tolvrs=1.0e-10,\n        #tolvrs=1.0e-18,  # This is the value used in tlw_4.abi\n                          # but it is not always possible to reach this precision in more complex systems.\n        #useylm=1,\n        #ixc=7\n        #iomode=3,\n        #paral_kgb=1,\n    )\n\n    # At the time of writing, Q* calculations are implemented only for\n    # NC LDA scalar-relativistic pseudos without non-linear core correction.\n    # This section shows how to use the Pseudo API to perform this kind of check\n    # before runnnig the calculation.\n    for pseudo in scf_input.pseudos:\n        # print(pseudo)\n        if not pseudo.isnc:\n            raise RuntimeError(\"Only NC pseudos are compatible with Q*\")\n        if pseudo.has_nlcc:\n            raise RuntimeError(\"NLCC is not compatible with Q*\")\n        if pseudo.xc.type != \"LDA\":\n            raise RuntimeError(\"Only LDA is compatible with Q*\")\n\n    # Initialize the flow\n    flow = flowtk.Flow(workdir=options.workdir, manager=options.manager)\n\n    # Compute phonons on the ddb_ngqpt q-mesh.\n    # Include Born effective charges and dynamical quadrupoles via `with_quad=True`.\n    #\n    ddb_ngqpt = [1, 1, 1]\n    #ddb_ngqpt = [4, 4, 4]\n    ph_work = flowtk.PhononWork.from_scf_input(scf_input, qpoints=ddb_ngqpt,\n                                               is_ngqpt=True, with_becs=True, with_quad=True)\n\n    # Add the phonon work to the flow\n    flow.register_work(ph_work)\n\n    return flow\n\n\n# This block generates the thumbnails in the AbiPy gallery.\n# You can safely REMOVE this part if you are using this script for production runs.\nif os.getenv(\"READTHEDOCS\", False):\n    __name__ = None\n    import tempfile\n    options = flowtk.build_flow_main_parser().parse_args([\"-w\", tempfile.mkdtemp()])\n    build_flow(options).graphviz_imshow()\n\n\n@flowtk.flow_main\ndef main(options):\n    \"\"\"\n    This is our main function that will be invoked by the script.\n    flow_main is a decorator implementing the command line interface.\n    Command line args are stored in `options`.\n    \"\"\"\n    return build_flow(options)\n\n\nif __name__ == \"__main__\":\n    sys.exit(main())"
      ]
    }
  ],
  "metadata": {
    "kernelspec": {
      "display_name": "Python 3",
      "language": "python",
      "name": "python3"
    },
    "language_info": {
      "codemirror_mode": {
        "name": "ipython",
        "version": 3
      },
      "file_extension": ".py",
      "mimetype": "text/x-python",
      "name": "python",
      "nbconvert_exporter": "python",
      "pygments_lexer": "ipython3",
      "version": "3.8.0"
    }
  },
  "nbformat": 4,
  "nbformat_minor": 0
}