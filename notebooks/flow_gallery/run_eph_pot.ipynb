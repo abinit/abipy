{
  "cells": [
    {
      "cell_type": "code",
      "execution_count": null,
      "metadata": {
        "collapsed": false
      },
      "outputs": [],
      "source": [
        "%matplotlib inline"
      ]
    },
    {
      "cell_type": "markdown",
      "metadata": {},
      "source": [
        "\n# Flow to compute e-ph scattering potentials\n\nThis example shows how to compute e-ph scattering potentials\nalong a q-path, merge the POT files in the DVDB file and use the\nDVDB and the DDB file to analyze the average over the unit cell of the\nperiodic part as a function of q\n"
      ]
    },
    {
      "cell_type": "code",
      "execution_count": null,
      "metadata": {
        "collapsed": false
      },
      "outputs": [],
      "source": [
        "import sys\nimport os\nimport abipy.abilab as abilab\nimport abipy.data as abidata\n\nfrom abipy import flowtk\n\n\ndef make_scf_input(ngkpt):\n    \"\"\"\n    This function constructs the input file for the GS calculation:\n    \"\"\"\n    structure = dict(\n        angdeg=3*[60.0],\n        acell=3*[7.1992351952],\n        natom=2,\n        ntypat=2,\n        typat=[1, 2],\n        znucl=[31, 15],\n        xred=[\n            0.0000000000, 0.0000000000, 0.0000000000,\n            0.2500000000, 0.2500000000, 0.2500000000,\n        ])\n\n    pseudos = abidata.pseudos(\"Ga.oncvpsp\", \"P.psp8\")\n    gs_inp = abilab.AbinitInput(structure, pseudos=pseudos)\n\n    gs_inp.set_vars(\n        nband=8,\n        ecut=20.0,   # Too low\n        ngkpt=ngkpt,\n        nshiftk=1,\n        shiftk=[0, 0, 0],\n        tolvrs=1.0e-8,\n        nstep=150,\n        paral_kgb=0,\n    )\n\n    return gs_inp\n\n\ndef build_flow(options):\n    \"\"\"\n    Create a `Flow` for phonon calculations. The flow has two works.\n\n    The first work contains a single GS task that produces the WFK file used in DFPT\n    Then we have multiple Works that are generated automatically\n    in order to compute the dynamical matrix on a [2, 2, 2] mesh.\n    Symmetries are taken into account: only q-points in the IBZ are generated and\n    for each q-point only the independent atomic perturbations are computed.\n    \"\"\"\n    # Working directory (default is the name of the script with '.py' removed and \"run_\" replaced by \"flow_\")\n    if not options.workdir:\n        options.workdir = os.path.basename(sys.argv[0]).replace(\".py\", \"\").replace(\"run_\", \"flow_\")\n\n    # Use 2x2x2 both for k-mesh and q-mesh\n    # Build input for GS calculation\n    scf_input = make_scf_input(ngkpt=(2, 2, 2))\n\n    # Create flow to compute all the independent atomic perturbations\n    # corresponding to a [4, 4, 4] q-mesh.\n    # Electric field and Born effective charges are also computed.\n    from abipy.flowtk.eph_flows import EphPotFlow\n    ngqpt = [2, 2, 2]\n\n    qpath_list = [\n        +0.10000,  +0.10000,  +0.10000,  # L -> G\n        +0.00000,  +0.00000,  +0.00000,  # $\\Gamma$\n        +0.10000,  +0.00000,  +0.10000,  # G -> X\n\n        #+0.50000,  +0.50000,  +0.50000,  # L\n        #+0.00000,  +0.00000,  +0.00000,  # $\\Gamma$\n        #+0.50000,  +0.00000,  +0.50000,  # X\n        #+0.50000,  +0.25000,  +0.75000,  # W\n        #+0.37500,  +0.37500,  +0.75000,  # K\n        #+0.00000,  +0.00000,  +0.00000,  # $\\Gamma$\n        #+0.50000,  +0.25000,  +0.75000,  # W\n        #+0.62500  +0.25000  +0.62500  # U\n        #+0.50000  +0.25000  +0.75000  # W\n        #+0.50000  +0.50000  +0.50000  # L\n        #+0.37500  +0.37500  +0.75000  # K\n        #+0.62500  +0.25000  +0.62500  # U\n        #+0.50000  +0.00000  +0.50000  # X\n    ]\n\n    # Use small ndivsm to reduce computing time.\n    flow = EphPotFlow.from_scf_input(options.workdir, scf_input,\n                                     ngqpt, qpath_list, ndivsm=2, ddk_tolerance={\"tolwfr\": 1e-12},\n                                     with_becs=True)\n\n    return flow\n\n\n# This block generates the thumbnails in the Abipy gallery.\n# You can safely REMOVE this part if you are using this script for production runs.\nif os.getenv(\"READTHEDOCS\", False):\n    __name__ = None\n    import tempfile\n    options = flowtk.build_flow_main_parser().parse_args([\"-w\", tempfile.mkdtemp()])\n    build_flow(options).graphviz_imshow()\n\n\n@flowtk.flow_main\ndef main(options):\n    \"\"\"\n    This is our main function that will be invoked by the script.\n    flow_main is a decorator implementing the command line interface.\n    Command line args are stored in `options`.\n    \"\"\"\n    return build_flow(options)\n\n\nif __name__ == \"__main__\":\n    sys.exit(main())"
      ]
    }
  ],
  "metadata": {
    "kernelspec": {
      "display_name": "Python 3",
      "language": "python",
      "name": "python3"
    },
    "language_info": {
      "codemirror_mode": {
        "name": "ipython",
        "version": 3
      },
      "file_extension": ".py",
      "mimetype": "text/x-python",
      "name": "python",
      "nbconvert_exporter": "python",
      "pygments_lexer": "ipython3",
      "version": "3.8.0"
    }
  },
  "nbformat": 4,
  "nbformat_minor": 0
}