{
  "cells": [
    {
      "cell_type": "code",
      "execution_count": null,
      "metadata": {
        "collapsed": false
      },
      "outputs": [],
      "source": [
        "%matplotlib inline"
      ]
    },
    {
      "cell_type": "markdown",
      "metadata": {},
      "source": [
        "\n# Optic Flow\n\nThis example shows how to create a flow to compute optical spectra with Optic\n(independent particle approximation, no local field effects) and perform\na convergence study with respect to the k-point sampling.\n"
      ]
    },
    {
      "cell_type": "code",
      "execution_count": null,
      "metadata": {
        "collapsed": false
      },
      "outputs": [],
      "source": [
        "import sys\nimport os\nimport abipy.data as abidata\nimport abipy.abilab as abilab\nimport abipy.flowtk as flowtk\n\n\ndef build_flow(options, paral_kgb=0):\n    \"\"\"\n    Build flow for the calculation of optical properties with optic + band structure\n    along high-symmetry k-path. DDK are computed with 3 k-meshes of increasing density\n    to monitor the convergece of the spectra.\n    \"\"\"\n    # Working directory (default is the name of the script with '.py' removed and \"run_\" replaced by \"flow_\")\n    if not options.workdir:\n        options.workdir = os.path.basename(sys.argv[0]).replace(\".py\", \"\").replace(\"run_\", \"flow_\")\n\n    multi = abilab.MultiDataset(structure=abidata.structure_from_ucell(\"GaAs\"),\n                                pseudos=abidata.pseudos(\"31ga.pspnc\", \"33as.pspnc\"), ndtset=2)\n\n    # Usa same shifts in all tasks.\n    shiftk = [[0.5, 0.5, 0.5],\n              [0.5, 0.0, 0.0],\n              [0.0, 0.5, 0.0],\n              [0.0, 0.0, 0.5]]\n\n    # Global variables.\n    multi.set_vars(ecut=2, paral_kgb=paral_kgb)\n\n    # Dataset 1 (GS run)\n    multi[0].set_vars(tolvrs=1e-8, nband=4)\n    multi[0].set_kmesh(ngkpt=[4, 4, 4], shiftk=shiftk)\n\n    # NSCF run on k-path with large number of bands\n    multi[1].set_vars(iscf=-2, nband=20, tolwfr=1.e-9)\n    multi[1].set_kpath(ndivsm=10)\n\n    # Initialize the flow.\n    flow = flowtk.Flow(options.workdir, manager=options.manager)\n\n    # GS to get the density + NSCF along the path.\n    scf_inp, nscf_inp = multi.split_datasets()\n    bands_work = flowtk.BandStructureWork(scf_inp, nscf_inp)\n    flow.register_work(bands_work)\n\n    # Build OpticInput used to compute optical properties.\n    optic_input = abilab.OpticInput(\n        broadening=0.002,          # Value of the smearing factor, in Hartree\n        domega=0.0003,             # Frequency mesh.\n        maxomega=0.3,\n        scissor=0.000,             # Scissor shift if needed, in Hartree\n        tolerance=0.002,           # Tolerance on closeness of singularities (in Hartree)\n        num_lin_comp=2,            # Number of components of linear optic tensor to be computed\n        lin_comp=(11, 33),         # Linear coefficients to be computed (x=1, y=2, z=3)\n        num_nonlin_comp=2,         # Number of components of nonlinear optic tensor to be computed\n        nonlin_comp=(123, 222),    # Non-linear coefficients to be computed\n    )\n\n    # ddk_nband is fixed here, in principle it depends on nelect and the frequency range in chi(w).\n    ddk_nband = 20\n\n    # Perform converge study wrt ngkpt (shiftk is constant).\n    ngkpt_convergence = [[4, 4, 4], [8, 8, 8], [16, 16, 16]]\n\n    from abipy.flowtk.dfpt_works import NscfDdksWork\n    for ddk_ngkpt in ngkpt_convergence:\n        # Build work for NSCF from DEN produced by the first GS task + 3 DDKs.\n        # All tasks use more bands and a denser k-mesh defined by ddk_ngkpt.\n        ddks_work = NscfDdksWork.from_scf_task(bands_work[0], ddk_ngkpt, shiftk, ddk_nband)\n        flow.register_work(ddks_work)\n\n        # Build optic task to compute chi with this value of ddk_ngkpt.\n        optic_task = flowtk.OpticTask(optic_input, nscf_node=ddks_work.task_with_ks_energies,\n                                      ddk_nodes=ddks_work.ddk_tasks, use_ddknc=False)\n        ddks_work.register_task(optic_task)\n\n    return flow\n\n\n# This block generates the thumbnails in the AbiPy gallery.\n# You can safely REMOVE this part if you are using this script for production runs.\nif os.getenv(\"READTHEDOCS\", False):\n    __name__ = None\n    import tempfile\n    options = flowtk.build_flow_main_parser().parse_args([\"-w\", tempfile.mkdtemp()])\n    build_flow(options).graphviz_imshow()\n\n\n@flowtk.flow_main\ndef main(options):\n    \"\"\"\n    This is our main function that will be invoked by the script.\n    flow_main is a decorator implementing the command line interface.\n    Command line args are stored in `options`.\n    \"\"\"\n    return build_flow(options)\n\n\nif __name__ == \"__main__\":\n    sys.exit(main())"
      ]
    },
    {
      "cell_type": "markdown",
      "metadata": {},
      "source": [
        "Run the script with:\n\n    run_optic.py -s\n\nthen use:\n\n   abirun.py flow_optic robot optic\n\nto create a robot for OPTIC.nc files. Then inside the ipytho shell type:\n\n.. code-block:: ipython\n\n   In [1]: %matplotlib\n   In [2]: robot.plot_linopt_convergence()\n\n<img src=\"https://github.com/abinit/abipy_assets/blob/master/run_optic.png?raw=true\" alt=\"Convergence of (linear) optical spectra wrt k-points.\">\n\n\n"
      ]
    }
  ],
  "metadata": {
    "kernelspec": {
      "display_name": "Python 3",
      "language": "python",
      "name": "python3"
    },
    "language_info": {
      "codemirror_mode": {
        "name": "ipython",
        "version": 3
      },
      "file_extension": ".py",
      "mimetype": "text/x-python",
      "name": "python",
      "nbconvert_exporter": "python",
      "pygments_lexer": "ipython3",
      "version": "3.8.0"
    }
  },
  "nbformat": 4,
  "nbformat_minor": 0
}