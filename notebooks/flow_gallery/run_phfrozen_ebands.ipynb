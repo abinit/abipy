{
  "cells": [
    {
      "cell_type": "code",
      "execution_count": null,
      "metadata": {
        "collapsed": false
      },
      "outputs": [],
      "source": [
        "%matplotlib inline"
      ]
    },
    {
      "cell_type": "markdown",
      "metadata": {},
      "source": [
        "\n# Flow for e-Bands with frozen phonon\n\nElectronic band structure of silicon in a distorted geometry (frozen phonon at q=0)\n"
      ]
    },
    {
      "cell_type": "code",
      "execution_count": null,
      "metadata": {
        "collapsed": false
      },
      "outputs": [],
      "source": [
        "import sys\nimport os\nimport numpy as np\nimport abipy.data as data\nimport abipy.abilab as abilab\nimport abipy.flowtk as flowtk\n\n\ndef make_scf_nscf_inputs(structure, paral_kgb=1):\n    multi = abilab.MultiDataset(structure, pseudos=data.pseudos(\"14si.pspnc\"), ndtset=2)\n\n    # Global variables\n    global_vars = dict(\n        ecut=6,\n        nband=8,\n        timopt=-1,\n        paral_kgb=0,\n        #nstep=4, # This is not enough to converge. Used to test the automatic restart.\n        nstep=10,\n        iomode=3,\n    )\n\n    multi.set_vars(global_vars)\n\n    # Dataset 1 (GS run)\n    multi[0].set_kmesh(ngkpt=[8,8,8], shiftk=[0,0,0])\n    multi[0].set_vars(tolvrs=1e-6)\n\n    # Dataset 2 (NSCF run)\n    kptbounds = [\n        [0.5, 0.0, 0.0], # L point\n        [0.0, 0.0, 0.0], # Gamma point\n        [0.0, 0.5, 0.5], # X point\n    ]\n\n    multi[1].set_kpath(ndivsm=6, kptbounds=kptbounds)\n    multi[1].set_vars(tolwfr=1e-12)\n\n    # Generate two input files for the GS and the NSCF run\n    scf_input, nscf_input = multi.split_datasets()\n\n    return scf_input, nscf_input\n\n\ndef build_flow(options):\n    # Working directory (default is the name of the script with '.py' removed and \"run_\" replaced by \"flow_\")\n    if not options.workdir:\n        options.workdir = os.path.basename(sys.argv[0]).replace(\".py\", \"\").replace(\"run_\", \"flow_\")\n\n    # build the structures\n    base_structure = abilab.Structure.from_file(data.cif_file(\"si.cif\"))\n    modifier = abilab.StructureModifier(base_structure)\n\n    etas = [-0.1, 0, +0.1]\n    ph_displ = np.reshape(np.zeros(3*len(base_structure)), (-1,3))\n    ph_displ[0,:] = [+1, 0, 0]\n    ph_displ[1,:] = [-1, 0, 0]\n\n    displaced_structures = modifier.displace(ph_displ, etas, frac_coords=False)\n\n    flow = flowtk.Flow(options.workdir, manager=options.manager)\n\n    for structure in displaced_structures:\n        # Create the work for the band structure calculation.\n        scf_input, nscf_input = make_scf_nscf_inputs(structure)\n\n        work = flowtk.BandStructureWork(scf_input, nscf_input)\n        flow.register_work(work)\n\n    return flow\n\n\n# This block generates the thumbnails in the AbiPy gallery.\n# You can safely REMOVE this part if you are using this script for production runs.\nif os.getenv(\"READTHEDOCS\", False):\n    __name__ = None\n    import tempfile\n    options = flowtk.build_flow_main_parser().parse_args([\"-w\", tempfile.mkdtemp()])\n    build_flow(options).graphviz_imshow()\n\n\n@flowtk.flow_main\ndef main(options):\n    \"\"\"\n    This is our main function that will be invoked by the script.\n    flow_main is a decorator implementing the command line interface.\n    Command line args are stored in `options`.\n    \"\"\"\n    return build_flow(options)\n\n\nif __name__ == \"__main__\":\n    sys.exit(main())"
      ]
    },
    {
      "cell_type": "markdown",
      "metadata": {},
      "source": [
        "Run the script with:\n\n    run_phfrozen_ebands -s\n\nthen use:\n\n   abirun.py flow_phfrozen_ebands/ structures -v\n\nto analyze the input/output structures including the atomic positions:\n\n.. code-block:: bash\n\n      Lattice parameters:\n                formula  natom  angle0  angle1  angle2      a      b      c  volume  \\\n      w0_t0_in      Si2      2    60.0    60.0    60.0  3.867  3.867  3.867  40.888\n      w0_t0_out     Si2      2    60.0    60.0    60.0  3.867  3.867  3.867  40.888\n      w0_t1_in      Si2      2    60.0    60.0    60.0  3.867  3.867  3.867  40.888\n      w1_t0_in      Si2      2    60.0    60.0    60.0  3.867  3.867  3.867  40.888\n      w1_t0_out     Si2      2    60.0    60.0    60.0  3.867  3.867  3.867  40.888\n      w1_t1_in      Si2      2    60.0    60.0    60.0  3.867  3.867  3.867  40.888\n      w2_t0_in      Si2      2    60.0    60.0    60.0  3.867  3.867  3.867  40.888\n      w2_t0_out     Si2      2    60.0    60.0    60.0  3.867  3.867  3.867  40.888\n      w2_t1_in      Si2      2    60.0    60.0    60.0  3.867  3.867  3.867  40.888\n\n                abispg_num  P [GPa]  Max|F| eV/ang task_class              status\n      w0_t0_in        None      NaN            NaN    ScfTask  Completed\n      w0_t0_out         12   -3.638      3.180e+00    ScfTask  Completed\n      w0_t1_in        None      NaN            NaN   NscfTask  Completed\n      w1_t0_in        None      NaN            NaN    ScfTask  Completed\n      w1_t0_out        227   -5.212      7.430e-27    ScfTask  Completed\n      w1_t1_in        None      NaN            NaN   NscfTask  Completed\n      w2_t0_in        None      NaN            NaN    ScfTask  Completed\n      w2_t0_out         12   -4.192      2.095e+00    ScfTask  Completed\n      w2_t1_in        None      NaN            NaN   NscfTask  Completed\n\n      Atomic positions (columns give the site index):\n                                                   0  \\\n      w0_t0_in   (Si, +0.970139 +0.000000 +0.014930)\n      w0_t0_out  (Si, +0.970139 +0.000000 +0.014930)\n      w0_t1_in   (Si, +0.970139 +0.000000 +0.014930)\n      w1_t0_in   (Si, +0.000000 +0.000000 +0.000000)\n      w1_t0_out  (Si, +0.000000 +0.000000 +0.000000)\n      w1_t1_in   (Si, +0.000000 +0.000000 +0.000000)\n      w2_t0_in   (Si, +0.029861 +0.000000 +0.985070)\n      w2_t0_out  (Si, +0.029861 +0.000000 +0.985070)\n      w2_t1_in   (Si, +0.029861 +0.000000 +0.985070)\n\n                                                   1              status\n      w0_t0_in   (Si, +0.279861 +0.250000 +0.235070)  Completed\n      w0_t0_out  (Si, +0.279861 +0.250000 +0.235070)  Completed\n      w0_t1_in   (Si, +0.279861 +0.250000 +0.235070)  Completed\n      w1_t0_in   (Si, +0.250000 +0.250000 +0.250000)  Completed\n      w1_t0_out  (Si, +0.250000 +0.250000 +0.250000)  Completed\n      w1_t1_in   (Si, +0.250000 +0.250000 +0.250000)  Completed\n      w2_t0_in   (Si, +0.220139 +0.250000 +0.264930)  Completed\n      w2_t0_out  (Si, +0.220139 +0.250000 +0.264930)  Completed\n      w2_t1_in   (Si, +0.220139 +0.250000 +0.264930)  Completed\n\n Finally, we can plot the electronic bands with the command:\n\n   abirun.py flow_phfrozen_ebands ebands -p -t NscfTask\n\n to select only the band structures produced by the NscfTask.\n\n<img src=\"https://github.com/abinit/abipy_assets/blob/master/run_phfrozen_ebands.png?raw=true\" alt=\"Band structures of Si computed for different displacement amplitudes.\">\n\n\n"
      ]
    }
  ],
  "metadata": {
    "kernelspec": {
      "display_name": "Python 3",
      "language": "python",
      "name": "python3"
    },
    "language_info": {
      "codemirror_mode": {
        "name": "ipython",
        "version": 3
      },
      "file_extension": ".py",
      "mimetype": "text/x-python",
      "name": "python",
      "nbconvert_exporter": "python",
      "pygments_lexer": "ipython3",
      "version": "3.8.0"
    }
  },
  "nbformat": 4,
  "nbformat_minor": 0
}