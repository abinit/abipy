{
  "cells": [
    {
      "cell_type": "code",
      "execution_count": null,
      "metadata": {
        "collapsed": false
      },
      "outputs": [],
      "source": [
        "%matplotlib inline"
      ]
    },
    {
      "cell_type": "markdown",
      "metadata": {},
      "source": [
        "\n# Band structure w/wo magnetization\n\nCalculation of the band structure of Fe with and without magnetization.\nSee also <~abinit/tutorial/Input/tspin_1.in>\n"
      ]
    },
    {
      "cell_type": "code",
      "execution_count": null,
      "metadata": {
        "collapsed": false
      },
      "outputs": [],
      "source": [
        "import os\nimport sys\nimport abipy.data as data\nimport abipy.abilab as abilab\nimport abipy.flowtk as flowtk\n\n\ndef make_scf_nscf_inputs(nsppol, paral_kgb=1):\n    \"\"\"\n    Generate two input files for the GS and the NSCF run for given `nsppol`.\n    \"\"\"\n    # Fe normal bcc structure for test of a ferromagnetic calculation\n    multi = abilab.MultiDataset(structure=data.structure_from_ucell(\"Fe-fm\"),\n                                pseudos=data.pseudos(\"26fe.pspnc\"), ndtset=2)\n\n    # Global variables\n    global_vars = dict(\n        nsppol=nsppol,\n        ecut=18,\n        nband=8,\n        occopt=3,\n        tsmear=0.01,\n        paral_kgb=paral_kgb,\n    )\n    if nsppol == 2:\n        global_vars.update(spinat=[0.0, 0.0, 4.0])\n\n    multi.set_vars(global_vars)\n\n    # Dataset 1 (GS run)\n    multi[0].set_kmesh(ngkpt=[4,4,4], shiftk=[0.5,0.5,0.5])\n    multi[0].set_vars(tolvrs=1e-6)\n\n    # Dataset 2 (NSCF run)\n    multi[1].set_kpath(ndivsm=4)\n    multi[1].set_vars(tolwfr=1e-8)\n\n    # Generate two input files for the GS and the NSCF run\n    scf_input, nscf_input = multi.split_datasets()\n\n    return scf_input, nscf_input\n\n\ndef build_flow(options):\n    # Working directory (default is the name of the script with '.py' removed and \"run_\" replaced by \"flow_\")\n    if not options.workdir:\n        options.workdir = os.path.basename(sys.argv[0]).replace(\".py\", \"\").replace(\"run_\", \"flow_\")\n\n    # Create the Flow.\n    flow = flowtk.Flow(options.workdir, manager=options.manager)\n\n    # Create the task defining the calculation and run and register it in the flow\n    for nsppol in [1, 2]:\n        scf_input, nscf_input = make_scf_nscf_inputs(nsppol)\n        work = flowtk.BandStructureWork(scf_input, nscf_input)\n        flow.register_work(work)\n\n    return flow\n\n\n# This block generates the thumbnails in the AbiPy gallery.\n# You can safely REMOVE this part if you are using this script for production runs.\nif os.getenv(\"READTHEDOCS\", False):\n    __name__ = None\n    import tempfile\n    options = flowtk.build_flow_main_parser().parse_args([\"-w\", tempfile.mkdtemp()])\n    build_flow(options).graphviz_imshow()\n\n\n@flowtk.flow_main\ndef main(options):\n    \"\"\"\n    This is our main function that will be invoked by the script.\n    flow_main is a decorator implementing the command line interface.\n    Command line args are stored in `options`.\n    \"\"\"\n    return build_flow(options)\n\n\nif __name__ == \"__main__\":\n    sys.exit(main())"
      ]
    },
    {
      "cell_type": "markdown",
      "metadata": {},
      "source": [
        "Run the script with:\n\n    run_fe_ebands -s\n\nthen use:\n\n   abirun.py flow_fe_ebands ebands -p\n\nto analyze all the band structures produced by the Flow and plot the data\n\n<img src=\"https://github.com/abinit/abipy_assets/blob/master/run_fe_ebands.png?raw=true\" alt=\"Band structures of Fe with nsppol 1, 2.\">\n\n\n"
      ]
    }
  ],
  "metadata": {
    "kernelspec": {
      "display_name": "Python 3",
      "language": "python",
      "name": "python3"
    },
    "language_info": {
      "codemirror_mode": {
        "name": "ipython",
        "version": 3
      },
      "file_extension": ".py",
      "mimetype": "text/x-python",
      "name": "python",
      "nbconvert_exporter": "python",
      "pygments_lexer": "ipython3",
      "version": "3.8.0"
    }
  },
  "nbformat": 4,
  "nbformat_minor": 0
}