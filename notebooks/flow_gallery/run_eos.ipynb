{
  "cells": [
    {
      "cell_type": "code",
      "execution_count": null,
      "metadata": {
        "collapsed": false
      },
      "outputs": [],
      "source": [
        "%matplotlib inline"
      ]
    },
    {
      "cell_type": "markdown",
      "metadata": {},
      "source": [
        "\n# Flow for equation of state\n\nFlow to compute the equation of state by fitting E(V) at T = 0.\n"
      ]
    },
    {
      "cell_type": "code",
      "execution_count": null,
      "metadata": {
        "collapsed": false
      },
      "outputs": [],
      "source": [
        "import sys\nimport os\nimport abipy.data as abidata\nimport abipy.abilab as abilab\nimport abipy.flowtk as flowtk\n\n\ndef build_flow(options):\n    # Set working directory (default is the name of the script with '.py' removed and \"run_\" replaced by \"flow_\")\n    if not options.workdir:\n        options.workdir = os.path.basename(sys.argv[0]).replace(\".py\", \"\").replace(\"run_\", \"flow_\")\n\n    # Build GS input file.\n    pseudos = abidata.pseudos(\"Si.GGA_PBE-JTH-paw.xml\")\n    #silicon = abilab.Structure.zincblende(5.431, [\"Si\", \"Si\"], units=\"ang\")\n    silicon = abidata.cif_file(\"si.cif\")\n\n    scf_input = abilab.AbinitInput(silicon, pseudos)\n    ecut = 12\n    scf_input.set_vars(\n        ecut=ecut,\n        pawecutdg=40,\n        nband=6,\n        paral_kgb=0,\n        iomode=3,\n        toldfe=1e-9,\n    )\n\n    # K-point sampling (shifted)\n    scf_input.set_autokmesh(nksmall=4)\n\n    from abipy.flowtk.gs_works import EosWork\n    flow = flowtk.Flow(options.workdir, manager=options.manager)\n\n    # Si is cubic and atomic positions are fixed by symmetry so we\n    # use move_atoms=False to compute E(V) with SCF-GS tasks instead of\n    # performing a constant-volume optimization of the cell geometry.\n    work = EosWork.from_scf_input(scf_input, move_atoms=False, ecutsm=0.5)\n    flow.register_work(work)\n    flow.allocate(use_smartio=True)\n\n    return flow\n\n\n# This block generates the thumbnails in the AbiPy gallery.\n# You can safely REMOVE this part if you are using this script for production runs.\nif os.getenv(\"READTHEDOCS\", False):\n    __name__ = None\n    import tempfile\n    options = flowtk.build_flow_main_parser().parse_args([\"-w\", tempfile.mkdtemp()])\n    build_flow(options).graphviz_imshow()\n\n\n@flowtk.flow_main\ndef main(options):\n    \"\"\"\n    This is our main function that will be invoked by the script.\n    flow_main is a decorator implementing the command line interface.\n    Command line args are stored in `options`.\n    \"\"\"\n    return build_flow(options)\n\n\nif __name__ == \"__main__\":\n    sys.exit(main())"
      ]
    },
    {
      "cell_type": "markdown",
      "metadata": {},
      "source": [
        "Run the script with:\n\n    run_eos.py -s\n\nthen use:\n\n   abirun.py flow_eos structures\n\nto get info about the initial and final structures.\n\n.. code-block:: bash\n\n       Lattice parameters:\n                 formula  natom  angle0  angle1  angle2      a      b      c  volume  \\\n       w0_t0_in      Si2      2    60.0    60.0    60.0  3.854  3.854  3.854  40.479\n       w0_t0_out     Si2      2    60.0    60.0    60.0  3.854  3.854  3.854  40.479\n       w0_t1_in      Si2      2    60.0    60.0    60.0  3.857  3.857  3.857  40.582\n       w0_t1_out     Si2      2    60.0    60.0    60.0  3.857  3.857  3.857  40.582\n       w0_t2_in      Si2      2    60.0    60.0    60.0  3.861  3.861  3.861  40.684\n       w0_t2_out     Si2      2    60.0    60.0    60.0  3.861  3.861  3.861  40.684\n       w0_t3_in      Si2      2    60.0    60.0    60.0  3.864  3.864  3.864  40.786\n       w0_t3_out     Si2      2    60.0    60.0    60.0  3.864  3.864  3.864  40.786\n       w0_t4_in      Si2      2    60.0    60.0    60.0  3.867  3.867  3.867  40.888\n       w0_t4_out     Si2      2    60.0    60.0    60.0  3.867  3.867  3.867  40.888\n       w0_t5_in      Si2      2    60.0    60.0    60.0  3.870  3.870  3.870  40.991\n       w0_t5_out     Si2      2    60.0    60.0    60.0  3.870  3.870  3.870  40.991\n       w0_t6_in      Si2      2    60.0    60.0    60.0  3.873  3.873  3.873  41.093\n       w0_t6_out     Si2      2    60.0    60.0    60.0  3.873  3.873  3.873  41.093\n       w0_t7_in      Si2      2    60.0    60.0    60.0  3.877  3.877  3.877  41.195\n       w0_t7_out     Si2      2    60.0    60.0    60.0  3.877  3.877  3.877  41.195\n       w0_t8_in      Si2      2    60.0    60.0    60.0  3.880  3.880  3.880  41.297\n       w0_t8_out     Si2      2    60.0    60.0    60.0  3.880  3.880  3.880  41.297\n\n                 abispg_num  P [GPa]  Max|F| eV/ang task_class              status\n       w0_t0_in        None      NaN            NaN    ScfTask  Completed\n       w0_t0_out        227    1.327      9.506e-28    ScfTask  Completed\n       w0_t1_in        None      NaN            NaN    ScfTask  Completed\n       w0_t1_out        227    1.092      1.877e-27    ScfTask  Completed\n       w0_t2_in        None      NaN            NaN    ScfTask  Completed\n       w0_t2_out        227    0.859      4.649e-27    ScfTask  Completed\n       w0_t3_in        None      NaN            NaN    ScfTask  Completed\n       w0_t3_out        227    0.629      5.062e-27    ScfTask  Completed\n       w0_t4_in        None      NaN            NaN    ScfTask  Completed\n       w0_t4_out        227    0.403      5.945e-27    ScfTask  Completed\n       w0_t5_in        None      NaN            NaN    ScfTask  Completed\n       w0_t5_out        227    0.178      6.306e-27    ScfTask  Completed\n       w0_t6_in        None      NaN            NaN    ScfTask  Completed\n       w0_t6_out        227   -0.042      1.738e-27    ScfTask  Completed\n       w0_t7_in        None      NaN            NaN    ScfTask  Completed\n       w0_t7_out        227   -0.259      2.725e-27    ScfTask  Completed\n       w0_t8_in        None      NaN            NaN    ScfTask  Completed\n       w0_t8_out        227   -0.474      6.939e-27    ScfTask  Completed\n\n       Use `--verbose` to print atoms.\n\nSilicon is a cubic materials and the positions are fixed by symmeetry so we only need ScfTask to get E(V).\n\nThe EOS results are saved in the JSON file in flow_eos/w0/outdata/eos_data.json.\n\nWe can also use the GSR robot to compute and plot the EOS.\n\nUse\n\n   abirun.py flow_eos robot GSR\n\nto build a robot for GSR files and start an ipython shell.\nThen, inside ipython, type:\n\n.. code-block:: ipython\n\n       In [1]: %matplotlib\n       In [2]: robot.gridplot_eos()\n\nto produce\n\n<img src=\"https://github.com/abinit/abipy_assets/blob/master/run_eos.png?raw=true\" alt=\"Equation of state of Si obtained with different models.\">\n\n\n"
      ]
    }
  ],
  "metadata": {
    "kernelspec": {
      "display_name": "Python 3",
      "language": "python",
      "name": "python3"
    },
    "language_info": {
      "codemirror_mode": {
        "name": "ipython",
        "version": 3
      },
      "file_extension": ".py",
      "mimetype": "text/x-python",
      "name": "python",
      "nbconvert_exporter": "python",
      "pygments_lexer": "ipython3",
      "version": "3.8.0"
    }
  },
  "nbformat": 4,
  "nbformat_minor": 0
}