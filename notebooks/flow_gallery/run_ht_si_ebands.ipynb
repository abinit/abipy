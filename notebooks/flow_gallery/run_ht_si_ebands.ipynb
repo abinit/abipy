{
  "cells": [
    {
      "cell_type": "code",
      "execution_count": null,
      "metadata": {
        "collapsed": false
      },
      "outputs": [],
      "source": [
        "%matplotlib inline"
      ]
    },
    {
      "cell_type": "markdown",
      "metadata": {},
      "source": [
        "\n# Band structure Flow with factory functions\n\nThis example show how to build a flow to compute the band structure and the DOS of silicon.\nInput files are automatically generated with factory functions designed for automatic calculations.\n"
      ]
    },
    {
      "cell_type": "code",
      "execution_count": null,
      "metadata": {
        "collapsed": false
      },
      "outputs": [],
      "source": [
        "import sys\nimport os\nimport abipy.data as abidata\nimport abipy.flowtk as flowtk\n\nfrom abipy import abilab\n\n\ndef build_flow(options):\n    # Working directory (default is the name of the script with '.py' removed and \"run_\" replaced by \"flow_\")\n    if not options.workdir:\n        options.workdir = os.path.basename(sys.argv[0]).replace(\".py\", \"\").replace(\"run_\", \"flow_\")\n\n    # Initialize structure and pseudos.\n    structure = abilab.Structure.from_file(abidata.cif_file(\"si.cif\"))\n    pseudos = abidata.pseudos(\"14si.pspnc\")\n\n    # Initialize the flow.\n    flow = flowtk.Flow(workdir=options.workdir, manager=options.manager)\n\n    # Use the ebands_input factory function to build a MultiDataset.\n    # keyword args are optional (default values are given or computed automatically, see docs).\n    multi = abilab.ebands_input(structure, pseudos, kppa=40, dos_kppa=80,\n                                nscf_nband=6, ndivsm=10, ecut=6, spin_mode=\"unpolarized\")\n\n    work = flowtk.BandStructureWork(scf_input=multi[0], nscf_input=multi[1], dos_inputs=multi[2])\n    flow.register_work(work)\n\n    return flow\n\n\n# This block generates the thumbnails in the AbiPy gallery.\n# You can safely REMOVE this part if you are using this script for production runs.\nif os.getenv(\"READTHEDOCS\", False):\n    __name__ = None\n    import tempfile\n    options = flowtk.build_flow_main_parser().parse_args([\"-w\", tempfile.mkdtemp()])\n    build_flow(options).graphviz_imshow()\n\n\n@flowtk.flow_main\ndef main(options):\n    \"\"\"\n    This is our main function that will be invoked by the script.\n    flow_main is a decorator implementing the command line interface.\n    Command line args are stored in `options`.\n    \"\"\"\n    return build_flow(options)\n\n\nif __name__ == \"__main__\":\n    sys.exit(main())"
      ]
    },
    {
      "cell_type": "markdown",
      "metadata": {},
      "source": [
        "Run the script with:\n\n    run_hs_si_ebands.py -s\n\nUse:\n\n   abirun.py flow_h_si_ebands deps\n\nTo print the connections among the tasks.\n\n.. code-block:: bash\n\n    <ScfTask, node_id=241095, workdir=flow_ht_si_ebands/w0/t0>\n\n    <NscfTask, node_id=241096, workdir=flow_ht_si_ebands/w0/t1>\n      +--<ScfTask, node_id=241095, workdir=flow_ht_si_ebands/w0/t0>\n\n    <NscfTask, node_id=241097, workdir=flow_ht_si_ebands/w0/t2>\n      +--<ScfTask, node_id=241095, workdir=flow_ht_si_ebands/w0/t0>\n\n``w0/t1`` is a band structure calculation along a k-path\n while ``w0/t2`` produced KS eigenvalues in the IBZ for the DOS.\n\n You can use ipython to plot the electronic bands with the DOS:\n\n.. code-block:: ipython\n\n   In [1]: %matplotlib\n   In [2]: from abipy import abilab\n   In [3]: gsr_kpath = abilab.abiopen(\"flow_ht_si_ebands/w0/t1/outdata/out_GSR.nc\")\n   In [4]: gsr_kmesh = abilab.abiopen(\"flow_ht_si_ebands/w0/t2/outdata/out_GSR.nc\")\n   In [5]: gsr_kpath.ebands.plot_with_edos(gsr_kmesh.ebands.get_edos())\n\n<img src=\"https://github.com/abinit/abipy_assets/blob/master/run_ht_si_ebands.png?raw=true\" alt=\"Band structure of Si in the IBZ and along a k-path\">\n\n\n"
      ]
    }
  ],
  "metadata": {
    "kernelspec": {
      "display_name": "Python 3",
      "language": "python",
      "name": "python3"
    },
    "language_info": {
      "codemirror_mode": {
        "name": "ipython",
        "version": 3
      },
      "file_extension": ".py",
      "mimetype": "text/x-python",
      "name": "python",
      "nbconvert_exporter": "python",
      "pygments_lexer": "ipython3",
      "version": "3.8.0"
    }
  },
  "nbformat": 4,
  "nbformat_minor": 0
}